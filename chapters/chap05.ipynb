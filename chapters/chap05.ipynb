{
  "cells": [
    {
      "cell_type": "markdown",
      "id": "1331faa1",
      "metadata": {
        "id": "1331faa1"
      },
      "source": [
        "You can order print and ebook versions of *Think Python 3e* from\n",
        "[Bookshop.org](https://bookshop.org/a/98697/9781098155438) and\n",
        "[Amazon](https://www.amazon.com/_/dp/1098155432?smid=ATVPDKIKX0DER&_encoding=UTF8&tag=oreilly20-20&_encoding=UTF8&tag=greenteapre01-20&linkCode=ur2&linkId=e2a529f94920295d27ec8a06e757dc7c&camp=1789&creative=9325)."
      ]
    },
    {
      "cell_type": "code",
      "execution_count": 84,
      "id": "8119ba50",
      "metadata": {
        "tags": [],
        "id": "8119ba50",
        "outputId": "47428199-a8bb-44f7-b377-b0ffed87ee45",
        "colab": {
          "base_uri": "https://localhost:8080/"
        }
      },
      "outputs": [
        {
          "output_type": "stream",
          "name": "stdout",
          "text": [
            "Downloaded thinkpython.py\n",
            "Downloaded diagram.py\n",
            "Downloaded jupyturtle.py\n"
          ]
        }
      ],
      "source": [
        "from os.path import basename, exists\n",
        "\n",
        "def download(url):\n",
        "    filename = basename(url)\n",
        "    if not exists(filename):\n",
        "        from urllib.request import urlretrieve\n",
        "\n",
        "        local, _ = urlretrieve(url, filename)\n",
        "        print(\"Downloaded \" + str(local))\n",
        "    return filename\n",
        "\n",
        "download('https://github.com/AllenDowney/ThinkPython/raw/v3/thinkpython.py');\n",
        "download('https://github.com/AllenDowney/ThinkPython/raw/v3/diagram.py');\n",
        "download('https://github.com/ramalho/jupyturtle/releases/download/2024-03/jupyturtle.py');\n",
        "\n",
        "import thinkpython"
      ]
    },
    {
      "cell_type": "markdown",
      "id": "75b60d6c",
      "metadata": {
        "id": "75b60d6c"
      },
      "source": [
        "# Conditionals and Recursion\n",
        "\n",
        "The main topic of this chapter is the `if` statement, which executes different code depending on the state of the program.\n",
        "And with the `if` statement we'll be able to explore one of the most powerful ideas in computing, **recursion**.\n",
        "\n",
        "But we'll start with three new features: the modulus operator, boolean expressions, and logical operators."
      ]
    },
    {
      "cell_type": "markdown",
      "id": "4ab7caf4",
      "metadata": {
        "id": "4ab7caf4"
      },
      "source": [
        "## Integer division and modulus\n",
        "\n",
        "Recall that the integer division operator, `//`, divides two numbers and rounds\n",
        "down to an integer.\n",
        "For example, suppose the run time of a movie is 105 minutes.\n",
        "You might want to know how long that is in hours.\n",
        "Conventional division returns a floating-point number:"
      ]
    },
    {
      "cell_type": "code",
      "execution_count": 15,
      "id": "30bd0ba7",
      "metadata": {
        "id": "30bd0ba7",
        "outputId": "b0bcb1c5-c6b1-4808-92a9-ef1d757e8508",
        "colab": {
          "base_uri": "https://localhost:8080/"
        }
      },
      "outputs": [
        {
          "output_type": "execute_result",
          "data": {
            "text/plain": [
              "1.75"
            ]
          },
          "metadata": {},
          "execution_count": 15
        }
      ],
      "source": [
        "minutes = 105\n",
        "minutes / 60"
      ]
    },
    {
      "cell_type": "markdown",
      "id": "3f224403",
      "metadata": {
        "id": "3f224403"
      },
      "source": [
        "But we don't normally write hours with decimal points.\n",
        "Integer division returns the integer number of hours, rounding down:"
      ]
    },
    {
      "cell_type": "code",
      "execution_count": 16,
      "id": "451e3198",
      "metadata": {
        "id": "451e3198",
        "outputId": "d9878c64-9c58-40bf-868e-6f8e39f9fb9b",
        "colab": {
          "base_uri": "https://localhost:8080/"
        }
      },
      "outputs": [
        {
          "output_type": "execute_result",
          "data": {
            "text/plain": [
              "1"
            ]
          },
          "metadata": {},
          "execution_count": 16
        }
      ],
      "source": [
        "minutes = 105\n",
        "hours = minutes // 60\n",
        "hours"
      ]
    },
    {
      "cell_type": "markdown",
      "id": "bfa9b0cf",
      "metadata": {
        "id": "bfa9b0cf"
      },
      "source": [
        "To get the remainder, you could subtract off one hour in minutes:"
      ]
    },
    {
      "cell_type": "code",
      "execution_count": 17,
      "id": "64b92876",
      "metadata": {
        "id": "64b92876",
        "outputId": "a3aa6b74-2744-46e8-caa4-363047cd9d22",
        "colab": {
          "base_uri": "https://localhost:8080/"
        }
      },
      "outputs": [
        {
          "output_type": "execute_result",
          "data": {
            "text/plain": [
              "45"
            ]
          },
          "metadata": {},
          "execution_count": 17
        }
      ],
      "source": [
        "remainder = minutes - hours * 60\n",
        "remainder"
      ]
    },
    {
      "cell_type": "markdown",
      "id": "05caf27f",
      "metadata": {
        "id": "05caf27f"
      },
      "source": [
        "Or you could use the **modulus operator**, `%`, which divides two numbers and returns the remainder."
      ]
    },
    {
      "cell_type": "code",
      "execution_count": 18,
      "id": "0a593844",
      "metadata": {
        "id": "0a593844",
        "outputId": "d9af7163-d3cc-4852-c47a-c9a5e6655e17",
        "colab": {
          "base_uri": "https://localhost:8080/"
        }
      },
      "outputs": [
        {
          "output_type": "execute_result",
          "data": {
            "text/plain": [
              "45"
            ]
          },
          "metadata": {},
          "execution_count": 18
        }
      ],
      "source": [
        "remainder = minutes % 60\n",
        "remainder"
      ]
    },
    {
      "cell_type": "markdown",
      "id": "18c1e0d0",
      "metadata": {
        "id": "18c1e0d0"
      },
      "source": [
        "The modulus operator is more useful than it might seem.\n",
        "For example, it can check whether one number is divisible by another -- if `x % y` is zero, then `x` is divisible by `y`.\n",
        "\n",
        "Also, it can extract the right-most digit or digits from a number.\n",
        "For example, `x % 10` yields the right-most digit of `x` (in base 10).\n",
        "Similarly, `x % 100` yields the last two digits."
      ]
    },
    {
      "cell_type": "code",
      "execution_count": 19,
      "id": "5bd341f7",
      "metadata": {
        "id": "5bd341f7",
        "outputId": "3952510b-32e5-48cd-fd36-83003e54c36d",
        "colab": {
          "base_uri": "https://localhost:8080/"
        }
      },
      "outputs": [
        {
          "output_type": "execute_result",
          "data": {
            "text/plain": [
              "3"
            ]
          },
          "metadata": {},
          "execution_count": 19
        }
      ],
      "source": [
        "x = 123\n",
        "x % 10"
      ]
    },
    {
      "cell_type": "code",
      "execution_count": 20,
      "id": "367fce0c",
      "metadata": {
        "id": "367fce0c",
        "outputId": "6b64c3c9-6f08-4dc4-b927-66bee8c62ad6",
        "colab": {
          "base_uri": "https://localhost:8080/"
        }
      },
      "outputs": [
        {
          "output_type": "execute_result",
          "data": {
            "text/plain": [
              "23"
            ]
          },
          "metadata": {},
          "execution_count": 20
        }
      ],
      "source": [
        "x % 100"
      ]
    },
    {
      "cell_type": "markdown",
      "id": "f2344fc0",
      "metadata": {
        "id": "f2344fc0"
      },
      "source": [
        "Finally, the modulus operator can do \"clock arithmetic\".\n",
        "For example, if an event starts at 11 AM and lasts three hours, we can use the modulus operator to figure out what time it ends."
      ]
    },
    {
      "cell_type": "code",
      "execution_count": 21,
      "id": "db33a44d",
      "metadata": {
        "id": "db33a44d",
        "outputId": "1e7bbbff-dc8a-42fe-f306-354122b9c868",
        "colab": {
          "base_uri": "https://localhost:8080/"
        }
      },
      "outputs": [
        {
          "output_type": "execute_result",
          "data": {
            "text/plain": [
              "2"
            ]
          },
          "metadata": {},
          "execution_count": 21
        }
      ],
      "source": [
        "start = 11\n",
        "duration = 3\n",
        "end = (start + duration) % 12\n",
        "end"
      ]
    },
    {
      "cell_type": "markdown",
      "id": "351c30df",
      "metadata": {
        "id": "351c30df"
      },
      "source": [
        "The event would end at 2 PM."
      ]
    },
    {
      "cell_type": "markdown",
      "id": "5ed1b58b",
      "metadata": {
        "id": "5ed1b58b"
      },
      "source": [
        "## Boolean Expressions\n",
        "\n",
        "A **boolean expression** is an expression that is either true or false.\n",
        "For example, the following expressions use the equals operator, `==`, which compares two values and produces `True` if they are equal and `False` otherwise:"
      ]
    },
    {
      "cell_type": "code",
      "execution_count": 22,
      "id": "85589d38",
      "metadata": {
        "id": "85589d38",
        "outputId": "9ec6772a-098f-4690-d089-329e34e84004",
        "colab": {
          "base_uri": "https://localhost:8080/"
        }
      },
      "outputs": [
        {
          "output_type": "execute_result",
          "data": {
            "text/plain": [
              "True"
            ]
          },
          "metadata": {},
          "execution_count": 22
        }
      ],
      "source": [
        "5 == 5"
      ]
    },
    {
      "cell_type": "code",
      "execution_count": 23,
      "id": "3c9c8f61",
      "metadata": {
        "id": "3c9c8f61",
        "outputId": "fb8c9ce5-85ec-47a6-a138-c2b00fb4bbb9",
        "colab": {
          "base_uri": "https://localhost:8080/"
        }
      },
      "outputs": [
        {
          "output_type": "execute_result",
          "data": {
            "text/plain": [
              "False"
            ]
          },
          "metadata": {},
          "execution_count": 23
        }
      ],
      "source": [
        "5 == 7"
      ]
    },
    {
      "cell_type": "markdown",
      "id": "41fbc642",
      "metadata": {
        "id": "41fbc642"
      },
      "source": [
        "A common error is to use a single equal sign (`=`) instead of a double equal sign (`==`).\n",
        "Remember that `=` assigns a value to a variable and `==` compares two values."
      ]
    },
    {
      "cell_type": "code",
      "execution_count": 32,
      "id": "c0e51bcc",
      "metadata": {
        "id": "c0e51bcc"
      },
      "outputs": [],
      "source": [
        "x = 5\n",
        "y = 7"
      ]
    },
    {
      "cell_type": "code",
      "execution_count": 31,
      "id": "a6be44db",
      "metadata": {
        "id": "a6be44db",
        "outputId": "e965256a-9b69-4ecd-ec4a-4dcd88bc2ca3",
        "colab": {
          "base_uri": "https://localhost:8080/"
        }
      },
      "outputs": [
        {
          "output_type": "execute_result",
          "data": {
            "text/plain": [
              "False"
            ]
          },
          "metadata": {},
          "execution_count": 31
        }
      ],
      "source": [
        "x == y"
      ]
    },
    {
      "cell_type": "markdown",
      "id": "d3ec6b48",
      "metadata": {
        "id": "d3ec6b48"
      },
      "source": [
        "`True` and `False` are special values that belong to the type `bool`;\n",
        "they are not strings:"
      ]
    },
    {
      "cell_type": "code",
      "execution_count": 29,
      "id": "90fb1c9c",
      "metadata": {
        "id": "90fb1c9c",
        "outputId": "a9badb36-d7eb-459a-df91-76ca6c9da9b8",
        "colab": {
          "base_uri": "https://localhost:8080/"
        }
      },
      "outputs": [
        {
          "output_type": "execute_result",
          "data": {
            "text/plain": [
              "bool"
            ]
          },
          "metadata": {},
          "execution_count": 29
        }
      ],
      "source": [
        "type(True)"
      ]
    },
    {
      "cell_type": "code",
      "execution_count": 28,
      "id": "c1cae572",
      "metadata": {
        "id": "c1cae572",
        "outputId": "da9da3c4-3966-4be4-e184-3bb4a83172da",
        "colab": {
          "base_uri": "https://localhost:8080/"
        }
      },
      "outputs": [
        {
          "output_type": "execute_result",
          "data": {
            "text/plain": [
              "bool"
            ]
          },
          "metadata": {},
          "execution_count": 28
        }
      ],
      "source": [
        "type(False)"
      ]
    },
    {
      "cell_type": "markdown",
      "id": "451b2e8d",
      "metadata": {
        "id": "451b2e8d"
      },
      "source": [
        "The `==` operator is one of the **relational operators**; the others are:"
      ]
    },
    {
      "cell_type": "code",
      "execution_count": 33,
      "id": "c901fe2b",
      "metadata": {
        "id": "c901fe2b",
        "outputId": "b8361281-ee7c-4725-a26e-33eca6508b7a",
        "colab": {
          "base_uri": "https://localhost:8080/"
        }
      },
      "outputs": [
        {
          "output_type": "execute_result",
          "data": {
            "text/plain": [
              "True"
            ]
          },
          "metadata": {},
          "execution_count": 33
        }
      ],
      "source": [
        "x != y               # x is not equal to y"
      ]
    },
    {
      "cell_type": "code",
      "execution_count": 36,
      "id": "1457949f",
      "metadata": {
        "id": "1457949f",
        "outputId": "9eeeea9c-eb6a-4764-a9dd-38be2fd9f86b",
        "colab": {
          "base_uri": "https://localhost:8080/"
        }
      },
      "outputs": [
        {
          "output_type": "execute_result",
          "data": {
            "text/plain": [
              "False"
            ]
          },
          "metadata": {},
          "execution_count": 36
        }
      ],
      "source": [
        "x > y                # x is greater than y"
      ]
    },
    {
      "cell_type": "code",
      "execution_count": 34,
      "id": "56bb7eed",
      "metadata": {
        "id": "56bb7eed",
        "outputId": "f6ccd000-f4a2-4e8d-da23-4c85503746d0",
        "colab": {
          "base_uri": "https://localhost:8080/"
        }
      },
      "outputs": [
        {
          "output_type": "execute_result",
          "data": {
            "text/plain": [
              "True"
            ]
          },
          "metadata": {},
          "execution_count": 34
        }
      ],
      "source": [
        "x < y               # x is less than to y"
      ]
    },
    {
      "cell_type": "code",
      "execution_count": 35,
      "id": "1cdcc7ab",
      "metadata": {
        "id": "1cdcc7ab",
        "outputId": "3ffa5cdf-1236-46ac-b99c-998025a04f12",
        "colab": {
          "base_uri": "https://localhost:8080/"
        }
      },
      "outputs": [
        {
          "output_type": "execute_result",
          "data": {
            "text/plain": [
              "False"
            ]
          },
          "metadata": {},
          "execution_count": 35
        }
      ],
      "source": [
        "x >= y               # x is greater than or equal to y"
      ]
    },
    {
      "cell_type": "code",
      "execution_count": 37,
      "id": "df1a1287",
      "metadata": {
        "id": "df1a1287",
        "outputId": "c36b6e64-58fc-4988-f03d-315ef8305718",
        "colab": {
          "base_uri": "https://localhost:8080/"
        }
      },
      "outputs": [
        {
          "output_type": "execute_result",
          "data": {
            "text/plain": [
              "True"
            ]
          },
          "metadata": {},
          "execution_count": 37
        }
      ],
      "source": [
        "x <= y               # x is less than or equal to y"
      ]
    },
    {
      "cell_type": "markdown",
      "id": "db5a9477",
      "metadata": {
        "id": "db5a9477"
      },
      "source": [
        "## Logical operators\n",
        "\n",
        "To combine boolean values into expressions, we can use **logical operators**.\n",
        "The most common are `and`, ` or`, and `not`.\n",
        "The meaning of these operators is similar to their meaning in English.\n",
        "For example, the value of the following expression is `True` only if `x` is greater than `0` *and* less than `10`."
      ]
    },
    {
      "cell_type": "code",
      "execution_count": 38,
      "id": "848c5f2c",
      "metadata": {
        "id": "848c5f2c",
        "outputId": "ee4e66e1-f755-4dcc-b36d-da28b963a34b",
        "colab": {
          "base_uri": "https://localhost:8080/"
        }
      },
      "outputs": [
        {
          "output_type": "execute_result",
          "data": {
            "text/plain": [
              "True"
            ]
          },
          "metadata": {},
          "execution_count": 38
        }
      ],
      "source": [
        "x > 0 and x < 10"
      ]
    },
    {
      "cell_type": "markdown",
      "id": "e8c14026",
      "metadata": {
        "id": "e8c14026"
      },
      "source": [
        "The following expression is `True` if *either or both* of the conditions is true, that is, if the number is divisible by 2 *or* 3:"
      ]
    },
    {
      "cell_type": "code",
      "execution_count": 39,
      "id": "eb66ee6a",
      "metadata": {
        "id": "eb66ee6a",
        "outputId": "6dc5dc7f-8296-4c39-c5a0-c339d6a893df",
        "colab": {
          "base_uri": "https://localhost:8080/"
        }
      },
      "outputs": [
        {
          "output_type": "execute_result",
          "data": {
            "text/plain": [
              "False"
            ]
          },
          "metadata": {},
          "execution_count": 39
        }
      ],
      "source": [
        "x % 2 == 0 or x % 3 == 0"
      ]
    },
    {
      "cell_type": "markdown",
      "id": "3bd0ef52",
      "metadata": {
        "id": "3bd0ef52"
      },
      "source": [
        "Finally, the `not` operator negates a boolean expression, so the following expression is `True` if `x > y` is `False`."
      ]
    },
    {
      "cell_type": "code",
      "execution_count": 40,
      "id": "6de8b97c",
      "metadata": {
        "id": "6de8b97c",
        "outputId": "f8b3ef39-5956-40b1-9c53-4cb9864a27aa",
        "colab": {
          "base_uri": "https://localhost:8080/"
        }
      },
      "outputs": [
        {
          "output_type": "execute_result",
          "data": {
            "text/plain": [
              "True"
            ]
          },
          "metadata": {},
          "execution_count": 40
        }
      ],
      "source": [
        "not x > y"
      ]
    },
    {
      "cell_type": "markdown",
      "id": "fc6098c2",
      "metadata": {
        "id": "fc6098c2"
      },
      "source": [
        "Strictly speaking, the operands of a logical operator should be boolean expressions, but Python is not very strict.\n",
        "Any nonzero number is interpreted as `True`:"
      ]
    },
    {
      "cell_type": "code",
      "execution_count": 41,
      "id": "add63275",
      "metadata": {
        "id": "add63275",
        "outputId": "ebba0bba-2999-4fa2-9fa7-db07962ae7c5",
        "colab": {
          "base_uri": "https://localhost:8080/"
        }
      },
      "outputs": [
        {
          "output_type": "execute_result",
          "data": {
            "text/plain": [
              "True"
            ]
          },
          "metadata": {},
          "execution_count": 41
        }
      ],
      "source": [
        "42 and True"
      ]
    },
    {
      "cell_type": "markdown",
      "id": "102ceab9",
      "metadata": {
        "id": "102ceab9"
      },
      "source": [
        "This flexibility can be useful, but there are some subtleties to it that can be confusing.\n",
        "You might want to avoid it."
      ]
    },
    {
      "cell_type": "markdown",
      "id": "6b0f2dc1",
      "metadata": {
        "id": "6b0f2dc1"
      },
      "source": [
        "## if statements\n",
        "\n",
        "In order to write useful programs, we almost always need the ability to\n",
        "check conditions and change the behavior of the program accordingly.\n",
        "**Conditional statements** give us this ability. The simplest form is\n",
        "the `if` statement:"
      ]
    },
    {
      "cell_type": "code",
      "execution_count": 42,
      "id": "80937bef",
      "metadata": {
        "id": "80937bef",
        "outputId": "e846bfcf-c308-4c6b-9b5e-ee9eabf1610f",
        "colab": {
          "base_uri": "https://localhost:8080/"
        }
      },
      "outputs": [
        {
          "output_type": "stream",
          "name": "stdout",
          "text": [
            "x is positive\n"
          ]
        }
      ],
      "source": [
        "if x > 0:\n",
        "    print('x is positive')"
      ]
    },
    {
      "cell_type": "markdown",
      "id": "973f705e",
      "metadata": {
        "id": "973f705e"
      },
      "source": [
        "`if` is a Python keyword.\n",
        "`if` statements have the same structure as function definitions: a\n",
        "header followed by an indented statement or sequence of statements called a **block**.\n",
        "\n",
        "The boolean expression after `if` is called the **condition**.\n",
        "If it is true, the statements in the indented block run. If not, they don't.\n",
        "\n",
        "There is no limit to the number of statements that can appear in the block, but there has to be at least one.\n",
        "Occasionally, it is useful to have a block that does nothing -- usually as a place keeper for code you haven't written yet.\n",
        "In that case, you can use the `pass` statement, which does nothing."
      ]
    },
    {
      "cell_type": "code",
      "execution_count": 43,
      "id": "bc74a318",
      "metadata": {
        "id": "bc74a318"
      },
      "outputs": [],
      "source": [
        "if x < 0:\n",
        "    pass          # TODO: need to handle negative values!"
      ]
    },
    {
      "cell_type": "markdown",
      "id": "adf3f6c5",
      "metadata": {
        "id": "adf3f6c5"
      },
      "source": [
        "The word `TODO` in a comment is a conventional reminder that there's something you need to do later."
      ]
    },
    {
      "cell_type": "markdown",
      "id": "eb39bcd9",
      "metadata": {
        "id": "eb39bcd9"
      },
      "source": [
        "## The `else` clause\n",
        "\n",
        "An `if` statement can have a second part, called an `else` clause.\n",
        "The syntax looks like this:"
      ]
    },
    {
      "cell_type": "code",
      "execution_count": 44,
      "id": "d16f49f2",
      "metadata": {
        "id": "d16f49f2",
        "outputId": "a2f94811-a2fe-4073-c518-e00323445ccb",
        "colab": {
          "base_uri": "https://localhost:8080/"
        }
      },
      "outputs": [
        {
          "output_type": "stream",
          "name": "stdout",
          "text": [
            "x is odd\n"
          ]
        }
      ],
      "source": [
        "if x % 2 == 0:\n",
        "    print('x is even')\n",
        "else:\n",
        "    print('x is odd')"
      ]
    },
    {
      "cell_type": "markdown",
      "id": "e7dc8943",
      "metadata": {
        "id": "e7dc8943"
      },
      "source": [
        "If the condition is true, the first indented statement runs; otherwise, the second indented statement runs.\n",
        "\n",
        "In this example, if `x` is even, the remainder when `x` is divided by `2` is `0`, so the condition is true and the program displays `x is even`.\n",
        "If `x` is odd, the remainder is `1`, so the condition\n",
        "is false, and the program displays `x is odd`.\n",
        "\n",
        "Since the condition must be true or false, exactly one of the alternatives will run.\n",
        "The alternatives are called **branches**."
      ]
    },
    {
      "cell_type": "markdown",
      "id": "20c8adb6",
      "metadata": {
        "id": "20c8adb6"
      },
      "source": [
        "## Chained conditionals\n",
        "\n",
        "Sometimes there are more than two possibilities and we need more than two branches.\n",
        "One way to express a computation like that is a **chained conditional**, which includes an `elif` clause."
      ]
    },
    {
      "cell_type": "code",
      "execution_count": 45,
      "id": "309fccb8",
      "metadata": {
        "id": "309fccb8",
        "outputId": "0474fde8-8ffc-433e-f156-6c6f62ddc2c0",
        "colab": {
          "base_uri": "https://localhost:8080/"
        }
      },
      "outputs": [
        {
          "output_type": "stream",
          "name": "stdout",
          "text": [
            "x is less than y\n"
          ]
        }
      ],
      "source": [
        "if x < y:\n",
        "    print('x is less than y')\n",
        "elif x > y:\n",
        "    print('x is greater than y')\n",
        "else:\n",
        "    print('x and y are equal')"
      ]
    },
    {
      "cell_type": "markdown",
      "id": "46916379",
      "metadata": {
        "id": "46916379"
      },
      "source": [
        "`elif` is an abbreviation of \"else if\".\n",
        "There is no limit on the number of `elif` clauses.\n",
        "If there is an `else` clause, it has to be at the end, but there doesn't have to be\n",
        "one.\n",
        "\n",
        "Each condition is checked in order.\n",
        "If the first is false, the next is checked, and so on.\n",
        "If one of them is true, the corresponding branch runs and the `if` statement ends.\n",
        "Even if more than one condition is true, only the first true branch runs."
      ]
    },
    {
      "cell_type": "markdown",
      "id": "e0c0b9dd",
      "metadata": {
        "id": "e0c0b9dd"
      },
      "source": [
        "## Nested Conditionals\n",
        "\n",
        "One conditional can also be nested within another.\n",
        "We could have written the example in the previous section like this:"
      ]
    },
    {
      "cell_type": "code",
      "execution_count": 46,
      "id": "d77539cf",
      "metadata": {
        "id": "d77539cf",
        "outputId": "c8592996-fce6-48e6-a497-4c0a636a01ff",
        "colab": {
          "base_uri": "https://localhost:8080/"
        }
      },
      "outputs": [
        {
          "output_type": "stream",
          "name": "stdout",
          "text": [
            "x is less than y\n"
          ]
        }
      ],
      "source": [
        "if x == y:\n",
        "    print('x and y are equal')\n",
        "else:\n",
        "    if x < y:\n",
        "        print('x is less than y')\n",
        "    else:\n",
        "        print('x is greater than y')"
      ]
    },
    {
      "cell_type": "markdown",
      "id": "29f67a0a",
      "metadata": {
        "id": "29f67a0a"
      },
      "source": [
        "The outer `if` statement contains two branches.\n",
        "The first branch contains a simple statement. The second branch contains another `if` statement, which has two branches of its own.\n",
        "Those two branches are both simple statements, although they could have been conditional statements as well.\n",
        "\n",
        "Although the indentation of the statements makes the structure apparent, **nested conditionals** can be difficult to read.\n",
        "I suggest you avoid them when you can.\n",
        "\n",
        "Logical operators often provide a way to simplify nested conditional statements.\n",
        "Here's an example with a nested conditional."
      ]
    },
    {
      "cell_type": "code",
      "execution_count": 47,
      "id": "91cac1a0",
      "metadata": {
        "id": "91cac1a0",
        "outputId": "f7fa3d74-45c2-4e7f-be65-0f386b6a35fe",
        "colab": {
          "base_uri": "https://localhost:8080/"
        }
      },
      "outputs": [
        {
          "output_type": "stream",
          "name": "stdout",
          "text": [
            "x is a positive single-digit number.\n"
          ]
        }
      ],
      "source": [
        "if 0 < x:\n",
        "    if x < 10:\n",
        "        print('x is a positive single-digit number.')"
      ]
    },
    {
      "cell_type": "markdown",
      "id": "5292eb11",
      "metadata": {
        "id": "5292eb11"
      },
      "source": [
        "The `print` statement runs only if we make it past both conditionals, so we get the same effect with the `and` operator."
      ]
    },
    {
      "cell_type": "code",
      "execution_count": 48,
      "id": "f8ba1724",
      "metadata": {
        "id": "f8ba1724",
        "outputId": "1433df2b-6e8a-4aa6-9327-81f44dc0123d",
        "colab": {
          "base_uri": "https://localhost:8080/"
        }
      },
      "outputs": [
        {
          "output_type": "stream",
          "name": "stdout",
          "text": [
            "x is a positive single-digit number.\n"
          ]
        }
      ],
      "source": [
        "if 0 < x and x < 10:\n",
        "    print('x is a positive single-digit number.')"
      ]
    },
    {
      "cell_type": "markdown",
      "id": "dd8e808a",
      "metadata": {
        "id": "dd8e808a"
      },
      "source": [
        "For this kind of condition, Python provides a more concise option:"
      ]
    },
    {
      "cell_type": "code",
      "execution_count": 49,
      "id": "014cd6f4",
      "metadata": {
        "id": "014cd6f4",
        "outputId": "32d7a64d-9aa2-4b37-c27c-18a472bf6e0d",
        "colab": {
          "base_uri": "https://localhost:8080/"
        }
      },
      "outputs": [
        {
          "output_type": "stream",
          "name": "stdout",
          "text": [
            "x is a positive single-digit number.\n"
          ]
        }
      ],
      "source": [
        "if 0 < x < 10:\n",
        "    print('x is a positive single-digit number.')"
      ]
    },
    {
      "cell_type": "markdown",
      "id": "db583cd9",
      "metadata": {
        "id": "db583cd9"
      },
      "source": [
        "## Recursion\n",
        "\n",
        "It is legal for a function to call itself.\n",
        "It may not be obvious why that is a good thing, but it turns out to be one of the most magical things a program can do.\n",
        "Here's an example."
      ]
    },
    {
      "cell_type": "code",
      "execution_count": 50,
      "id": "17904e98",
      "metadata": {
        "id": "17904e98"
      },
      "outputs": [],
      "source": [
        "def countdown(n):\n",
        "    if n <= 0:\n",
        "        print('Blastoff!')\n",
        "    else:\n",
        "        print(n)\n",
        "        countdown(n-1)"
      ]
    },
    {
      "cell_type": "markdown",
      "id": "c88e0dc7",
      "metadata": {
        "id": "c88e0dc7"
      },
      "source": [
        "If `n` is 0 or negative, `countdown` outputs the word, \"Blastoff!\" Otherwise, it\n",
        "outputs `n` and then calls itself, passing `n-1` as an argument.\n",
        "\n",
        "Here's what happens when we call this function with the argument `3`."
      ]
    },
    {
      "cell_type": "code",
      "execution_count": 51,
      "id": "6c1e32e2",
      "metadata": {
        "id": "6c1e32e2",
        "outputId": "9615ad27-4268-4e4b-b894-f807cbf40b16",
        "colab": {
          "base_uri": "https://localhost:8080/"
        }
      },
      "outputs": [
        {
          "output_type": "stream",
          "name": "stdout",
          "text": [
            "3\n",
            "2\n",
            "1\n",
            "Blastoff!\n"
          ]
        }
      ],
      "source": [
        "countdown(3)"
      ]
    },
    {
      "cell_type": "markdown",
      "id": "3f3c87ec",
      "metadata": {
        "id": "3f3c87ec"
      },
      "source": [
        "The execution of `countdown` begins with `n=3`, and since `n` is greater\n",
        "than `0`, it displays `3`, and then calls itself\\...\n",
        "\n",
        "> The execution of `countdown` begins with `n=2`, and since `n` is\n",
        "> greater than `0`, it displays `2`, and then calls itself\\...\n",
        ">\n",
        "> > The execution of `countdown` begins with `n=1`, and since `n` is\n",
        "> > greater than `0`, it displays `1`, and then calls itself\\...\n",
        "> >\n",
        "> > > The execution of `countdown` begins with `n=0`, and since `n` is\n",
        "> > > not greater than `0`, it displays \"Blastoff!\" and returns.\n",
        "> >\n",
        "> > The `countdown` that got `n=1` returns.\n",
        ">\n",
        "> The `countdown` that got `n=2` returns.\n",
        "\n",
        "The `countdown` that got `n=3` returns."
      ]
    },
    {
      "cell_type": "markdown",
      "id": "782e95bb",
      "metadata": {
        "id": "782e95bb"
      },
      "source": [
        "A function that calls itself is **recursive**.\n",
        "As another example, we can write a function that prints a string `n` times."
      ]
    },
    {
      "cell_type": "code",
      "execution_count": 52,
      "id": "1bb13f8e",
      "metadata": {
        "id": "1bb13f8e"
      },
      "outputs": [],
      "source": [
        "def print_n_times(string, n):\n",
        "    if n > 0:\n",
        "        print(string)\n",
        "        print_n_times(string, n-1)"
      ]
    },
    {
      "cell_type": "markdown",
      "id": "73d07c17",
      "metadata": {
        "id": "73d07c17"
      },
      "source": [
        "If `n` is positive, `print_n_times` displays the value of `string` and then calls itself, passing along `string` and `n-1` as arguments.\n",
        "\n",
        "If `n` is `0` or negative, the condition is false and `print_n_times` does nothing.\n",
        "\n",
        "Here's how it works."
      ]
    },
    {
      "cell_type": "code",
      "execution_count": 53,
      "id": "e7b68c57",
      "metadata": {
        "id": "e7b68c57",
        "outputId": "caf74586-ea49-4732-9309-e98bedfe7a22",
        "colab": {
          "base_uri": "https://localhost:8080/"
        }
      },
      "outputs": [
        {
          "output_type": "stream",
          "name": "stdout",
          "text": [
            "Spam \n",
            "Spam \n",
            "Spam \n",
            "Spam \n"
          ]
        }
      ],
      "source": [
        "print_n_times('Spam ', 4)"
      ]
    },
    {
      "cell_type": "markdown",
      "id": "1fb55a78",
      "metadata": {
        "id": "1fb55a78"
      },
      "source": [
        "For simple examples like this, it is probably easier to use a `for`\n",
        "loop. But we will see examples later that are hard to write with a `for`\n",
        "loop and easy to write with recursion, so it is good to start early."
      ]
    },
    {
      "cell_type": "markdown",
      "id": "c652c739",
      "metadata": {
        "id": "c652c739"
      },
      "source": [
        "## Stack diagrams for recursive functions\n",
        "\n",
        "Here's a stack diagram that shows the frames created when we called `countdown` with `n = 3`."
      ]
    },
    {
      "cell_type": "code",
      "execution_count": 54,
      "id": "643148da",
      "metadata": {
        "tags": [],
        "id": "643148da"
      },
      "outputs": [],
      "source": [
        "from diagram import make_frame, Stack\n",
        "\n",
        "frames = []\n",
        "for n in [3,2,1,0]:\n",
        "    d = dict(n=n)\n",
        "    frame = make_frame(d, name='countdown', dy=-0.3, loc='left')\n",
        "    frames.append(frame)\n",
        "\n",
        "stack = Stack(frames, dy=-0.5)"
      ]
    },
    {
      "cell_type": "code",
      "execution_count": 55,
      "id": "a8510119",
      "metadata": {
        "tags": [],
        "id": "a8510119",
        "outputId": "2e4ee721-a570-4d37-ccec-92a820bb75e7",
        "colab": {
          "base_uri": "https://localhost:8080/",
          "height": 241
        }
      },
      "outputs": [
        {
          "output_type": "display_data",
          "data": {
            "text/plain": [
              "<Figure size 174x204 with 1 Axes>"
            ],
            "image/png": "[encoded data removed]"
          },
          "metadata": {}
        }
      ],
      "source": [
        "from diagram import diagram, adjust\n",
        "\n",
        "\n",
        "width, height, x, y = [1.74, 2.04, 1.05, 1.77]\n",
        "ax = diagram(width, height)\n",
        "bbox = stack.draw(ax, x, y)\n",
        "# adjust(x, y, bbox)"
      ]
    },
    {
      "cell_type": "markdown",
      "id": "9282331b",
      "metadata": {
        "id": "9282331b"
      },
      "source": [
        "The four `countdown` frames have different values for the parameter `n`.\n",
        "The bottom of the stack, where `n=0`, is called the **base case**.\n",
        "It does not make a recursive call, so there are no more frames."
      ]
    },
    {
      "cell_type": "code",
      "execution_count": 56,
      "id": "a2a376b3",
      "metadata": {
        "tags": [],
        "id": "a2a376b3",
        "outputId": "a2a3a55b-a3e5-480a-94e3-728286332bd4",
        "colab": {
          "base_uri": "https://localhost:8080/",
          "height": 191
        }
      },
      "outputs": [
        {
          "output_type": "display_data",
          "data": {
            "text/plain": [
              "<Figure size 353x154 with 1 Axes>"
            ],
            "image/png": "[encoded data removed]"
          },
          "metadata": {}
        }
      ],
      "source": [
        "from diagram import make_frame, Stack\n",
        "from diagram import diagram, adjust\n",
        "\n",
        "frames = []\n",
        "for n in [2,1,0]:\n",
        "    d = dict(string='Hello', n=n)\n",
        "    frame = make_frame(d, name='print_n_times', dx=1.3, loc='left')\n",
        "    frames.append(frame)\n",
        "\n",
        "stack = Stack(frames, dy=-0.5)\n",
        "\n",
        "width, height, x, y = [3.53, 1.54, 1.54, 1.27]\n",
        "ax = diagram(width, height)\n",
        "bbox = stack.draw(ax, x, y)\n",
        "# adjust(x, y, bbox)"
      ]
    },
    {
      "cell_type": "markdown",
      "id": "37bbc2b8",
      "metadata": {
        "id": "37bbc2b8"
      },
      "source": [
        "## Infinite recursion\n",
        "\n",
        "If a recursion never reaches a base case, it goes on making recursive\n",
        "calls forever, and the program never terminates. This is known as\n",
        "**infinite recursion**, and it is generally not a good idea.\n",
        "Here's a minimal function with an infinite recursion."
      ]
    },
    {
      "cell_type": "code",
      "execution_count": 57,
      "id": "af487feb",
      "metadata": {
        "id": "af487feb"
      },
      "outputs": [],
      "source": [
        "def recurse():\n",
        "    recurse()"
      ]
    },
    {
      "cell_type": "markdown",
      "id": "450a20ac",
      "metadata": {
        "id": "450a20ac"
      },
      "source": [
        "Every time `recurse` is called, it calls itself, which creates another frame.\n",
        "In Python, there is a limit to the number of frames that can be on the stack at the same time.\n",
        "If a program exceeds the limit, it causes a runtime error."
      ]
    },
    {
      "cell_type": "code",
      "execution_count": 58,
      "id": "e5d6c732",
      "metadata": {
        "tags": [],
        "id": "e5d6c732",
        "outputId": "9bdb3798-55c9-4556-9bf1-d4414002d4d6",
        "colab": {
          "base_uri": "https://localhost:8080/"
        }
      },
      "outputs": [
        {
          "output_type": "stream",
          "name": "stdout",
          "text": [
            "Exception reporting mode: Context\n"
          ]
        }
      ],
      "source": [
        "%xmode Context"
      ]
    },
    {
      "cell_type": "code",
      "execution_count": 59,
      "id": "22454b51",
      "metadata": {
        "tags": [],
        "id": "22454b51",
        "outputId": "6dbad621-7c34-48b0-f0a0-9c32d3b20961",
        "colab": {
          "base_uri": "https://localhost:8080/",
          "height": 269
        }
      },
      "outputs": [
        {
          "output_type": "error",
          "ename": "RecursionError",
          "evalue": "maximum recursion depth exceeded",
          "traceback": [
            "\u001b[0;31m---------------------------------------------------------------------------\u001b[0m",
            "\u001b[0;31mRecursionError\u001b[0m                            Traceback (most recent call last)",
            "\u001b[0;32m/tmp/ipython-input-1911777761.py\u001b[0m in \u001b[0;36m<cell line: 0>\u001b[0;34m()\u001b[0m\n\u001b[0;32m----> 1\u001b[0;31m \u001b[0mrecurse\u001b[0m\u001b[0;34m(\u001b[0m\u001b[0;34m)\u001b[0m\u001b[0;34m\u001b[0m\u001b[0;34m\u001b[0m\u001b[0m\n\u001b[0m",
            "\u001b[0;32m/tmp/ipython-input-1787528210.py\u001b[0m in \u001b[0;36mrecurse\u001b[0;34m()\u001b[0m\n\u001b[1;32m      1\u001b[0m \u001b[0;32mdef\u001b[0m \u001b[0mrecurse\u001b[0m\u001b[0;34m(\u001b[0m\u001b[0;34m)\u001b[0m\u001b[0;34m:\u001b[0m\u001b[0;34m\u001b[0m\u001b[0;34m\u001b[0m\u001b[0m\n\u001b[0;32m----> 2\u001b[0;31m     \u001b[0mrecurse\u001b[0m\u001b[0;34m(\u001b[0m\u001b[0;34m)\u001b[0m\u001b[0;34m\u001b[0m\u001b[0;34m\u001b[0m\u001b[0m\n\u001b[0m",
            "... last 1 frames repeated, from the frame below ...\n",
            "\u001b[0;32m/tmp/ipython-input-1787528210.py\u001b[0m in \u001b[0;36mrecurse\u001b[0;34m()\u001b[0m\n\u001b[1;32m      1\u001b[0m \u001b[0;32mdef\u001b[0m \u001b[0mrecurse\u001b[0m\u001b[0;34m(\u001b[0m\u001b[0;34m)\u001b[0m\u001b[0;34m:\u001b[0m\u001b[0;34m\u001b[0m\u001b[0;34m\u001b[0m\u001b[0m\n\u001b[0;32m----> 2\u001b[0;31m     \u001b[0mrecurse\u001b[0m\u001b[0;34m(\u001b[0m\u001b[0;34m)\u001b[0m\u001b[0;34m\u001b[0m\u001b[0;34m\u001b[0m\u001b[0m\n\u001b[0m",
            "\u001b[0;31mRecursionError\u001b[0m: maximum recursion depth exceeded"
          ]
        }
      ],
      "source": [
        "%%expect RecursionError\n",
        "\n",
        "recurse()"
      ]
    },
    {
      "cell_type": "markdown",
      "id": "39fc5c31",
      "metadata": {
        "id": "39fc5c31"
      },
      "source": [
        "The traceback indicates that there were almost 3000 frames on the stack when the error occurred.\n",
        "\n",
        "If you encounter an infinite recursion by accident, review your function to confirm that there is a base case that does not make a recursive call. And if there is a base case, check whether you are guaranteed to reach it."
      ]
    },
    {
      "cell_type": "markdown",
      "id": "45299414",
      "metadata": {
        "id": "45299414"
      },
      "source": [
        "## Keyboard input\n",
        "\n",
        "The programs we have written so far accept no input from the user. They\n",
        "just do the same thing every time.\n",
        "\n",
        "Python provides a built-in function called `input` that stops the\n",
        "program and waits for the user to type something. When the user presses\n",
        "*Return* or *Enter*, the program resumes and `input` returns what the user\n",
        "typed as a string."
      ]
    },
    {
      "cell_type": "code",
      "execution_count": 60,
      "id": "ac0fb4a6",
      "metadata": {
        "tags": [],
        "id": "ac0fb4a6"
      },
      "outputs": [],
      "source": [
        "# Solution goes here"
      ]
    },
    {
      "cell_type": "code",
      "execution_count": 61,
      "id": "f6a2e4d6",
      "metadata": {
        "id": "f6a2e4d6",
        "outputId": "88b968ff-6521-41bd-fcbf-a01fdba78b22",
        "colab": {
          "base_uri": "https://localhost:8080/"
        }
      },
      "outputs": [
        {
          "name": "stdout",
          "output_type": "stream",
          "text": [
            "hi\n"
          ]
        }
      ],
      "source": [
        "text = input()"
      ]
    },
    {
      "cell_type": "markdown",
      "id": "acf9ec53",
      "metadata": {
        "id": "acf9ec53"
      },
      "source": [
        "Before getting input from the user, you might want to display a prompt\n",
        "telling the user what to type. `input` can take a prompt as an argument:"
      ]
    },
    {
      "cell_type": "code",
      "execution_count": 62,
      "id": "e0600e5e",
      "metadata": {
        "tags": [],
        "id": "e0600e5e"
      },
      "outputs": [],
      "source": [
        "# Solution goes here"
      ]
    },
    {
      "cell_type": "code",
      "execution_count": 63,
      "id": "964346f0",
      "metadata": {
        "id": "964346f0",
        "outputId": "e75c2fc2-0841-4b34-bf81-b514dd7c5273",
        "colab": {
          "base_uri": "https://localhost:8080/",
          "height": 70
        }
      },
      "outputs": [
        {
          "name": "stdout",
          "output_type": "stream",
          "text": [
            "What...is your name?\n",
            "Esther\n"
          ]
        },
        {
          "output_type": "execute_result",
          "data": {
            "text/plain": [
              "'Esther'"
            ],
            "application/vnd.google.colaboratory.intrinsic+json": {
              "type": "string"
            }
          },
          "metadata": {},
          "execution_count": 63
        }
      ],
      "source": [
        "name = input('What...is your name?\\n')\n",
        "name"
      ]
    },
    {
      "cell_type": "markdown",
      "id": "1b754b39",
      "metadata": {
        "id": "1b754b39"
      },
      "source": [
        "The sequence `\\n` at the end of the prompt represents a **newline**, which is a special character that causes a line break -- that way the user's input appears below the prompt.\n",
        "\n",
        "If you expect the user to type an integer, you can use the `int` function to convert the return value to `int`."
      ]
    },
    {
      "cell_type": "code",
      "execution_count": 64,
      "id": "590983cd",
      "metadata": {
        "tags": [],
        "id": "590983cd"
      },
      "outputs": [],
      "source": [
        "# Solution goes here"
      ]
    },
    {
      "cell_type": "code",
      "execution_count": 65,
      "id": "60a484d7",
      "metadata": {
        "id": "60a484d7",
        "outputId": "b5484347-239d-4ca8-af1b-5290f211dac2",
        "colab": {
          "base_uri": "https://localhost:8080/",
          "height": 70
        }
      },
      "outputs": [
        {
          "name": "stdout",
          "output_type": "stream",
          "text": [
            "What...is the airspeed velocity of an unladen swallow?\n",
            "four\n"
          ]
        },
        {
          "output_type": "execute_result",
          "data": {
            "text/plain": [
              "'four'"
            ],
            "application/vnd.google.colaboratory.intrinsic+json": {
              "type": "string"
            }
          },
          "metadata": {},
          "execution_count": 65
        }
      ],
      "source": [
        "prompt = 'What...is the airspeed velocity of an unladen swallow?\\n'\n",
        "speed = input(prompt)\n",
        "speed"
      ]
    },
    {
      "cell_type": "markdown",
      "id": "0a65f2af",
      "metadata": {
        "id": "0a65f2af"
      },
      "source": [
        "But if they type something that's not an integer, you'll get a runtime error."
      ]
    },
    {
      "cell_type": "code",
      "execution_count": 66,
      "id": "8d3d6049",
      "metadata": {
        "tags": [],
        "id": "8d3d6049",
        "outputId": "72d50a6c-cab4-407a-a81c-a97e6796e32e",
        "colab": {
          "base_uri": "https://localhost:8080/"
        }
      },
      "outputs": [
        {
          "output_type": "stream",
          "name": "stdout",
          "text": [
            "Exception reporting mode: Minimal\n"
          ]
        }
      ],
      "source": [
        "%xmode Minimal"
      ]
    },
    {
      "cell_type": "code",
      "execution_count": 67,
      "id": "a04e3016",
      "metadata": {
        "tags": [],
        "id": "a04e3016",
        "outputId": "5d8ab92e-f9f1-4cee-aad9-14d082fafd8c",
        "colab": {
          "base_uri": "https://localhost:8080/",
          "height": 54
        }
      },
      "outputs": [
        {
          "output_type": "error",
          "ename": "ValueError",
          "evalue": "invalid literal for int() with base 10: 'four'",
          "traceback": [
            "\u001b[0;31mValueError\u001b[0m\u001b[0;31m:\u001b[0m invalid literal for int() with base 10: 'four'\n"
          ]
        }
      ],
      "source": [
        "%%expect ValueError\n",
        "\n",
        "int(speed)"
      ]
    },
    {
      "cell_type": "markdown",
      "id": "a4ce3ed5",
      "metadata": {
        "id": "a4ce3ed5"
      },
      "source": [
        "We will see how to handle this kind of error later."
      ]
    },
    {
      "cell_type": "markdown",
      "id": "14c1d3dc",
      "metadata": {
        "id": "14c1d3dc"
      },
      "source": [
        "## Debugging\n",
        "\n",
        "When a syntax or runtime error occurs, the error message contains a lot\n",
        "of information, but it can be overwhelming. The most useful parts are\n",
        "usually:\n",
        "\n",
        "-   What kind of error it was, and\n",
        "\n",
        "-   Where it occurred.\n",
        "\n",
        "Syntax errors are usually easy to find, but there are a few gotchas.\n",
        "Errors related to spaces and tabs can be tricky because they are invisible\n",
        "and we are used to ignoring them."
      ]
    },
    {
      "cell_type": "code",
      "execution_count": 68,
      "id": "b82642f6",
      "metadata": {
        "tags": [],
        "id": "b82642f6",
        "outputId": "aa8d3675-ebab-423b-8891-0ab1867d577d",
        "colab": {
          "base_uri": "https://localhost:8080/",
          "height": 106
        }
      },
      "outputs": [
        {
          "output_type": "error",
          "ename": "IndentationError",
          "evalue": "unexpected indent (ipython-input-2365500740.py, line 2)",
          "traceback": [
            "\u001b[0;36m  File \u001b[0;32m\"/tmp/ipython-input-2365500740.py\"\u001b[0;36m, line \u001b[0;32m2\u001b[0m\n\u001b[0;31m    y = 6\u001b[0m\n\u001b[0m    ^\u001b[0m\n\u001b[0;31mIndentationError\u001b[0m\u001b[0;31m:\u001b[0m unexpected indent\n"
          ]
        }
      ],
      "source": [
        "%%expect IndentationError\n",
        "x = 5\n",
        " y = 6"
      ]
    },
    {
      "cell_type": "markdown",
      "id": "d1d06263",
      "metadata": {
        "id": "d1d06263"
      },
      "source": [
        "In this example, the problem is that the second line is indented by one space.\n",
        "But the error message points to `y`, which is misleading.\n",
        "Error messages indicate where the problem was discovered, but the actual error might be earlier in the code.\n",
        "\n",
        "The same is true of runtime errors.\n",
        "For example, suppose you are trying to convert a ratio to decibels, like this:"
      ]
    },
    {
      "cell_type": "code",
      "execution_count": 69,
      "id": "583ef53c",
      "metadata": {
        "tags": [],
        "id": "583ef53c",
        "outputId": "0a2b8d3c-b1cd-4f8f-df6d-8baa23513a8f",
        "colab": {
          "base_uri": "https://localhost:8080/"
        }
      },
      "outputs": [
        {
          "output_type": "stream",
          "name": "stdout",
          "text": [
            "Exception reporting mode: Context\n"
          ]
        }
      ],
      "source": [
        "%xmode Context"
      ]
    },
    {
      "cell_type": "code",
      "execution_count": 75,
      "id": "2f4b6082",
      "metadata": {
        "tags": [],
        "id": "2f4b6082",
        "outputId": "04dfa881-6af8-404d-eece-478e9d9c15b6",
        "colab": {
          "base_uri": "https://localhost:8080/",
          "height": 176
        }
      },
      "outputs": [
        {
          "output_type": "error",
          "ename": "ValueError",
          "evalue": "math domain error",
          "traceback": [
            "\u001b[0;31m---------------------------------------------------------------------------\u001b[0m",
            "\u001b[0;31mValueError\u001b[0m                                Traceback (most recent call last)",
            "\u001b[0;32m/tmp/ipython-input-3830115708.py\u001b[0m in \u001b[0;36m<cell line: 0>\u001b[0;34m()\u001b[0m\n\u001b[1;32m      3\u001b[0m \u001b[0mdenominator\u001b[0m \u001b[0;34m=\u001b[0m \u001b[0;36m10\u001b[0m\u001b[0;34m\u001b[0m\u001b[0;34m\u001b[0m\u001b[0m\n\u001b[1;32m      4\u001b[0m \u001b[0mratio\u001b[0m \u001b[0;34m=\u001b[0m \u001b[0mnumerator\u001b[0m \u001b[0;34m//\u001b[0m \u001b[0mdenominator\u001b[0m\u001b[0;34m\u001b[0m\u001b[0;34m\u001b[0m\u001b[0m\n\u001b[0;32m----> 5\u001b[0;31m \u001b[0mdecibels\u001b[0m \u001b[0;34m=\u001b[0m \u001b[0;36m10\u001b[0m \u001b[0;34m*\u001b[0m \u001b[0mmath\u001b[0m\u001b[0;34m.\u001b[0m\u001b[0mlog10\u001b[0m\u001b[0;34m(\u001b[0m\u001b[0mratio\u001b[0m\u001b[0;34m)\u001b[0m\u001b[0;34m\u001b[0m\u001b[0;34m\u001b[0m\u001b[0m\n\u001b[0m",
            "\u001b[0;31mValueError\u001b[0m: math domain error"
          ]
        }
      ],
      "source": [
        "%%expect ValueError\n",
        "import math\n",
        "numerator = 9\n",
        "denominator = 10\n",
        "ratio = numerator // denominator\n",
        "decibels = 10 * math.log10(ratio)"
      ]
    },
    {
      "cell_type": "markdown",
      "id": "55914374",
      "metadata": {
        "id": "55914374"
      },
      "source": [
        "The error message indicates line 5, but there is nothing wrong with that line.\n",
        "The problem is in line 4, which uses integer division instead of floating-point division -- as a result, the value of `ratio` is `0`.\n",
        "When we call `math.log10`, we get a `ValueError` with the message `math domain error`, because `0` is not in the \"domain\" of valid arguments for `math.log10`, because the logarithm of `0` is undefined.\n",
        "\n",
        "In general, you should take the time to read error messages carefully, but don't assume that everything they say is correct."
      ]
    },
    {
      "cell_type": "markdown",
      "id": "8ffe690e",
      "metadata": {
        "id": "8ffe690e"
      },
      "source": [
        "## Glossary\n",
        "\n",
        "**recursion:**\n",
        "The process of calling the function that is currently executing.\n",
        "\n",
        "**modulus operator:**\n",
        "An operator, `%`, that works on integers and returns the remainder when one number is divided by another.\n",
        "\n",
        "**boolean expression:**\n",
        "An expression whose value is either `True` or `False`.\n",
        "\n",
        "**relational operator:**\n",
        "One of the operators that compares its operands: `==`, `!=`, `>`, `<`, `>=`, and `<=`.\n",
        "\n",
        "**logical operator:**\n",
        "One of the operators that combines boolean expressions, including `and`, `or`, and `not`.\n",
        "\n",
        "**conditional statement:**\n",
        "A statement that controls the flow of execution depending on some condition.\n",
        "\n",
        "**condition:**\n",
        "The boolean expression in a conditional statement that determines which branch runs.\n",
        "\n",
        "**block:**\n",
        "One or more statements indented to indicate they are part of another statement.\n",
        "\n",
        "**branch:**\n",
        "One of the alternative sequences of statements in a conditional statement.\n",
        "\n",
        "**chained conditional:**\n",
        "A conditional statement with a series of alternative branches.\n",
        "\n",
        "**nested conditional:**\n",
        "A conditional statement that appears in one of the branches of another conditional statement.\n",
        "\n",
        "**recursive:**\n",
        "A function that calls itself is recursive.\n",
        "\n",
        "**base case:**\n",
        "A conditional branch in a recursive function that does not make a recursive call.\n",
        "\n",
        "**infinite recursion:**\n",
        "A recursion that doesn't have a base case, or never reaches it.\n",
        "Eventually, an infinite recursion causes a runtime error.\n",
        "\n",
        "**newline:**\n",
        "A character that creates a line break between two parts of a string."
      ]
    },
    {
      "cell_type": "markdown",
      "id": "8d783953",
      "metadata": {
        "id": "8d783953"
      },
      "source": [
        "## Exercises"
      ]
    },
    {
      "cell_type": "code",
      "execution_count": 76,
      "id": "66aae3cb",
      "metadata": {
        "tags": [],
        "id": "66aae3cb",
        "outputId": "523a9b3e-88c4-43d0-a9d3-653511832f07",
        "colab": {
          "base_uri": "https://localhost:8080/"
        }
      },
      "outputs": [
        {
          "output_type": "stream",
          "name": "stdout",
          "text": [
            "Exception reporting mode: Verbose\n"
          ]
        }
      ],
      "source": [
        "# This cell tells Jupyter to provide detailed debugging information\n",
        "# when a runtime error occurs. Run it before working on the exercises.\n",
        "\n",
        "%xmode Verbose"
      ]
    },
    {
      "cell_type": "markdown",
      "id": "02f9f1d7",
      "metadata": {
        "id": "02f9f1d7"
      },
      "source": [
        "### Ask a virtual assistant\n",
        "\n",
        "* Ask a virtual assistant, \"What are some uses of the modulus operator?\"\n",
        "\n",
        "* Python provides operators to compute the logical operations `and`, `or`, and `not`, but it doesn't have an operator that computes the exclusive `or` operation, usually written `xor`. Ask an assistant \"What is the logical xor operation and how do I compute it in Python?\"\n",
        "\n",
        "In this chapter, we saw two ways to write an `if` statement with three branches, using a chained conditional or a nested conditional.\n",
        "You can use a virtual assistant to convert from one to the other.\n",
        "For example, ask a VA, \"Convert this statement to a chained conditional.\""
      ]
    },
    {
      "cell_type": "code",
      "execution_count": 77,
      "id": "ade1ecb4",
      "metadata": {
        "tags": [],
        "id": "ade1ecb4"
      },
      "outputs": [],
      "source": [
        "x = 5\n",
        "y = 7"
      ]
    },
    {
      "cell_type": "code",
      "execution_count": 78,
      "id": "dc7026c2",
      "metadata": {
        "id": "dc7026c2",
        "outputId": "9047841c-767e-45bd-cf2e-ff3410f5b4a2",
        "colab": {
          "base_uri": "https://localhost:8080/"
        }
      },
      "outputs": [
        {
          "output_type": "stream",
          "name": "stdout",
          "text": [
            "x is less than y\n"
          ]
        }
      ],
      "source": [
        "if x == y:\n",
        "    print('x and y are equal')\n",
        "else:\n",
        "    if x < y:\n",
        "        print('x is less than y')\n",
        "    else:\n",
        "        print('x is greater than y')"
      ]
    },
    {
      "cell_type": "markdown",
      "id": "9c2a8466",
      "metadata": {
        "id": "9c2a8466"
      },
      "source": [
        "Ask a VA, \"Rewrite this statement with a single conditional.\""
      ]
    },
    {
      "cell_type": "code",
      "execution_count": 79,
      "id": "1fd919ea",
      "metadata": {
        "id": "1fd919ea",
        "outputId": "78ed41b5-5742-4056-c3b9-1b4b1fb33454",
        "colab": {
          "base_uri": "https://localhost:8080/"
        }
      },
      "outputs": [
        {
          "output_type": "stream",
          "name": "stdout",
          "text": [
            "x is a positive single-digit number.\n"
          ]
        }
      ],
      "source": [
        "if 0 < x:\n",
        "    if x < 10:\n",
        "        print('x is a positive single-digit number.')"
      ]
    },
    {
      "cell_type": "markdown",
      "id": "e0fbed08",
      "metadata": {
        "id": "e0fbed08"
      },
      "source": [
        "See if a VA can simplify this unnecessary complexity."
      ]
    },
    {
      "cell_type": "code",
      "execution_count": 80,
      "id": "1e71702e",
      "metadata": {
        "id": "1e71702e",
        "outputId": "5a1d25d5-0cab-4aeb-9b7f-a421ee0826a6",
        "colab": {
          "base_uri": "https://localhost:8080/"
        }
      },
      "outputs": [
        {
          "output_type": "stream",
          "name": "stdout",
          "text": [
            "x is a positive single-digit number.\n"
          ]
        }
      ],
      "source": [
        "if not x <= 0 and not x >= 10:\n",
        "    print('x is a positive single-digit number.')"
      ]
    },
    {
      "cell_type": "markdown",
      "id": "74ef776d",
      "metadata": {
        "id": "74ef776d"
      },
      "source": [
        "Here's an attempt at a recursive function that counts down by two."
      ]
    },
    {
      "cell_type": "code",
      "execution_count": 3,
      "id": "84cbd5a4",
      "metadata": {
        "id": "84cbd5a4"
      },
      "outputs": [],
      "source": [
        "def countdown_by_two(n):\n",
        "    if n <= 0:\n",
        "        print('Blastoff!')\n",
        "    else:\n",
        "          print(n)\n",
        "          countdown_by_two(n-2)"
      ]
    },
    {
      "cell_type": "markdown",
      "id": "77178e79",
      "metadata": {
        "id": "77178e79"
      },
      "source": [
        "It seems to work."
      ]
    },
    {
      "cell_type": "code",
      "execution_count": 6,
      "id": "b0918789",
      "metadata": {
        "id": "b0918789",
        "outputId": "2e245c6b-5eda-49b1-c155-4ea2f741be96",
        "colab": {
          "base_uri": "https://localhost:8080/"
        }
      },
      "outputs": [
        {
          "output_type": "stream",
          "name": "stdout",
          "text": [
            "6\n",
            "4\n",
            "2\n",
            "Blastoff!\n"
          ]
        }
      ],
      "source": [
        "countdown_by_two(6)"
      ]
    },
    {
      "cell_type": "markdown",
      "id": "c9d3a8dc",
      "metadata": {
        "id": "c9d3a8dc"
      },
      "source": [
        "But it has an error. Ask a virtual assistant what's wrong and how to fix it.\n",
        "Paste the solution it provides back here and test it."
      ]
    },
    {
      "cell_type": "markdown",
      "id": "240a3888",
      "metadata": {
        "id": "240a3888"
      },
      "source": [
        "### Exercise\n",
        "\n",
        "The `time` module provides a function, also called `time`, that returns\n",
        "returns the number of seconds since the \"Unix epoch\", which is January 1, 1970, 00:00:00 UTC (Coordinated Universal Time)."
      ]
    },
    {
      "cell_type": "code",
      "execution_count": 8,
      "id": "1e7a2c07",
      "metadata": {
        "id": "1e7a2c07",
        "outputId": "eaae17b6-b000-477d-ba4c-76fe47be8f30",
        "colab": {
          "base_uri": "https://localhost:8080/"
        }
      },
      "outputs": [
        {
          "output_type": "execute_result",
          "data": {
            "text/plain": [
              "1761606505.9435763"
            ]
          },
          "metadata": {},
          "execution_count": 8
        }
      ],
      "source": [
        "from time import time\n",
        "\n",
        "now = time()\n",
        "now"
      ]
    },
    {
      "cell_type": "markdown",
      "id": "054c3197",
      "metadata": {
        "id": "054c3197"
      },
      "source": [
        "Use integer division and the modulus operator to compute the number of days since January 1, 1970 and the current time of day in hours, minutes, and seconds."
      ]
    },
    {
      "cell_type": "markdown",
      "id": "310196ba",
      "metadata": {
        "tags": [],
        "id": "310196ba"
      },
      "source": [
        "You can read more about the `time` module at <https://docs.python.org/3/library/time.html>."
      ]
    },
    {
      "cell_type": "code",
      "execution_count": 7,
      "id": "c5fa57b2",
      "metadata": {
        "id": "c5fa57b2",
        "outputId": "b0f7f252-b6c4-4071-bed6-e21d1aba0bf1",
        "colab": {
          "base_uri": "https://localhost:8080/"
        }
      },
      "outputs": [
        {
          "output_type": "execute_result",
          "data": {
            "text/plain": [
              "4826317.6458754325"
            ]
          },
          "metadata": {},
          "execution_count": 7
        }
      ],
      "source": [
        "1761605940.7445328/365"
      ]
    },
    {
      "cell_type": "code",
      "execution_count": 6,
      "id": "322ddd0a",
      "metadata": {
        "id": "322ddd0a",
        "outputId": "089c7940-3434-4884-c5ff-ccdeaa0ffeca",
        "colab": {
          "base_uri": "https://localhost:8080/"
        }
      },
      "outputs": [
        {
          "output_type": "execute_result",
          "data": {
            "text/plain": [
              "235.74453282356262"
            ]
          },
          "metadata": {},
          "execution_count": 6
        }
      ],
      "source": [
        "1761605940.7445328 % 365"
      ]
    },
    {
      "cell_type": "code",
      "execution_count": null,
      "id": "fc43df7d",
      "metadata": {
        "id": "fc43df7d"
      },
      "outputs": [],
      "source": [
        "# Solution goes here"
      ]
    },
    {
      "cell_type": "code",
      "execution_count": null,
      "id": "0184d21a",
      "metadata": {
        "id": "0184d21a"
      },
      "outputs": [],
      "source": [
        "# Solution goes here"
      ]
    },
    {
      "cell_type": "markdown",
      "id": "6b1fd514",
      "metadata": {
        "id": "6b1fd514"
      },
      "source": [
        "### Exercise\n",
        "\n",
        "If you are given three sticks, you may or may not be able to arrange\n",
        "them in a triangle. For example, if one of the sticks is 12 inches long\n",
        "and the other two are one inch long, you will not be able to get the\n",
        "short sticks to meet in the middle. For any three lengths, there is a\n",
        "test to see if it is possible to form a triangle:\n",
        "\n",
        "> If any of the three lengths is greater than the sum of the other two,\n",
        "> then you cannot form a triangle. Otherwise, you can. (If the sum of\n",
        "> two lengths equals the third, they form what is called a \"degenerate\"\n",
        "> triangle.)\n",
        "\n",
        "Write a function named `is_triangle` that takes three integers as\n",
        "arguments, and that prints either \"Yes\" or \"No\", depending on\n",
        "whether you can or cannot form a triangle from sticks with the given\n",
        "lengths. Hint: Use a chained conditional.\n",
        "\n"
      ]
    },
    {
      "cell_type": "code",
      "execution_count": 72,
      "id": "06381639",
      "metadata": {
        "tags": [],
        "id": "06381639"
      },
      "outputs": [],
      "source": [
        "def is_triangle(side_a, side_b, side_c):\n",
        "    \"\"\"Print whether three sides form a triangle, a degenerate triangle, or not a triangle.\"\"\"\n",
        "    if side_a + side_b > side_c and side_a + side_c > side_b and side_b + side_c > side_a:\n",
        "        print(\"Yes\")\n",
        "    elif side_a + side_b == side_c or side_a + side_c == side_b or side_b + side_c == side_a:\n",
        "        print(\"Yes\")\n",
        "    else:\n",
        "        print(\"No\")\n"
      ]
    },
    {
      "cell_type": "markdown",
      "id": "2842401c",
      "metadata": {
        "tags": [],
        "id": "2842401c"
      },
      "source": [
        "Test your function with the following cases."
      ]
    },
    {
      "cell_type": "code",
      "execution_count": 73,
      "id": "156273af",
      "metadata": {
        "tags": [],
        "id": "156273af",
        "outputId": "fe9c8a22-3568-46fb-e18d-7182a482d863",
        "colab": {
          "base_uri": "https://localhost:8080/"
        }
      },
      "outputs": [
        {
          "output_type": "stream",
          "name": "stdout",
          "text": [
            "Yes\n"
          ]
        }
      ],
      "source": [
        "is_triangle(4, 5, 6)   # should be Yes"
      ]
    },
    {
      "cell_type": "code",
      "execution_count": 74,
      "id": "e00793f4",
      "metadata": {
        "tags": [],
        "id": "e00793f4",
        "outputId": "c70b4c5f-b3de-444d-9dc2-400ac384da17",
        "colab": {
          "base_uri": "https://localhost:8080/"
        }
      },
      "outputs": [
        {
          "output_type": "stream",
          "name": "stdout",
          "text": [
            "Yes\n"
          ]
        }
      ],
      "source": [
        "is_triangle(1, 2, 3)   # should be Yes"
      ]
    },
    {
      "cell_type": "code",
      "execution_count": 75,
      "id": "d2911c71",
      "metadata": {
        "tags": [],
        "id": "d2911c71",
        "outputId": "caea94da-986a-415d-ca54-9fa280375401",
        "colab": {
          "base_uri": "https://localhost:8080/"
        }
      },
      "outputs": [
        {
          "output_type": "stream",
          "name": "stdout",
          "text": [
            "No\n"
          ]
        }
      ],
      "source": [
        "is_triangle(6, 2, 3)   # should be No"
      ]
    },
    {
      "cell_type": "code",
      "execution_count": 76,
      "id": "2b05586e",
      "metadata": {
        "tags": [],
        "id": "2b05586e",
        "outputId": "0432e654-442c-4886-c4f6-a2b7065e0042",
        "colab": {
          "base_uri": "https://localhost:8080/"
        }
      },
      "outputs": [
        {
          "output_type": "stream",
          "name": "stdout",
          "text": [
            "No\n"
          ]
        }
      ],
      "source": [
        "is_triangle(1, 1, 12)   # should be No"
      ]
    },
    {
      "cell_type": "markdown",
      "id": "2ba42106",
      "metadata": {
        "id": "2ba42106"
      },
      "source": [
        "### Exercise\n",
        "\n",
        "What is the output of the following program? Draw a stack diagram that\n",
        "shows the state of the program when it prints the result."
      ]
    },
    {
      "cell_type": "code",
      "execution_count": 77,
      "id": "dac374ad",
      "metadata": {
        "id": "dac374ad",
        "outputId": "d22af8a2-9769-4db3-afc9-054e18624617",
        "colab": {
          "base_uri": "https://localhost:8080/"
        }
      },
      "outputs": [
        {
          "output_type": "stream",
          "name": "stdout",
          "text": [
            "6\n"
          ]
        }
      ],
      "source": [
        "def recurse(n, s):\n",
        "    if n == 0:\n",
        "        print(s)\n",
        "    else:\n",
        "        recurse(n-1, n+s)\n",
        "\n",
        "recurse(3, 0)"
      ]
    },
    {
      "cell_type": "code",
      "execution_count": null,
      "id": "a438cec5",
      "metadata": {
        "id": "a438cec5"
      },
      "outputs": [],
      "source": [
        "# Solution goes here"
      ]
    },
    {
      "cell_type": "code",
      "execution_count": null,
      "id": "2e3f56c7",
      "metadata": {
        "tags": [],
        "id": "2e3f56c7"
      },
      "outputs": [],
      "source": [
        "# Solution goes here"
      ]
    },
    {
      "cell_type": "markdown",
      "id": "bca9517d",
      "metadata": {
        "id": "bca9517d"
      },
      "source": [
        "### Exercise\n",
        "\n",
        "The following exercises use the `jupyturtle` module, described in Chapter 4.\n",
        "\n",
        "Read the following function and see if you can figure out what it does.\n",
        "Then run it and see if you got it right.\n",
        "Adjust the values of `length`, `angle` and `factor` and see what effect they have on the result.\n",
        "If you are not sure you understand how it works, try asking a virtual assistant."
      ]
    },
    {
      "cell_type": "code",
      "execution_count": 106,
      "id": "2b0d60a1",
      "metadata": {
        "collapsed": true,
        "id": "2b0d60a1"
      },
      "outputs": [],
      "source": [
        "from jupyturtle import forward, left, right, back\n",
        "\n",
        "def draw(length):\n",
        "    angle = 50\n",
        "    factor = 0.6\n",
        "\n",
        "    if length > 5:\n",
        "        forward(length)\n",
        "        left(angle)\n",
        "        draw(factor * length)\n",
        "        right(2 * angle)\n",
        "        draw(factor * length)\n",
        "        left(angle)\n",
        "        back(length)\n"
      ]
    },
    {
      "cell_type": "code",
      "execution_count": 116,
      "id": "ef0256ee",
      "metadata": {
        "id": "ef0256ee",
        "outputId": "6e42440a-fd88-4302-e9a8-d0c8664e26b6",
        "colab": {
          "base_uri": "https://localhost:8080/",
          "height": 172
        }
      },
      "outputs": [
        {
          "output_type": "display_data",
          "data": {
            "text/plain": [
              "<IPython.core.display.HTML object>"
            ],
            "text/html": [
              "<svg width=\"300\" height=\"150\">\n",
              "    <rect width=\"100%\" height=\"100%\" fill=\"#F3F3F7\" />\n",
              "\n",
              "<line x1=\"150\" y1=\"75\" x2=\"250.0\" y2=\"75.0\"\n",
              "    stroke=\"#663399\" stroke-width=\"2\" />\n",
              "<line x1=\"250.0\" y1=\"75.0\" x2=\"288.6\" y2=\"29.0\"\n",
              "    stroke=\"#663399\" stroke-width=\"2\" />\n",
              "<line x1=\"288.6\" y1=\"29.0\" x2=\"282.3\" y2=\"-6.4\"\n",
              "    stroke=\"#663399\" stroke-width=\"2\" />\n",
              "<line x1=\"282.3\" y1=\"-6.4\" x2=\"263.6\" y2=\"-17.2\"\n",
              "    stroke=\"#663399\" stroke-width=\"2\" />\n",
              "<line x1=\"263.6\" y1=\"-17.2\" x2=\"251.4\" y2=\"-12.8\"\n",
              "    stroke=\"#663399\" stroke-width=\"2\" />\n",
              "<line x1=\"251.4\" y1=\"-12.8\" x2=\"248.8\" y2=\"-5.5\"\n",
              "    stroke=\"#663399\" stroke-width=\"2\" />\n",
              "<line x1=\"248.8\" y1=\"-5.5\" x2=\"251.4\" y2=\"-12.8\"\n",
              "    stroke=\"#663399\" stroke-width=\"2\" />\n",
              "<line x1=\"251.4\" y1=\"-12.8\" x2=\"244.7\" y2=\"-16.7\"\n",
              "    stroke=\"#663399\" stroke-width=\"2\" />\n",
              "<line x1=\"244.7\" y1=\"-16.7\" x2=\"251.4\" y2=\"-12.8\"\n",
              "    stroke=\"#663399\" stroke-width=\"2\" />\n",
              "<line x1=\"251.4\" y1=\"-12.8\" x2=\"263.6\" y2=\"-17.2\"\n",
              "    stroke=\"#663399\" stroke-width=\"2\" />\n",
              "<line x1=\"263.6\" y1=\"-17.2\" x2=\"261.4\" y2=\"-30.0\"\n",
              "    stroke=\"#663399\" stroke-width=\"2\" />\n",
              "<line x1=\"261.4\" y1=\"-30.0\" x2=\"254.6\" y2=\"-33.9\"\n",
              "    stroke=\"#663399\" stroke-width=\"2\" />\n",
              "<line x1=\"254.6\" y1=\"-33.9\" x2=\"261.4\" y2=\"-30.0\"\n",
              "    stroke=\"#663399\" stroke-width=\"2\" />\n",
              "<line x1=\"261.4\" y1=\"-30.0\" x2=\"266.4\" y2=\"-35.9\"\n",
              "    stroke=\"#663399\" stroke-width=\"2\" />\n",
              "<line x1=\"266.4\" y1=\"-35.9\" x2=\"261.4\" y2=\"-30.0\"\n",
              "    stroke=\"#663399\" stroke-width=\"2\" />\n",
              "<line x1=\"261.4\" y1=\"-30.0\" x2=\"263.6\" y2=\"-17.2\"\n",
              "    stroke=\"#663399\" stroke-width=\"2\" />\n",
              "<line x1=\"263.6\" y1=\"-17.2\" x2=\"282.3\" y2=\"-6.4\"\n",
              "    stroke=\"#663399\" stroke-width=\"2\" />\n",
              "<line x1=\"282.3\" y1=\"-6.4\" x2=\"296.2\" y2=\"-23.0\"\n",
              "    stroke=\"#663399\" stroke-width=\"2\" />\n",
              "<line x1=\"296.2\" y1=\"-23.0\" x2=\"293.9\" y2=\"-35.7\"\n",
              "    stroke=\"#663399\" stroke-width=\"2\" />\n",
              "<line x1=\"293.9\" y1=\"-35.7\" x2=\"287.2\" y2=\"-39.6\"\n",
              "    stroke=\"#663399\" stroke-width=\"2\" />\n",
              "<line x1=\"287.2\" y1=\"-39.6\" x2=\"293.9\" y2=\"-35.7\"\n",
              "    stroke=\"#663399\" stroke-width=\"2\" />\n",
              "<line x1=\"293.9\" y1=\"-35.7\" x2=\"300.4\" y2=\"-43.4\"\n",
              "    stroke=\"#663399\" stroke-width=\"2\" />\n",
              "<line x1=\"300.4\" y1=\"-43.4\" x2=\"299.3\" y2=\"-49.3\"\n",
              "    stroke=\"#663399\" stroke-width=\"2\" />\n",
              "<line x1=\"299.3\" y1=\"-49.3\" x2=\"300.4\" y2=\"-43.4\"\n",
              "    stroke=\"#663399\" stroke-width=\"2\" />\n",
              "<line x1=\"300.4\" y1=\"-43.4\" x2=\"306.4\" y2=\"-43.4\"\n",
              "    stroke=\"#663399\" stroke-width=\"2\" />\n",
              "<line x1=\"306.4\" y1=\"-43.4\" x2=\"300.4\" y2=\"-43.4\"\n",
              "    stroke=\"#663399\" stroke-width=\"2\" />\n",
              "<line x1=\"300.4\" y1=\"-43.4\" x2=\"293.9\" y2=\"-35.7\"\n",
              "    stroke=\"#663399\" stroke-width=\"2\" />\n",
              "<line x1=\"293.9\" y1=\"-35.7\" x2=\"300.4\" y2=\"-43.4\"\n",
              "    stroke=\"#663399\" stroke-width=\"2\" />\n",
              "<line x1=\"300.4\" y1=\"-43.4\" x2=\"299.3\" y2=\"-49.3\"\n",
              "    stroke=\"#663399\" stroke-width=\"2\" />\n",
              "<line x1=\"299.3\" y1=\"-49.3\" x2=\"300.4\" y2=\"-43.4\"\n",
              "    stroke=\"#663399\" stroke-width=\"2\" />\n",
              "<line x1=\"300.4\" y1=\"-43.4\" x2=\"306.4\" y2=\"-43.4\"\n",
              "    stroke=\"#663399\" stroke-width=\"2\" />\n",
              "<line x1=\"306.4\" y1=\"-43.4\" x2=\"300.4\" y2=\"-43.4\"\n",
              "    stroke=\"#663399\" stroke-width=\"2\" />\n",
              "<line x1=\"300.4\" y1=\"-43.4\" x2=\"293.9\" y2=\"-35.7\"\n",
              "    stroke=\"#663399\" stroke-width=\"2\" />\n",
              "<line x1=\"293.9\" y1=\"-35.7\" x2=\"300.4\" y2=\"-43.4\"\n",
              "    stroke=\"#663399\" stroke-width=\"2\" />\n",
              "<line x1=\"300.4\" y1=\"-43.4\" x2=\"299.3\" y2=\"-49.3\"\n",
              "    stroke=\"#663399\" stroke-width=\"2\" />\n",
              "<line x1=\"299.3\" y1=\"-49.3\" x2=\"300.4\" y2=\"-43.4\"\n",
              "    stroke=\"#663399\" stroke-width=\"2\" />\n",
              "<line x1=\"300.4\" y1=\"-43.4\" x2=\"306.4\" y2=\"-43.4\"\n",
              "    stroke=\"#663399\" stroke-width=\"2\" />\n",
              "<line x1=\"306.4\" y1=\"-43.4\" x2=\"300.4\" y2=\"-43.4\"\n",
              "    stroke=\"#663399\" stroke-width=\"2\" />\n",
              "<line x1=\"300.4\" y1=\"-43.4\" x2=\"293.9\" y2=\"-35.7\"\n",
              "    stroke=\"#663399\" stroke-width=\"2\" />\n",
              "<line x1=\"293.9\" y1=\"-35.7\" x2=\"300.4\" y2=\"-43.4\"\n",
              "    stroke=\"#663399\" stroke-width=\"2\" />\n",
              "<line x1=\"300.4\" y1=\"-43.4\" x2=\"299.3\" y2=\"-49.3\"\n",
              "    stroke=\"#663399\" stroke-width=\"2\" />\n",
              "<line x1=\"299.3\" y1=\"-49.3\" x2=\"300.4\" y2=\"-43.4\"\n",
              "    stroke=\"#663399\" stroke-width=\"2\" />\n",
              "<line x1=\"300.4\" y1=\"-43.4\" x2=\"306.4\" y2=\"-43.4\"\n",
              "    stroke=\"#663399\" stroke-width=\"2\" />\n",
              "<line x1=\"306.4\" y1=\"-43.4\" x2=\"300.4\" y2=\"-43.4\"\n",
              "    stroke=\"#663399\" stroke-width=\"2\" />\n",
              "<line x1=\"300.4\" y1=\"-43.4\" x2=\"293.9\" y2=\"-35.7\"\n",
              "    stroke=\"#663399\" stroke-width=\"2\" />\n",
              "<line x1=\"293.9\" y1=\"-35.7\" x2=\"326.1\" y2=\"-74.0\"\n",
              "    stroke=\"#663399\" stroke-width=\"2\" />\n",
              "<line x1=\"326.1\" y1=\"-74.0\" x2=\"320.9\" y2=\"-103.6\"\n",
              "    stroke=\"#663399\" stroke-width=\"2\" />\n",
              "<line x1=\"320.9\" y1=\"-103.6\" x2=\"305.3\" y2=\"-112.6\"\n",
              "    stroke=\"#663399\" stroke-width=\"2\" />\n",
              "<line x1=\"305.3\" y1=\"-112.6\" x2=\"295.1\" y2=\"-108.9\"\n",
              "    stroke=\"#663399\" stroke-width=\"2\" />\n",
              "<line x1=\"295.1\" y1=\"-108.9\" x2=\"292.9\" y2=\"-102.8\"\n",
              "    stroke=\"#663399\" stroke-width=\"2\" />\n",
              "<line x1=\"292.9\" y1=\"-102.8\" x2=\"295.1\" y2=\"-108.9\"\n",
              "    stroke=\"#663399\" stroke-width=\"2\" />\n",
              "<line x1=\"295.1\" y1=\"-108.9\" x2=\"289.5\" y2=\"-112.1\"\n",
              "    stroke=\"#663399\" stroke-width=\"2\" />\n",
              "<line x1=\"289.5\" y1=\"-112.1\" x2=\"295.1\" y2=\"-108.9\"\n",
              "    stroke=\"#663399\" stroke-width=\"2\" />\n",
              "<line x1=\"295.1\" y1=\"-108.9\" x2=\"305.3\" y2=\"-112.6\"\n",
              "    stroke=\"#663399\" stroke-width=\"2\" />\n",
              "<line x1=\"305.3\" y1=\"-112.6\" x2=\"303.4\" y2=\"-123.2\"\n",
              "    stroke=\"#663399\" stroke-width=\"2\" />\n",
              "<line x1=\"303.4\" y1=\"-123.2\" x2=\"297.8\" y2=\"-126.4\"\n",
              "    stroke=\"#663399\" stroke-width=\"2\" />\n",
              "<line x1=\"297.8\" y1=\"-126.4\" x2=\"303.4\" y2=\"-123.2\"\n",
              "    stroke=\"#663399\" stroke-width=\"2\" />\n",
              "<line x1=\"303.4\" y1=\"-123.2\" x2=\"307.6\" y2=\"-128.2\"\n",
              "    stroke=\"#663399\" stroke-width=\"2\" />\n",
              "<line x1=\"307.6\" y1=\"-128.2\" x2=\"303.4\" y2=\"-123.2\"\n",
              "    stroke=\"#663399\" stroke-width=\"2\" />\n",
              "<line x1=\"303.4\" y1=\"-123.2\" x2=\"305.3\" y2=\"-112.6\"\n",
              "    stroke=\"#663399\" stroke-width=\"2\" />\n",
              "<line x1=\"305.3\" y1=\"-112.6\" x2=\"320.9\" y2=\"-103.6\"\n",
              "    stroke=\"#663399\" stroke-width=\"2\" />\n",
              "<line x1=\"320.9\" y1=\"-103.6\" x2=\"332.4\" y2=\"-117.4\"\n",
              "    stroke=\"#663399\" stroke-width=\"2\" />\n",
              "<line x1=\"332.4\" y1=\"-117.4\" x2=\"330.6\" y2=\"-128.0\"\n",
              "    stroke=\"#663399\" stroke-width=\"2\" />\n",
              "<line x1=\"330.6\" y1=\"-128.0\" x2=\"325.0\" y2=\"-131.2\"\n",
              "    stroke=\"#663399\" stroke-width=\"2\" />\n",
              "<line x1=\"325.0\" y1=\"-131.2\" x2=\"330.6\" y2=\"-128.0\"\n",
              "    stroke=\"#663399\" stroke-width=\"2\" />\n",
              "<line x1=\"330.6\" y1=\"-128.0\" x2=\"334.7\" y2=\"-133.0\"\n",
              "    stroke=\"#663399\" stroke-width=\"2\" />\n",
              "<line x1=\"334.7\" y1=\"-133.0\" x2=\"330.6\" y2=\"-128.0\"\n",
              "    stroke=\"#663399\" stroke-width=\"2\" />\n",
              "<line x1=\"330.6\" y1=\"-128.0\" x2=\"332.4\" y2=\"-117.4\"\n",
              "    stroke=\"#663399\" stroke-width=\"2\" />\n",
              "<line x1=\"332.4\" y1=\"-117.4\" x2=\"343.2\" y2=\"-117.4\"\n",
              "    stroke=\"#663399\" stroke-width=\"2\" />\n",
              "<line x1=\"343.2\" y1=\"-117.4\" x2=\"347.4\" y2=\"-122.3\"\n",
              "    stroke=\"#663399\" stroke-width=\"2\" />\n",
              "<line x1=\"347.4\" y1=\"-122.3\" x2=\"343.2\" y2=\"-117.4\"\n",
              "    stroke=\"#663399\" stroke-width=\"2\" />\n",
              "<line x1=\"343.2\" y1=\"-117.4\" x2=\"347.4\" y2=\"-112.4\"\n",
              "    stroke=\"#663399\" stroke-width=\"2\" />\n",
              "<line x1=\"347.4\" y1=\"-112.4\" x2=\"343.2\" y2=\"-117.4\"\n",
              "    stroke=\"#663399\" stroke-width=\"2\" />\n",
              "<line x1=\"343.2\" y1=\"-117.4\" x2=\"332.4\" y2=\"-117.4\"\n",
              "    stroke=\"#663399\" stroke-width=\"2\" />\n",
              "<line x1=\"332.4\" y1=\"-117.4\" x2=\"320.9\" y2=\"-103.6\"\n",
              "    stroke=\"#663399\" stroke-width=\"2\" />\n",
              "<line x1=\"320.9\" y1=\"-103.6\" x2=\"326.1\" y2=\"-74.0\"\n",
              "    stroke=\"#663399\" stroke-width=\"2\" />\n",
              "<line x1=\"326.1\" y1=\"-74.0\" x2=\"356.1\" y2=\"-74.0\"\n",
              "    stroke=\"#663399\" stroke-width=\"2\" />\n",
              "<line x1=\"356.1\" y1=\"-74.0\" x2=\"367.7\" y2=\"-87.8\"\n",
              "    stroke=\"#663399\" stroke-width=\"2\" />\n",
              "<line x1=\"367.7\" y1=\"-87.8\" x2=\"365.8\" y2=\"-98.5\"\n",
              "    stroke=\"#663399\" stroke-width=\"2\" />\n",
              "<line x1=\"365.8\" y1=\"-98.5\" x2=\"360.2\" y2=\"-101.7\"\n",
              "    stroke=\"#663399\" stroke-width=\"2\" />\n",
              "<line x1=\"360.2\" y1=\"-101.7\" x2=\"365.8\" y2=\"-98.5\"\n",
              "    stroke=\"#663399\" stroke-width=\"2\" />\n",
              "<line x1=\"365.8\" y1=\"-98.5\" x2=\"369.9\" y2=\"-103.4\"\n",
              "    stroke=\"#663399\" stroke-width=\"2\" />\n",
              "<line x1=\"369.9\" y1=\"-103.4\" x2=\"365.8\" y2=\"-98.5\"\n",
              "    stroke=\"#663399\" stroke-width=\"2\" />\n",
              "<line x1=\"365.8\" y1=\"-98.5\" x2=\"367.7\" y2=\"-87.8\"\n",
              "    stroke=\"#663399\" stroke-width=\"2\" />\n",
              "<line x1=\"367.7\" y1=\"-87.8\" x2=\"378.5\" y2=\"-87.8\"\n",
              "    stroke=\"#663399\" stroke-width=\"2\" />\n",
              "<line x1=\"378.5\" y1=\"-87.8\" x2=\"382.6\" y2=\"-92.8\"\n",
              "    stroke=\"#663399\" stroke-width=\"2\" />\n",
              "<line x1=\"382.6\" y1=\"-92.8\" x2=\"378.5\" y2=\"-87.8\"\n",
              "    stroke=\"#663399\" stroke-width=\"2\" />\n",
              "<line x1=\"378.5\" y1=\"-87.8\" x2=\"382.6\" y2=\"-82.9\"\n",
              "    stroke=\"#663399\" stroke-width=\"2\" />\n",
              "<line x1=\"382.6\" y1=\"-82.9\" x2=\"378.5\" y2=\"-87.8\"\n",
              "    stroke=\"#663399\" stroke-width=\"2\" />\n",
              "<line x1=\"378.5\" y1=\"-87.8\" x2=\"367.7\" y2=\"-87.8\"\n",
              "    stroke=\"#663399\" stroke-width=\"2\" />\n",
              "<line x1=\"367.7\" y1=\"-87.8\" x2=\"356.1\" y2=\"-74.0\"\n",
              "    stroke=\"#663399\" stroke-width=\"2\" />\n",
              "<line x1=\"356.1\" y1=\"-74.0\" x2=\"367.7\" y2=\"-60.2\"\n",
              "    stroke=\"#663399\" stroke-width=\"2\" />\n",
              "<line x1=\"367.7\" y1=\"-60.2\" x2=\"378.5\" y2=\"-60.2\"\n",
              "    stroke=\"#663399\" stroke-width=\"2\" />\n",
              "<line x1=\"378.5\" y1=\"-60.2\" x2=\"382.6\" y2=\"-65.2\"\n",
              "    stroke=\"#663399\" stroke-width=\"2\" />\n",
              "<line x1=\"382.6\" y1=\"-65.2\" x2=\"378.5\" y2=\"-60.2\"\n",
              "    stroke=\"#663399\" stroke-width=\"2\" />\n",
              "<line x1=\"378.5\" y1=\"-60.2\" x2=\"382.6\" y2=\"-55.3\"\n",
              "    stroke=\"#663399\" stroke-width=\"2\" />\n",
              "<line x1=\"382.6\" y1=\"-55.3\" x2=\"378.5\" y2=\"-60.2\"\n",
              "    stroke=\"#663399\" stroke-width=\"2\" />\n",
              "<line x1=\"378.5\" y1=\"-60.2\" x2=\"367.7\" y2=\"-60.2\"\n",
              "    stroke=\"#663399\" stroke-width=\"2\" />\n",
              "<line x1=\"367.7\" y1=\"-60.2\" x2=\"365.8\" y2=\"-49.6\"\n",
              "    stroke=\"#663399\" stroke-width=\"2\" />\n",
              "<line x1=\"365.8\" y1=\"-49.6\" x2=\"369.9\" y2=\"-44.6\"\n",
              "    stroke=\"#663399\" stroke-width=\"2\" />\n",
              "<line x1=\"369.9\" y1=\"-44.6\" x2=\"365.8\" y2=\"-49.6\"\n",
              "    stroke=\"#663399\" stroke-width=\"2\" />\n",
              "<line x1=\"365.8\" y1=\"-49.6\" x2=\"360.2\" y2=\"-46.4\"\n",
              "    stroke=\"#663399\" stroke-width=\"2\" />\n",
              "<line x1=\"360.2\" y1=\"-46.4\" x2=\"365.8\" y2=\"-49.6\"\n",
              "    stroke=\"#663399\" stroke-width=\"2\" />\n",
              "<line x1=\"365.8\" y1=\"-49.6\" x2=\"367.7\" y2=\"-60.2\"\n",
              "    stroke=\"#663399\" stroke-width=\"2\" />\n",
              "<line x1=\"367.7\" y1=\"-60.2\" x2=\"356.1\" y2=\"-74.0\"\n",
              "    stroke=\"#663399\" stroke-width=\"2\" />\n",
              "<line x1=\"356.1\" y1=\"-74.0\" x2=\"326.1\" y2=\"-74.0\"\n",
              "    stroke=\"#663399\" stroke-width=\"2\" />\n",
              "<line x1=\"326.1\" y1=\"-74.0\" x2=\"293.9\" y2=\"-35.7\"\n",
              "    stroke=\"#663399\" stroke-width=\"2\" />\n",
              "<line x1=\"293.9\" y1=\"-35.7\" x2=\"326.1\" y2=\"-74.0\"\n",
              "    stroke=\"#663399\" stroke-width=\"2\" />\n",
              "<line x1=\"326.1\" y1=\"-74.0\" x2=\"320.9\" y2=\"-103.6\"\n",
              "    stroke=\"#663399\" stroke-width=\"2\" />\n",
              "<line x1=\"320.9\" y1=\"-103.6\" x2=\"305.3\" y2=\"-112.6\"\n",
              "    stroke=\"#663399\" stroke-width=\"2\" />\n",
              "<line x1=\"305.3\" y1=\"-112.6\" x2=\"295.1\" y2=\"-108.9\"\n",
              "    stroke=\"#663399\" stroke-width=\"2\" />\n",
              "<line x1=\"295.1\" y1=\"-108.9\" x2=\"292.9\" y2=\"-102.8\"\n",
              "    stroke=\"#663399\" stroke-width=\"2\" />\n",
              "<line x1=\"292.9\" y1=\"-102.8\" x2=\"295.1\" y2=\"-108.9\"\n",
              "    stroke=\"#663399\" stroke-width=\"2\" />\n",
              "<line x1=\"295.1\" y1=\"-108.9\" x2=\"289.5\" y2=\"-112.1\"\n",
              "    stroke=\"#663399\" stroke-width=\"2\" />\n",
              "<line x1=\"289.5\" y1=\"-112.1\" x2=\"295.1\" y2=\"-108.9\"\n",
              "    stroke=\"#663399\" stroke-width=\"2\" />\n",
              "<line x1=\"295.1\" y1=\"-108.9\" x2=\"305.3\" y2=\"-112.6\"\n",
              "    stroke=\"#663399\" stroke-width=\"2\" />\n",
              "<line x1=\"305.3\" y1=\"-112.6\" x2=\"303.4\" y2=\"-123.2\"\n",
              "    stroke=\"#663399\" stroke-width=\"2\" />\n",
              "<line x1=\"303.4\" y1=\"-123.2\" x2=\"297.8\" y2=\"-126.4\"\n",
              "    stroke=\"#663399\" stroke-width=\"2\" />\n",
              "<line x1=\"297.8\" y1=\"-126.4\" x2=\"303.4\" y2=\"-123.2\"\n",
              "    stroke=\"#663399\" stroke-width=\"2\" />\n",
              "<line x1=\"303.4\" y1=\"-123.2\" x2=\"307.6\" y2=\"-128.2\"\n",
              "    stroke=\"#663399\" stroke-width=\"2\" />\n",
              "<line x1=\"307.6\" y1=\"-128.2\" x2=\"303.4\" y2=\"-123.2\"\n",
              "    stroke=\"#663399\" stroke-width=\"2\" />\n",
              "<line x1=\"303.4\" y1=\"-123.2\" x2=\"305.3\" y2=\"-112.6\"\n",
              "    stroke=\"#663399\" stroke-width=\"2\" />\n",
              "<line x1=\"305.3\" y1=\"-112.6\" x2=\"320.9\" y2=\"-103.6\"\n",
              "    stroke=\"#663399\" stroke-width=\"2\" />\n",
              "<line x1=\"320.9\" y1=\"-103.6\" x2=\"332.4\" y2=\"-117.4\"\n",
              "    stroke=\"#663399\" stroke-width=\"2\" />\n",
              "<line x1=\"332.4\" y1=\"-117.4\" x2=\"330.6\" y2=\"-128.0\"\n",
              "    stroke=\"#663399\" stroke-width=\"2\" />\n",
              "<line x1=\"330.6\" y1=\"-128.0\" x2=\"325.0\" y2=\"-131.2\"\n",
              "    stroke=\"#663399\" stroke-width=\"2\" />\n",
              "<line x1=\"325.0\" y1=\"-131.2\" x2=\"316.3\" y2=\"-136.2\"\n",
              "    stroke=\"#663399\" stroke-width=\"2\" />\n",
              "<line x1=\"316.3\" y1=\"-136.2\" x2=\"310.7\" y2=\"-134.2\"\n",
              "    stroke=\"#663399\" stroke-width=\"2\" />\n",
              "<line x1=\"310.7\" y1=\"-134.2\" x2=\"316.3\" y2=\"-136.2\"\n",
              "    stroke=\"#663399\" stroke-width=\"2\" />\n",
              "<line x1=\"316.3\" y1=\"-136.2\" x2=\"315.3\" y2=\"-142.1\"\n",
              "    stroke=\"#663399\" stroke-width=\"2\" />\n",
              "<line x1=\"315.3\" y1=\"-142.1\" x2=\"316.3\" y2=\"-136.2\"\n",
              "    stroke=\"#663399\" stroke-width=\"2\" />\n",
              "<line x1=\"316.3\" y1=\"-136.2\" x2=\"325.0\" y2=\"-131.2\"\n",
              "    stroke=\"#663399\" stroke-width=\"2\" />\n",
              "<line x1=\"325.0\" y1=\"-131.2\" x2=\"-21.4\" y2=\"-331.2\"\n",
              "    stroke=\"#663399\" stroke-width=\"2\" />\n",
              "<line x1=\"-21.4\" y1=\"-331.2\" x2=\"-247.0\" y2=\"-249.2\"\n",
              "    stroke=\"#663399\" stroke-width=\"2\" />\n",
              "<line x1=\"-247.0\" y1=\"-249.2\" x2=\"-296.2\" y2=\"-113.8\"\n",
              "    stroke=\"#663399\" stroke-width=\"2\" />\n",
              "<line x1=\"-296.2\" y1=\"-113.8\" x2=\"-253.0\" y2=\"-39.0\"\n",
              "    stroke=\"#663399\" stroke-width=\"2\" />\n",
              "<line x1=\"-253.0\" y1=\"-39.0\" x2=\"-202.0\" y2=\"-30.0\"\n",
              "    stroke=\"#663399\" stroke-width=\"2\" />\n",
              "<line x1=\"-202.0\" y1=\"-30.0\" x2=\"-178.1\" y2=\"-50.0\"\n",
              "    stroke=\"#663399\" stroke-width=\"2\" />\n",
              "<line x1=\"-178.1\" y1=\"-50.0\" x2=\"-178.1\" y2=\"-68.7\"\n",
              "    stroke=\"#663399\" stroke-width=\"2\" />\n",
              "<line x1=\"-178.1\" y1=\"-68.7\" x2=\"-186.7\" y2=\"-75.9\"\n",
              "    stroke=\"#663399\" stroke-width=\"2\" />\n",
              "<line x1=\"-186.7\" y1=\"-75.9\" x2=\"-193.3\" y2=\"-74.7\"\n",
              "    stroke=\"#663399\" stroke-width=\"2\" />\n",
              "<line x1=\"-193.3\" y1=\"-74.7\" x2=\"-186.7\" y2=\"-75.9\"\n",
              "    stroke=\"#663399\" stroke-width=\"2\" />\n",
              "<line x1=\"-186.7\" y1=\"-75.9\" x2=\"-186.7\" y2=\"-82.6\"\n",
              "    stroke=\"#663399\" stroke-width=\"2\" />\n",
              "<line x1=\"-186.7\" y1=\"-82.6\" x2=\"-186.7\" y2=\"-75.9\"\n",
              "    stroke=\"#663399\" stroke-width=\"2\" />\n",
              "<line x1=\"-186.7\" y1=\"-75.9\" x2=\"-178.1\" y2=\"-68.7\"\n",
              "    stroke=\"#663399\" stroke-width=\"2\" />\n",
              "<line x1=\"-178.1\" y1=\"-68.7\" x2=\"-169.6\" y2=\"-75.9\"\n",
              "    stroke=\"#663399\" stroke-width=\"2\" />\n",
              "<line x1=\"-169.6\" y1=\"-75.9\" x2=\"-169.6\" y2=\"-82.6\"\n",
              "    stroke=\"#663399\" stroke-width=\"2\" />\n",
              "<line x1=\"-169.6\" y1=\"-82.6\" x2=\"-169.6\" y2=\"-75.9\"\n",
              "    stroke=\"#663399\" stroke-width=\"2\" />\n",
              "<line x1=\"-169.6\" y1=\"-75.9\" x2=\"-163.0\" y2=\"-74.7\"\n",
              "    stroke=\"#663399\" stroke-width=\"2\" />\n",
              "<line x1=\"-163.0\" y1=\"-74.7\" x2=\"-169.6\" y2=\"-75.9\"\n",
              "    stroke=\"#663399\" stroke-width=\"2\" />\n",
              "<line x1=\"-169.6\" y1=\"-75.9\" x2=\"-178.1\" y2=\"-68.7\"\n",
              "    stroke=\"#663399\" stroke-width=\"2\" />\n",
              "<line x1=\"-178.1\" y1=\"-68.7\" x2=\"-178.1\" y2=\"-50.0\"\n",
              "    stroke=\"#663399\" stroke-width=\"2\" />\n",
              "<line x1=\"-178.1\" y1=\"-50.0\" x2=\"-159.8\" y2=\"-46.8\"\n",
              "    stroke=\"#663399\" stroke-width=\"2\" />\n",
              "<line x1=\"-159.8\" y1=\"-46.8\" x2=\"-151.2\" y2=\"-54.0\"\n",
              "    stroke=\"#663399\" stroke-width=\"2\" />\n",
              "<line x1=\"-151.2\" y1=\"-54.0\" x2=\"-151.2\" y2=\"-60.7\"\n",
              "    stroke=\"#663399\" stroke-width=\"2\" />\n",
              "<line x1=\"-151.2\" y1=\"-60.7\" x2=\"-151.2\" y2=\"-54.0\"\n",
              "    stroke=\"#663399\" stroke-width=\"2\" />\n",
              "<line x1=\"-151.2\" y1=\"-54.0\" x2=\"-145.3\" y2=\"-52.9\"\n",
              "    stroke=\"#663399\" stroke-width=\"2\" />\n",
              "<line x1=\"-145.3\" y1=\"-52.9\" x2=\"-151.2\" y2=\"-54.0\"\n",
              "    stroke=\"#663399\" stroke-width=\"2\" />\n",
              "<line x1=\"-151.2\" y1=\"-54.0\" x2=\"-145.3\" y2=\"-52.9\"\n",
              "    stroke=\"#663399\" stroke-width=\"2\" />\n",
              "<line x1=\"-145.3\" y1=\"-52.9\" x2=\"-151.2\" y2=\"-54.0\"\n",
              "    stroke=\"#663399\" stroke-width=\"2\" />\n",
              "<line x1=\"-151.2\" y1=\"-54.0\" x2=\"193.5\" y2=\"6.8\"\n",
              "    stroke=\"#663399\" stroke-width=\"2\" />\n",
              "<line x1=\"193.5\" y1=\"6.8\" x2=\"354.4\" y2=\"-128.2\"\n",
              "    stroke=\"#663399\" stroke-width=\"2\" />\n",
              "<line x1=\"354.4\" y1=\"-128.2\" x2=\"354.4\" y2=\"-254.2\"\n",
              "    stroke=\"#663399\" stroke-width=\"2\" />\n",
              "<line x1=\"354.4\" y1=\"-254.2\" x2=\"296.5\" y2=\"-302.8\"\n",
              "    stroke=\"#663399\" stroke-width=\"2\" />\n",
              "<line x1=\"296.5\" y1=\"-302.8\" x2=\"251.8\" y2=\"-294.9\"\n",
              "    stroke=\"#663399\" stroke-width=\"2\" />\n",
              "<line x1=\"251.8\" y1=\"-294.9\" x2=\"238.2\" y2=\"-271.3\"\n",
              "    stroke=\"#663399\" stroke-width=\"2\" />\n",
              "<line x1=\"238.2\" y1=\"-271.3\" x2=\"243.8\" y2=\"-256.0\"\n",
              "    stroke=\"#663399\" stroke-width=\"2\" />\n",
              "<line x1=\"243.8\" y1=\"-256.0\" x2=\"253.0\" y2=\"-252.6\"\n",
              "    stroke=\"#663399\" stroke-width=\"2\" />\n",
              "<line x1=\"253.0\" y1=\"-252.6\" x2=\"258.1\" y2=\"-255.6\"\n",
              "    stroke=\"#663399\" stroke-width=\"2\" />\n",
              "<line x1=\"258.1\" y1=\"-255.6\" x2=\"253.0\" y2=\"-252.6\"\n",
              "    stroke=\"#663399\" stroke-width=\"2\" />\n",
              "<line x1=\"253.0\" y1=\"-252.6\" x2=\"255.0\" y2=\"-247.1\"\n",
              "    stroke=\"#663399\" stroke-width=\"2\" />\n",
              "<line x1=\"255.0\" y1=\"-247.1\" x2=\"253.0\" y2=\"-252.6\"\n",
              "    stroke=\"#663399\" stroke-width=\"2\" />\n",
              "<line x1=\"253.0\" y1=\"-252.6\" x2=\"243.8\" y2=\"-256.0\"\n",
              "    stroke=\"#663399\" stroke-width=\"2\" />\n",
              "<line x1=\"243.8\" y1=\"-256.0\" x2=\"238.9\" y2=\"-247.5\"\n",
              "    stroke=\"#663399\" stroke-width=\"2\" />\n",
              "<line x1=\"238.9\" y1=\"-247.5\" x2=\"240.9\" y2=\"-242.0\"\n",
              "    stroke=\"#663399\" stroke-width=\"2\" />\n",
              "<line x1=\"240.9\" y1=\"-242.0\" x2=\"238.9\" y2=\"-247.5\"\n",
              "    stroke=\"#663399\" stroke-width=\"2\" />\n",
              "<line x1=\"238.9\" y1=\"-247.5\" x2=\"233.1\" y2=\"-246.5\"\n",
              "    stroke=\"#663399\" stroke-width=\"2\" />\n",
              "<line x1=\"233.1\" y1=\"-246.5\" x2=\"238.9\" y2=\"-247.5\"\n",
              "    stroke=\"#663399\" stroke-width=\"2\" />\n",
              "<line x1=\"238.9\" y1=\"-247.5\" x2=\"243.8\" y2=\"-256.0\"\n",
              "    stroke=\"#663399\" stroke-width=\"2\" />\n",
              "<line x1=\"243.8\" y1=\"-256.0\" x2=\"238.2\" y2=\"-271.3\"\n",
              "    stroke=\"#663399\" stroke-width=\"2\" />\n",
              "<line x1=\"238.2\" y1=\"-271.3\" x2=\"222.1\" y2=\"-268.5\"\n",
              "    stroke=\"#663399\" stroke-width=\"2\" />\n",
              "<line x1=\"222.1\" y1=\"-268.5\" x2=\"217.2\" y2=\"-260.0\"\n",
              "    stroke=\"#663399\" stroke-width=\"2\" />\n",
              "<line x1=\"217.2\" y1=\"-260.0\" x2=\"-32.8\" y2=\"173.0\"\n",
              "    stroke=\"#663399\" stroke-width=\"2\" />\n",
              "<line x1=\"-32.8\" y1=\"173.0\" x2=\"69.8\" y2=\"454.9\"\n",
              "    stroke=\"#663399\" stroke-width=\"2\" />\n",
              "<line x1=\"69.8\" y1=\"454.9\" x2=\"238.9\" y2=\"516.5\"\n",
              "    stroke=\"#663399\" stroke-width=\"2\" />\n",
              "<line x1=\"238.9\" y1=\"516.5\" x2=\"332.5\" y2=\"462.5\"\n",
              "    stroke=\"#663399\" stroke-width=\"2\" />\n",
              "<line x1=\"332.5\" y1=\"462.5\" x2=\"343.7\" y2=\"398.7\"\n",
              "    stroke=\"#663399\" stroke-width=\"2\" />\n",
              "<line x1=\"343.7\" y1=\"398.7\" x2=\"318.7\" y2=\"368.9\"\n",
              "    stroke=\"#663399\" stroke-width=\"2\" />\n",
              "<line x1=\"318.7\" y1=\"368.9\" x2=\"295.4\" y2=\"368.9\"\n",
              "    stroke=\"#663399\" stroke-width=\"2\" />\n",
              "<line x1=\"295.4\" y1=\"368.9\" x2=\"286.4\" y2=\"379.6\"\n",
              "    stroke=\"#663399\" stroke-width=\"2\" />\n",
              "<line x1=\"286.4\" y1=\"379.6\" x2=\"287.9\" y2=\"387.9\"\n",
              "    stroke=\"#663399\" stroke-width=\"2\" />\n",
              "<line x1=\"287.9\" y1=\"387.9\" x2=\"292.2\" y2=\"390.4\"\n",
              "    stroke=\"#663399\" stroke-width=\"2\" />\n",
              "<line x1=\"292.2\" y1=\"390.4\" x2=\"287.9\" y2=\"387.9\"\n",
              "    stroke=\"#663399\" stroke-width=\"2\" />\n",
              "<line x1=\"287.9\" y1=\"387.9\" x2=\"284.6\" y2=\"391.7\"\n",
              "    stroke=\"#663399\" stroke-width=\"2\" />\n",
              "<line x1=\"284.6\" y1=\"391.7\" x2=\"287.9\" y2=\"387.9\"\n",
              "    stroke=\"#663399\" stroke-width=\"2\" />\n",
              "<line x1=\"287.9\" y1=\"387.9\" x2=\"286.4\" y2=\"379.6\"\n",
              "    stroke=\"#663399\" stroke-width=\"2\" />\n",
              "<line x1=\"286.4\" y1=\"379.6\" x2=\"278.0\" y2=\"379.6\"\n",
              "    stroke=\"#663399\" stroke-width=\"2\" />\n",
              "<line x1=\"278.0\" y1=\"379.6\" x2=\"274.8\" y2=\"383.5\"\n",
              "    stroke=\"#663399\" stroke-width=\"2\" />\n",
              "<line x1=\"274.8\" y1=\"383.5\" x2=\"278.0\" y2=\"379.6\"\n",
              "    stroke=\"#663399\" stroke-width=\"2\" />\n",
              "<line x1=\"278.0\" y1=\"379.6\" x2=\"-364.8\" y2=\"1145.7\"\n",
              "    stroke=\"#663399\" stroke-width=\"2\" />\n",
              "<line x1=\"-364.8\" y1=\"1145.7\" x2=\"-260.6\" y2=\"1736.5\"\n",
              "    stroke=\"#663399\" stroke-width=\"2\" />\n",
              "<line x1=\"-260.6\" y1=\"1736.5\" x2=\"51.2\" y2=\"1916.5\"\n",
              "    stroke=\"#663399\" stroke-width=\"2\" />\n",
              "<line x1=\"51.2\" y1=\"1916.5\" x2=\"254.2\" y2=\"1842.7\"\n",
              "    stroke=\"#663399\" stroke-width=\"2\" />\n",
              "<line x1=\"254.2\" y1=\"1842.7\" x2=\"298.5\" y2=\"1720.9\"\n",
              "    stroke=\"#663399\" stroke-width=\"2\" />\n",
              "<line x1=\"298.5\" y1=\"1720.9\" x2=\"259.6\" y2=\"1653.5\"\n",
              "    stroke=\"#663399\" stroke-width=\"2\" />\n",
              "<line x1=\"259.6\" y1=\"1653.5\" x2=\"213.7\" y2=\"1645.4\"\n",
              "    stroke=\"#663399\" stroke-width=\"2\" />\n",
              "<line x1=\"213.7\" y1=\"1645.4\" x2=\"192.2\" y2=\"1663.4\"\n",
              "    stroke=\"#663399\" stroke-width=\"2\" />\n",
              "<line x1=\"192.2\" y1=\"1663.4\" x2=\"192.2\" y2=\"1680.2\"\n",
              "    stroke=\"#663399\" stroke-width=\"2\" />\n",
              "<line x1=\"192.2\" y1=\"1680.2\" x2=\"199.9\" y2=\"1686.7\"\n",
              "    stroke=\"#663399\" stroke-width=\"2\" />\n",
              "<line x1=\"199.9\" y1=\"1686.7\" x2=\"205.9\" y2=\"1685.7\"\n",
              "    stroke=\"#663399\" stroke-width=\"2\" />\n",
              "<line x1=\"205.9\" y1=\"1685.7\" x2=\"199.9\" y2=\"1686.7\"\n",
              "    stroke=\"#663399\" stroke-width=\"2\" />\n",
              "<line x1=\"199.9\" y1=\"1686.7\" x2=\"199.9\" y2=\"1692.8\"\n",
              "    stroke=\"#663399\" stroke-width=\"2\" />\n",
              "<line x1=\"199.9\" y1=\"1692.8\" x2=\"199.9\" y2=\"1686.7\"\n",
              "    stroke=\"#663399\" stroke-width=\"2\" />\n",
              "<line x1=\"199.9\" y1=\"1686.7\" x2=\"192.2\" y2=\"1680.2\"\n",
              "    stroke=\"#663399\" stroke-width=\"2\" />\n",
              "<line x1=\"192.2\" y1=\"1680.2\" x2=\"184.5\" y2=\"1686.7\"\n",
              "    stroke=\"#663399\" stroke-width=\"2\" />\n",
              "<line x1=\"184.5\" y1=\"1686.7\" x2=\"184.5\" y2=\"1692.8\"\n",
              "    stroke=\"#663399\" stroke-width=\"2\" />\n",
              "<line x1=\"184.5\" y1=\"1692.8\" x2=\"184.5\" y2=\"1686.7\"\n",
              "    stroke=\"#663399\" stroke-width=\"2\" />\n",
              "<line x1=\"184.5\" y1=\"1686.7\" x2=\"184.5\" y2=\"101686.7\"\n",
              "    stroke=\"#663399\" stroke-width=\"2\" />\n",
              "<line x1=\"184.5\" y1=\"101686.7\" x2=\"46147.2\" y2=\"140254.0\"\n",
              "    stroke=\"#663399\" stroke-width=\"2\" />\n",
              "<line x1=\"46147.2\" y1=\"140254.0\" x2=\"81600.2\" y2=\"134002.6\"\n",
              "    stroke=\"#663399\" stroke-width=\"2\" />\n",
              "<line x1=\"81600.2\" y1=\"134002.6\" x2=\"92400.2\" y2=\"115296.5\"\n",
              "    stroke=\"#663399\" stroke-width=\"2\" />\n",
              "<line x1=\"92400.2\" y1=\"115296.5\" x2=\"87967.7\" y2=\"103118.1\"\n",
              "    stroke=\"#663399\" stroke-width=\"2\" />\n",
              "<line x1=\"87967.7\" y1=\"103118.1\" x2=\"80660.6\" y2=\"100458.5\"\n",
              "    stroke=\"#663399\" stroke-width=\"2\" />\n",
              "<line x1=\"80660.6\" y1=\"100458.5\" x2=\"76620.1\" y2=\"102791.3\"\n",
              "    stroke=\"#663399\" stroke-width=\"2\" />\n",
              "<line x1=\"76620.1\" y1=\"102791.3\" x2=\"76134.0\" y2=\"105548.1\"\n",
              "    stroke=\"#663399\" stroke-width=\"2\" />\n",
              "<line x1=\"76134.0\" y1=\"105548.1\" x2=\"77213.6\" y2=\"106834.8\"\n",
              "    stroke=\"#663399\" stroke-width=\"2\" />\n",
              "<line x1=\"77213.6\" y1=\"106834.8\" x2=\"78221.4\" y2=\"106834.8\"\n",
              "    stroke=\"#663399\" stroke-width=\"2\" />\n",
              "<line x1=\"78221.4\" y1=\"106834.8\" x2=\"78610.0\" y2=\"106371.6\"\n",
              "    stroke=\"#663399\" stroke-width=\"2\" />\n",
              "<line x1=\"78610.0\" y1=\"106371.6\" x2=\"78547.0\" y2=\"106014.3\"\n",
              "    stroke=\"#663399\" stroke-width=\"2\" />\n",
              "<line x1=\"78547.0\" y1=\"106014.3\" x2=\"78358.5\" y2=\"105905.5\"\n",
              "    stroke=\"#663399\" stroke-width=\"2\" />\n",
              "<line x1=\"78358.5\" y1=\"105905.5\" x2=\"78235.8\" y2=\"105950.2\"\n",
              "    stroke=\"#663399\" stroke-width=\"2\" />\n",
              "<line x1=\"78235.8\" y1=\"105950.2\" x2=\"78209.0\" y2=\"106023.8\"\n",
              "    stroke=\"#663399\" stroke-width=\"2\" />\n",
              "<line x1=\"78209.0\" y1=\"106023.8\" x2=\"78232.5\" y2=\"106064.5\"\n",
              "    stroke=\"#663399\" stroke-width=\"2\" />\n",
              "<line x1=\"78232.5\" y1=\"106064.5\" x2=\"78260.3\" y2=\"106069.4\"\n",
              "    stroke=\"#663399\" stroke-width=\"2\" />\n",
              "<line x1=\"78260.3\" y1=\"106069.4\" x2=\"78273.3\" y2=\"106058.5\"\n",
              "    stroke=\"#663399\" stroke-width=\"2\" />\n",
              "<line x1=\"78273.3\" y1=\"106058.5\" x2=\"78273.3\" y2=\"106048.4\"\n",
              "    stroke=\"#663399\" stroke-width=\"2\" />\n",
              "<line x1=\"78273.3\" y1=\"106048.4\" x2=\"78268.6\" y2=\"106044.5\"\n",
              "    stroke=\"#663399\" stroke-width=\"2\" />\n",
              "<line x1=\"78268.6\" y1=\"106044.5\" x2=\"78273.3\" y2=\"106048.4\"\n",
              "    stroke=\"#663399\" stroke-width=\"2\" />\n",
              "<line x1=\"78273.3\" y1=\"106048.4\" x2=\"78277.9\" y2=\"106044.5\"\n",
              "    stroke=\"#663399\" stroke-width=\"2\" />\n",
              "<line x1=\"78277.9\" y1=\"106044.5\" x2=\"78273.3\" y2=\"106048.4\"\n",
              "    stroke=\"#663399\" stroke-width=\"2\" />\n",
              "<line x1=\"78273.3\" y1=\"106048.4\" x2=\"78273.3\" y2=\"106058.5\"\n",
              "    stroke=\"#663399\" stroke-width=\"2\" />\n",
              "<line x1=\"78273.3\" y1=\"106058.5\" x2=\"78283.3\" y2=\"106060.3\"\n",
              "    stroke=\"#663399\" stroke-width=\"2\" />\n",
              "<line x1=\"78283.3\" y1=\"106060.3\" x2=\"78287.9\" y2=\"106056.4\"\n",
              "    stroke=\"#663399\" stroke-width=\"2\" />\n",
              "<line x1=\"78287.9\" y1=\"106056.4\" x2=\"78283.3\" y2=\"106060.3\"\n",
              "    stroke=\"#663399\" stroke-width=\"2\" />\n",
              "<line x1=\"78283.3\" y1=\"106060.3\" x2=\"78286.3\" y2=\"106065.6\"\n",
              "    stroke=\"#663399\" stroke-width=\"2\" />\n",
              "<line x1=\"78286.3\" y1=\"106065.6\" x2=\"78283.3\" y2=\"106060.3\"\n",
              "    stroke=\"#663399\" stroke-width=\"2\" />\n",
              "<line x1=\"78283.3\" y1=\"106060.3\" x2=\"78273.3\" y2=\"106058.5\"\n",
              "    stroke=\"#663399\" stroke-width=\"2\" />\n",
              "<line x1=\"78273.3\" y1=\"106058.5\" x2=\"78886.1\" y2=\"105544.3\"\n",
              "    stroke=\"#663399\" stroke-width=\"2\" />\n",
              "<line x1=\"78886.1\" y1=\"105544.3\" x2=\"78886.1\" y2=\"105064.3\"\n",
              "    stroke=\"#663399\" stroke-width=\"2\" />\n",
              "<line x1=\"78886.1\" y1=\"105064.3\" x2=\"78665.5\" y2=\"104879.2\"\n",
              "    stroke=\"#663399\" stroke-width=\"2\" />\n",
              "<line x1=\"78665.5\" y1=\"104879.2\" x2=\"78495.3\" y2=\"104909.2\"\n",
              "    stroke=\"#663399\" stroke-width=\"2\" />\n",
              "<line x1=\"78495.3\" y1=\"104909.2\" x2=\"78443.5\" y2=\"104999.0\"\n",
              "    stroke=\"#663399\" stroke-width=\"2\" />\n",
              "<line x1=\"78443.5\" y1=\"104999.0\" x2=\"78464.7\" y2=\"105057.4\"\n",
              "    stroke=\"#663399\" stroke-width=\"2\" />\n",
              "<line x1=\"78464.7\" y1=\"105057.4\" x2=\"78499.8\" y2=\"105070.2\"\n",
              "    stroke=\"#663399\" stroke-width=\"2\" />\n",
              "<line x1=\"78499.8\" y1=\"105070.2\" x2=\"78519.2\" y2=\"105059.0\"\n",
              "    stroke=\"#663399\" stroke-width=\"2\" />\n",
              "<line x1=\"78519.2\" y1=\"105059.0\" x2=\"78521.5\" y2=\"105045.8\"\n",
              "    stroke=\"#663399\" stroke-width=\"2\" />\n",
              "<line x1=\"78521.5\" y1=\"105045.8\" x2=\"78516.4\" y2=\"105039.6\"\n",
              "    stroke=\"#663399\" stroke-width=\"2\" />\n",
              "<line x1=\"78516.4\" y1=\"105039.6\" x2=\"78521.5\" y2=\"105045.8\"\n",
              "    stroke=\"#663399\" stroke-width=\"2\" />\n",
              "<line x1=\"78521.5\" y1=\"105045.8\" x2=\"78528.5\" y2=\"105041.7\"\n",
              "    stroke=\"#663399\" stroke-width=\"2\" />\n",
              "<line x1=\"78528.5\" y1=\"105041.7\" x2=\"78521.5\" y2=\"105045.8\"\n",
              "    stroke=\"#663399\" stroke-width=\"2\" />\n",
              "<line x1=\"78521.5\" y1=\"105045.8\" x2=\"78519.2\" y2=\"105059.0\"\n",
              "    stroke=\"#663399\" stroke-width=\"2\" />\n",
              "<line x1=\"78519.2\" y1=\"105059.0\" x2=\"78531.8\" y2=\"105063.6\"\n",
              "    stroke=\"#663399\" stroke-width=\"2\" />\n",
              "<line x1=\"78531.8\" y1=\"105063.6\" x2=\"78538.8\" y2=\"105059.6\"\n",
              "    stroke=\"#663399\" stroke-width=\"2\" />\n",
              "<line x1=\"78538.8\" y1=\"105059.6\" x2=\"78531.8\" y2=\"105063.6\"\n",
              "    stroke=\"#663399\" stroke-width=\"2\" />\n",
              "<line x1=\"78531.8\" y1=\"105063.6\" x2=\"78668.6\" y2=\"105439.5\"\n",
              "    stroke=\"#663399\" stroke-width=\"2\" />\n",
              "<line x1=\"78668.6\" y1=\"105439.5\" x2=\"78894.2\" y2=\"105521.6\"\n",
              "    stroke=\"#663399\" stroke-width=\"2\" />\n",
              "<line x1=\"78894.2\" y1=\"105521.6\" x2=\"79018.9\" y2=\"105449.6\"\n",
              "    stroke=\"#663399\" stroke-width=\"2\" />\n",
              "<line x1=\"79018.9\" y1=\"105449.6\" x2=\"79033.9\" y2=\"105364.5\"\n",
              "    stroke=\"#663399\" stroke-width=\"2\" />\n",
              "<line x1=\"79033.9\" y1=\"105364.5\" x2=\"79000.6\" y2=\"105324.8\"\n",
              "    stroke=\"#663399\" stroke-width=\"2\" />\n",
              "<line x1=\"79000.6\" y1=\"105324.8\" x2=\"78969.4\" y2=\"105324.8\"\n",
              "    stroke=\"#663399\" stroke-width=\"2\" />\n",
              "<line x1=\"78969.4\" y1=\"105324.8\" x2=\"78957.5\" y2=\"105339.1\"\n",
              "    stroke=\"#663399\" stroke-width=\"2\" />\n",
              "<line x1=\"78957.5\" y1=\"105339.1\" x2=\"78959.4\" y2=\"105350.1\"\n",
              "    stroke=\"#663399\" stroke-width=\"2\" />\n",
              "<line x1=\"78959.4\" y1=\"105350.1\" x2=\"78965.2\" y2=\"105353.4\"\n",
              "    stroke=\"#663399\" stroke-width=\"2\" />\n",
              "<line x1=\"78965.2\" y1=\"105353.4\" x2=\"78959.4\" y2=\"105350.1\"\n",
              "    stroke=\"#663399\" stroke-width=\"2\" />\n",
              "<line x1=\"78959.4\" y1=\"105350.1\" x2=\"78955.1\" y2=\"105355.2\"\n",
              "    stroke=\"#663399\" stroke-width=\"2\" />\n",
              "<line x1=\"78955.1\" y1=\"105355.2\" x2=\"78959.4\" y2=\"105350.1\"\n",
              "    stroke=\"#663399\" stroke-width=\"2\" />\n",
              "<line x1=\"78959.4\" y1=\"105350.1\" x2=\"78957.5\" y2=\"105339.1\"\n",
              "    stroke=\"#663399\" stroke-width=\"2\" />\n",
              "<line x1=\"78957.5\" y1=\"105339.1\" x2=\"78946.3\" y2=\"105339.1\"\n",
              "    stroke=\"#663399\" stroke-width=\"2\" />\n",
              "<line x1=\"78946.3\" y1=\"105339.1\" x2=\"78941.9\" y2=\"105344.2\"\n",
              "    stroke=\"#663399\" stroke-width=\"2\" />\n",
              "<line x1=\"78941.9\" y1=\"105344.2\" x2=\"78946.3\" y2=\"105339.1\"\n",
              "    stroke=\"#663399\" stroke-width=\"2\" />\n",
              "<line x1=\"78946.3\" y1=\"105339.1\" x2=\"78941.9\" y2=\"105333.9\"\n",
              "    stroke=\"#663399\" stroke-width=\"2\" />\n",
              "<line x1=\"78941.9\" y1=\"105333.9\" x2=\"78946.3\" y2=\"105339.1\"\n",
              "    stroke=\"#663399\" stroke-width=\"2\" />\n",
              "<line x1=\"78946.3\" y1=\"105339.1\" x2=\"78957.5\" y2=\"105339.1\"\n",
              "    stroke=\"#663399\" stroke-width=\"2\" />\n",
              "<line x1=\"78957.5\" y1=\"105339.1\" x2=\"78969.4\" y2=\"105324.8\"\n",
              "    stroke=\"#663399\" stroke-width=\"2\" />\n",
              "<line x1=\"78969.4\" y1=\"105324.8\" x2=\"78957.5\" y2=\"105310.5\"\n",
              "    stroke=\"#663399\" stroke-width=\"2\" />\n",
              "<line x1=\"78957.5\" y1=\"105310.5\" x2=\"78946.3\" y2=\"105310.5\"\n",
              "    stroke=\"#663399\" stroke-width=\"2\" />\n",
              "<line x1=\"78946.3\" y1=\"105310.5\" x2=\"78941.9\" y2=\"105315.6\"\n",
              "    stroke=\"#663399\" stroke-width=\"2\" />\n",
              "<line x1=\"78941.9\" y1=\"105315.6\" x2=\"78946.3\" y2=\"105310.5\"\n",
              "    stroke=\"#663399\" stroke-width=\"2\" />\n",
              "<line x1=\"78946.3\" y1=\"105310.5\" x2=\"78941.9\" y2=\"105305.3\"\n",
              "    stroke=\"#663399\" stroke-width=\"2\" />\n",
              "<line x1=\"78941.9\" y1=\"105305.3\" x2=\"78946.3\" y2=\"105310.5\"\n",
              "    stroke=\"#663399\" stroke-width=\"2\" />\n",
              "<line x1=\"78946.3\" y1=\"105310.5\" x2=\"78957.5\" y2=\"105310.5\"\n",
              "    stroke=\"#663399\" stroke-width=\"2\" />\n",
              "<line x1=\"78957.5\" y1=\"105310.5\" x2=\"78959.4\" y2=\"105299.4\"\n",
              "    stroke=\"#663399\" stroke-width=\"2\" />\n",
              "<line x1=\"78959.4\" y1=\"105299.4\" x2=\"78955.1\" y2=\"105294.3\"\n",
              "    stroke=\"#663399\" stroke-width=\"2\" />\n",
              "<line x1=\"78955.1\" y1=\"105294.3\" x2=\"78959.4\" y2=\"105299.4\"\n",
              "    stroke=\"#663399\" stroke-width=\"2\" />\n",
              "<line x1=\"78959.4\" y1=\"105299.4\" x2=\"78965.2\" y2=\"105296.1\"\n",
              "    stroke=\"#663399\" stroke-width=\"2\" />\n",
              "<line x1=\"78965.2\" y1=\"105296.1\" x2=\"78959.4\" y2=\"105299.4\"\n",
              "    stroke=\"#663399\" stroke-width=\"2\" />\n",
              "<line x1=\"78959.4\" y1=\"105299.4\" x2=\"78957.5\" y2=\"105310.5\"\n",
              "    stroke=\"#663399\" stroke-width=\"2\" />\n",
              "<line x1=\"78957.5\" y1=\"105310.5\" x2=\"78969.4\" y2=\"105324.8\"\n",
              "    stroke=\"#663399\" stroke-width=\"2\" />\n",
              "<line x1=\"78969.4\" y1=\"105324.8\" x2=\"79000.6\" y2=\"105324.8\"\n",
              "    stroke=\"#663399\" stroke-width=\"2\" />\n",
              "<line x1=\"79000.6\" y1=\"105324.8\" x2=\"79006.0\" y2=\"105294.1\"\n",
              "    stroke=\"#663399\" stroke-width=\"2\" />\n",
              "<line x1=\"79006.0\" y1=\"105294.1\" x2=\"78994.0\" y2=\"105279.8\"\n",
              "    stroke=\"#663399\" stroke-width=\"2\" />\n",
              "<line x1=\"78994.0\" y1=\"105279.8\" x2=\"78982.8\" y2=\"105279.8\"\n",
              "    stroke=\"#663399\" stroke-width=\"2\" />\n",
              "<line x1=\"78982.8\" y1=\"105279.8\" x2=\"78978.4\" y2=\"105285.0\"\n",
              "    stroke=\"#663399\" stroke-width=\"2\" />\n",
              "<line x1=\"78978.4\" y1=\"105285.0\" x2=\"78982.8\" y2=\"105279.8\"\n",
              "    stroke=\"#663399\" stroke-width=\"2\" />\n",
              "<line x1=\"78982.8\" y1=\"105279.8\" x2=\"78978.4\" y2=\"105274.7\"\n",
              "    stroke=\"#663399\" stroke-width=\"2\" />\n",
              "<line x1=\"78978.4\" y1=\"105274.7\" x2=\"78982.8\" y2=\"105279.8\"\n",
              "    stroke=\"#663399\" stroke-width=\"2\" />\n",
              "<line x1=\"78982.8\" y1=\"105279.8\" x2=\"78994.0\" y2=\"105279.8\"\n",
              "    stroke=\"#663399\" stroke-width=\"2\" />\n",
              "<line x1=\"78994.0\" y1=\"105279.8\" x2=\"78995.9\" y2=\"105268.8\"\n",
              "    stroke=\"#663399\" stroke-width=\"2\" />\n",
              "<line x1=\"78995.9\" y1=\"105268.8\" x2=\"78991.6\" y2=\"105263.7\"\n",
              "    stroke=\"#663399\" stroke-width=\"2\" />\n",
              "<line x1=\"78991.6\" y1=\"105263.7\" x2=\"79008.9\" y2=\"105165.2\"\n",
              "    stroke=\"#663399\" stroke-width=\"2\" />\n",
              "<line x1=\"79008.9\" y1=\"105165.2\" x2=\"78970.4\" y2=\"105119.2\"\n",
              "    stroke=\"#663399\" stroke-width=\"2\" />\n",
              "<line x1=\"78970.4\" y1=\"105119.2\" x2=\"78934.4\" y2=\"105119.2\"\n",
              "    stroke=\"#663399\" stroke-width=\"2\" />\n",
              "<line x1=\"78934.4\" y1=\"105119.2\" x2=\"78920.5\" y2=\"105135.8\"\n",
              "    stroke=\"#663399\" stroke-width=\"2\" />\n",
              "<line x1=\"78920.5\" y1=\"105135.8\" x2=\"78922.7\" y2=\"105148.5\"\n",
              "    stroke=\"#663399\" stroke-width=\"2\" />\n",
              "<line x1=\"78922.7\" y1=\"105148.5\" x2=\"78929.5\" y2=\"105152.4\"\n",
              "    stroke=\"#663399\" stroke-width=\"2\" />\n",
              "<line x1=\"78929.5\" y1=\"105152.4\" x2=\"78922.7\" y2=\"105148.5\"\n",
              "    stroke=\"#663399\" stroke-width=\"2\" />\n",
              "<line x1=\"78922.7\" y1=\"105148.5\" x2=\"78917.7\" y2=\"105154.5\"\n",
              "    stroke=\"#663399\" stroke-width=\"2\" />\n",
              "<line x1=\"78917.7\" y1=\"105154.5\" x2=\"78922.7\" y2=\"105148.5\"\n",
              "    stroke=\"#663399\" stroke-width=\"2\" />\n",
              "<line x1=\"78922.7\" y1=\"105148.5\" x2=\"78920.5\" y2=\"105135.8\"\n",
              "    stroke=\"#663399\" stroke-width=\"2\" />\n",
              "<line x1=\"78920.5\" y1=\"105135.8\" x2=\"78907.5\" y2=\"105135.8\"\n",
              "    stroke=\"#663399\" stroke-width=\"2\" />\n",
              "<line x1=\"78907.5\" y1=\"105135.8\" x2=\"78902.5\" y2=\"105141.7\"\n",
              "    stroke=\"#663399\" stroke-width=\"2\" />\n",
              "<line x1=\"78902.5\" y1=\"105141.7\" x2=\"78907.5\" y2=\"105135.8\"\n",
              "    stroke=\"#663399\" stroke-width=\"2\" />\n",
              "<line x1=\"78907.5\" y1=\"105135.8\" x2=\"78902.5\" y2=\"105129.8\"\n",
              "    stroke=\"#663399\" stroke-width=\"2\" />\n",
              "<line x1=\"78902.5\" y1=\"105129.8\" x2=\"78907.5\" y2=\"105135.8\"\n",
              "    stroke=\"#663399\" stroke-width=\"2\" />\n",
              "<line x1=\"78907.5\" y1=\"105135.8\" x2=\"78920.5\" y2=\"105135.8\"\n",
              "    stroke=\"#663399\" stroke-width=\"2\" />\n",
              "<line x1=\"78920.5\" y1=\"105135.8\" x2=\"78934.4\" y2=\"105119.2\"\n",
              "    stroke=\"#663399\" stroke-width=\"2\" />\n",
              "<line x1=\"78934.4\" y1=\"105119.2\" x2=\"78920.5\" y2=\"105102.7\"\n",
              "    stroke=\"#663399\" stroke-width=\"2\" />\n",
              "<line x1=\"78920.5\" y1=\"105102.7\" x2=\"78907.5\" y2=\"105102.7\"\n",
              "    stroke=\"#663399\" stroke-width=\"2\" />\n",
              "<line x1=\"78907.5\" y1=\"105102.7\" x2=\"78902.5\" y2=\"105108.6\"\n",
              "    stroke=\"#663399\" stroke-width=\"2\" />\n",
              "<line x1=\"78902.5\" y1=\"105108.6\" x2=\"78907.5\" y2=\"105102.7\"\n",
              "    stroke=\"#663399\" stroke-width=\"2\" />\n",
              "<line x1=\"78907.5\" y1=\"105102.7\" x2=\"78902.5\" y2=\"105096.7\"\n",
              "    stroke=\"#663399\" stroke-width=\"2\" />\n",
              "<line x1=\"78902.5\" y1=\"105096.7\" x2=\"78907.5\" y2=\"105102.7\"\n",
              "    stroke=\"#663399\" stroke-width=\"2\" />\n",
              "<line x1=\"78907.5\" y1=\"105102.7\" x2=\"78920.5\" y2=\"105102.7\"\n",
              "    stroke=\"#663399\" stroke-width=\"2\" />\n",
              "<line x1=\"78920.5\" y1=\"105102.7\" x2=\"78922.7\" y2=\"105089.9\"\n",
              "    stroke=\"#663399\" stroke-width=\"2\" />\n",
              "<line x1=\"78922.7\" y1=\"105089.9\" x2=\"78917.7\" y2=\"105083.9\"\n",
              "    stroke=\"#663399\" stroke-width=\"2\" />\n",
              "<line x1=\"78917.7\" y1=\"105083.9\" x2=\"78922.7\" y2=\"105089.9\"\n",
              "    stroke=\"#663399\" stroke-width=\"2\" />\n",
              "<line x1=\"78922.7\" y1=\"105089.9\" x2=\"78929.5\" y2=\"105086.0\"\n",
              "    stroke=\"#663399\" stroke-width=\"2\" />\n",
              "<line x1=\"78929.5\" y1=\"105086.0\" x2=\"78922.7\" y2=\"105089.9\"\n",
              "    stroke=\"#663399\" stroke-width=\"2\" />\n",
              "<line x1=\"78922.7\" y1=\"105089.9\" x2=\"78920.5\" y2=\"105102.7\"\n",
              "    stroke=\"#663399\" stroke-width=\"2\" />\n",
              "<line x1=\"78920.5\" y1=\"105102.7\" x2=\"78934.4\" y2=\"105119.2\"\n",
              "    stroke=\"#663399\" stroke-width=\"2\" />\n",
              "<line x1=\"78934.4\" y1=\"105119.2\" x2=\"78970.4\" y2=\"105119.2\"\n",
              "    stroke=\"#663399\" stroke-width=\"2\" />\n",
              "<line x1=\"78970.4\" y1=\"105119.2\" x2=\"78976.6\" y2=\"105083.8\"\n",
              "    stroke=\"#663399\" stroke-width=\"2\" />\n",
              "<line x1=\"78976.6\" y1=\"105083.8\" x2=\"78962.7\" y2=\"105067.2\"\n",
              "    stroke=\"#663399\" stroke-width=\"2\" />\n",
              "<line x1=\"78962.7\" y1=\"105067.2\" x2=\"78949.8\" y2=\"105067.2\"\n",
              "    stroke=\"#663399\" stroke-width=\"2\" />\n",
              "<line x1=\"78949.8\" y1=\"105067.2\" x2=\"78944.8\" y2=\"105073.2\"\n",
              "    stroke=\"#663399\" stroke-width=\"2\" />\n",
              "<line x1=\"78944.8\" y1=\"105073.2\" x2=\"78949.8\" y2=\"105067.2\"\n",
              "    stroke=\"#663399\" stroke-width=\"2\" />\n",
              "<line x1=\"78949.8\" y1=\"105067.2\" x2=\"78944.8\" y2=\"105061.3\"\n",
              "    stroke=\"#663399\" stroke-width=\"2\" />\n",
              "<line x1=\"78944.8\" y1=\"105061.3\" x2=\"78949.8\" y2=\"105067.2\"\n",
              "    stroke=\"#663399\" stroke-width=\"2\" />\n",
              "<line x1=\"78949.8\" y1=\"105067.2\" x2=\"78962.7\" y2=\"105067.2\"\n",
              "    stroke=\"#663399\" stroke-width=\"2\" />\n",
              "<line x1=\"78962.7\" y1=\"105067.2\" x2=\"78965.0\" y2=\"105054.4\"\n",
              "    stroke=\"#663399\" stroke-width=\"2\" />\n",
              "<line x1=\"78965.0\" y1=\"105054.4\" x2=\"78960.0\" y2=\"105048.5\"\n",
              "    stroke=\"#663399\" stroke-width=\"2\" />\n",
              "<line x1=\"78960.0\" y1=\"105048.5\" x2=\"78965.0\" y2=\"105054.4\"\n",
              "    stroke=\"#663399\" stroke-width=\"2\" />\n",
              "<line x1=\"78965.0\" y1=\"105054.4\" x2=\"78971.7\" y2=\"105050.6\"\n",
              "    stroke=\"#663399\" stroke-width=\"2\" />\n",
              "<line x1=\"78971.7\" y1=\"105050.6\" x2=\"78965.0\" y2=\"105054.4\"\n",
              "    stroke=\"#663399\" stroke-width=\"2\" />\n",
              "<line x1=\"78965.0\" y1=\"105054.4\" x2=\"78962.7\" y2=\"105067.2\"\n",
              "    stroke=\"#663399\" stroke-width=\"2\" />\n",
              "<line x1=\"78962.7\" y1=\"105067.2\" x2=\"78976.6\" y2=\"105083.8\"\n",
              "    stroke=\"#663399\" stroke-width=\"2\" />\n",
              "<line x1=\"78976.6\" y1=\"105083.8\" x2=\"78995.3\" y2=\"105073.0\"\n",
              "    stroke=\"#663399\" stroke-width=\"2\" />\n",
              "<line x1=\"78995.3\" y1=\"105073.0\" x2=\"78997.6\" y2=\"105060.2\"\n",
              "    stroke=\"#663399\" stroke-width=\"2\" />\n",
              "<line x1=\"78997.6\" y1=\"105060.2\" x2=\"78992.6\" y2=\"105054.2\"\n",
              "    stroke=\"#663399\" stroke-width=\"2\" />\n",
              "<line x1=\"78992.6\" y1=\"105054.2\" x2=\"78997.6\" y2=\"105060.2\"\n",
              "    stroke=\"#663399\" stroke-width=\"2\" />\n",
              "<line x1=\"78997.6\" y1=\"105060.2\" x2=\"79004.3\" y2=\"105056.3\"\n",
              "    stroke=\"#663399\" stroke-width=\"2\" />\n",
              "<line x1=\"79004.3\" y1=\"105056.3\" x2=\"78997.6\" y2=\"105060.2\"\n",
              "    stroke=\"#663399\" stroke-width=\"2\" />\n",
              "<line x1=\"78997.6\" y1=\"105060.2\" x2=\"78995.3\" y2=\"105073.0\"\n",
              "    stroke=\"#663399\" stroke-width=\"2\" />\n",
              "<line x1=\"78995.3\" y1=\"105073.0\" x2=\"79007.5\" y2=\"105077.4\"\n",
              "    stroke=\"#663399\" stroke-width=\"2\" />\n",
              "<line x1=\"79007.5\" y1=\"105077.4\" x2=\"79014.3\" y2=\"105073.5\"\n",
              "    stroke=\"#663399\" stroke-width=\"2\" />\n",
              "<line x1=\"79014.3\" y1=\"105073.5\" x2=\"79007.5\" y2=\"105077.4\"\n",
              "    stroke=\"#663399\" stroke-width=\"2\" />\n",
              "<line x1=\"79007.5\" y1=\"105077.4\" x2=\"79010.2\" y2=\"105084.7\"\n",
              "    stroke=\"#663399\" stroke-width=\"2\" />\n",
              "<line x1=\"79010.2\" y1=\"105084.7\" x2=\"79007.5\" y2=\"105077.4\"\n",
              "    stroke=\"#663399\" stroke-width=\"2\" />\n",
              "<line x1=\"79007.5\" y1=\"105077.4\" x2=\"78995.3\" y2=\"105073.0\"\n",
              "    stroke=\"#663399\" stroke-width=\"2\" />\n",
              "<line x1=\"78995.3\" y1=\"105073.0\" x2=\"78976.6\" y2=\"105083.8\"\n",
              "    stroke=\"#663399\" stroke-width=\"2\" />\n",
              "<line x1=\"78976.6\" y1=\"105083.8\" x2=\"78970.4\" y2=\"105119.2\"\n",
              "    stroke=\"#663399\" stroke-width=\"2\" />\n",
              "<line x1=\"78970.4\" y1=\"105119.2\" x2=\"79008.9\" y2=\"105165.2\"\n",
              "    stroke=\"#663399\" stroke-width=\"2\" />\n",
              "<line x1=\"79008.9\" y1=\"105165.2\" x2=\"79060.9\" y2=\"105135.2\"\n",
              "    stroke=\"#663399\" stroke-width=\"2\" />\n",
              "<line x1=\"79060.9\" y1=\"105135.2\" x2=\"79067.2\" y2=\"105099.7\"\n",
              "    stroke=\"#663399\" stroke-width=\"2\" />\n",
              "<line x1=\"79067.2\" y1=\"105099.7\" x2=\"79053.3\" y2=\"105083.2\"\n",
              "    stroke=\"#663399\" stroke-width=\"2\" />\n",
              "<line x1=\"79053.3\" y1=\"105083.2\" x2=\"79040.3\" y2=\"105083.2\"\n",
              "    stroke=\"#663399\" stroke-width=\"2\" />\n",
              "<line x1=\"79040.3\" y1=\"105083.2\" x2=\"79035.3\" y2=\"105089.1\"\n",
              "    stroke=\"#663399\" stroke-width=\"2\" />\n",
              "<line x1=\"79035.3\" y1=\"105089.1\" x2=\"79040.3\" y2=\"105083.2\"\n",
              "    stroke=\"#663399\" stroke-width=\"2\" />\n",
              "<line x1=\"79040.3\" y1=\"105083.2\" x2=\"79035.3\" y2=\"105077.2\"\n",
              "    stroke=\"#663399\" stroke-width=\"2\" />\n",
              "<line x1=\"79035.3\" y1=\"105077.2\" x2=\"79040.3\" y2=\"105083.2\"\n",
              "    stroke=\"#663399\" stroke-width=\"2\" />\n",
              "<line x1=\"79040.3\" y1=\"105083.2\" x2=\"79053.3\" y2=\"105083.2\"\n",
              "    stroke=\"#663399\" stroke-width=\"2\" />\n",
              "<line x1=\"79053.3\" y1=\"105083.2\" x2=\"79055.5\" y2=\"105070.4\"\n",
              "    stroke=\"#663399\" stroke-width=\"2\" />\n",
              "<line x1=\"79055.5\" y1=\"105070.4\" x2=\"79050.5\" y2=\"105064.5\"\n",
              "    stroke=\"#663399\" stroke-width=\"2\" />\n",
              "<line x1=\"79050.5\" y1=\"105064.5\" x2=\"79055.5\" y2=\"105070.4\"\n",
              "    stroke=\"#663399\" stroke-width=\"2\" />\n",
              "<line x1=\"79055.5\" y1=\"105070.4\" x2=\"79062.3\" y2=\"105066.5\"\n",
              "    stroke=\"#663399\" stroke-width=\"2\" />\n",
              "<line x1=\"79062.3\" y1=\"105066.5\" x2=\"79055.5\" y2=\"105070.4\"\n",
              "    stroke=\"#663399\" stroke-width=\"2\" />\n",
              "<line x1=\"79055.5\" y1=\"105070.4\" x2=\"79053.3\" y2=\"105083.2\"\n",
              "    stroke=\"#663399\" stroke-width=\"2\" />\n",
              "<line x1=\"79053.3\" y1=\"105083.2\" x2=\"79067.2\" y2=\"105099.7\"\n",
              "    stroke=\"#663399\" stroke-width=\"2\" />\n",
              "<line x1=\"79067.2\" y1=\"105099.7\" x2=\"79085.9\" y2=\"105088.9\"\n",
              "    stroke=\"#663399\" stroke-width=\"2\" />\n",
              "<line x1=\"79085.9\" y1=\"105088.9\" x2=\"79088.1\" y2=\"105076.2\"\n",
              "    stroke=\"#663399\" stroke-width=\"2\" />\n",
              "<line x1=\"79088.1\" y1=\"105076.2\" x2=\"79083.1\" y2=\"105070.2\"\n",
              "    stroke=\"#663399\" stroke-width=\"2\" />\n",
              "<line x1=\"79083.1\" y1=\"105070.2\" x2=\"79088.1\" y2=\"105076.2\"\n",
              "    stroke=\"#663399\" stroke-width=\"2\" />\n",
              "<line x1=\"79088.1\" y1=\"105076.2\" x2=\"79094.9\" y2=\"105072.3\"\n",
              "    stroke=\"#663399\" stroke-width=\"2\" />\n",
              "<line x1=\"79094.9\" y1=\"105072.3\" x2=\"79088.1\" y2=\"105076.2\"\n",
              "    stroke=\"#663399\" stroke-width=\"2\" />\n",
              "<line x1=\"79088.1\" y1=\"105076.2\" x2=\"79085.9\" y2=\"105088.9\"\n",
              "    stroke=\"#663399\" stroke-width=\"2\" />\n",
              "<line x1=\"79085.9\" y1=\"105088.9\" x2=\"79098.0\" y2=\"105093.4\"\n",
              "    stroke=\"#663399\" stroke-width=\"2\" />\n",
              "<line x1=\"79098.0\" y1=\"105093.4\" x2=\"79104.8\" y2=\"105089.5\"\n",
              "    stroke=\"#663399\" stroke-width=\"2\" />\n",
              "<line x1=\"79104.8\" y1=\"105089.5\" x2=\"79098.0\" y2=\"105093.4\"\n",
              "    stroke=\"#663399\" stroke-width=\"2\" />\n",
              "<line x1=\"79098.0\" y1=\"105093.4\" x2=\"79100.7\" y2=\"105100.7\"\n",
              "    stroke=\"#663399\" stroke-width=\"2\" />\n",
              "<line x1=\"79100.7\" y1=\"105100.7\" x2=\"79098.0\" y2=\"105093.4\"\n",
              "    stroke=\"#663399\" stroke-width=\"2\" />\n",
              "<line x1=\"79098.0\" y1=\"105093.4\" x2=\"79085.9\" y2=\"105088.9\"\n",
              "    stroke=\"#663399\" stroke-width=\"2\" />\n",
              "<line x1=\"79085.9\" y1=\"105088.9\" x2=\"79067.2\" y2=\"105099.7\"\n",
              "    stroke=\"#663399\" stroke-width=\"2\" />\n",
              "<line x1=\"79067.2\" y1=\"105099.7\" x2=\"79060.9\" y2=\"105135.2\"\n",
              "    stroke=\"#663399\" stroke-width=\"2\" />\n",
              "<line x1=\"79060.9\" y1=\"105135.2\" x2=\"79094.7\" y2=\"105147.5\"\n",
              "    stroke=\"#663399\" stroke-width=\"2\" />\n",
              "<line x1=\"79094.7\" y1=\"105147.5\" x2=\"79113.4\" y2=\"105136.7\"\n",
              "    stroke=\"#663399\" stroke-width=\"2\" />\n",
              "<line x1=\"79113.4\" y1=\"105136.7\" x2=\"79115.7\" y2=\"105123.9\"\n",
              "    stroke=\"#663399\" stroke-width=\"2\" />\n",
              "<line x1=\"79115.7\" y1=\"105123.9\" x2=\"79110.7\" y2=\"105118.0\"\n",
              "    stroke=\"#663399\" stroke-width=\"2\" />\n",
              "<line x1=\"79110.7\" y1=\"105118.0\" x2=\"79115.7\" y2=\"105123.9\"\n",
              "    stroke=\"#663399\" stroke-width=\"2\" />\n",
              "<line x1=\"79115.7\" y1=\"105123.9\" x2=\"79122.4\" y2=\"105120.0\"\n",
              "    stroke=\"#663399\" stroke-width=\"2\" />\n",
              "<line x1=\"79122.4\" y1=\"105120.0\" x2=\"79115.7\" y2=\"105123.9\"\n",
              "    stroke=\"#663399\" stroke-width=\"2\" />\n",
              "<line x1=\"79115.7\" y1=\"105123.9\" x2=\"79113.4\" y2=\"105136.7\"\n",
              "    stroke=\"#663399\" stroke-width=\"2\" />\n",
              "<line x1=\"79113.4\" y1=\"105136.7\" x2=\"79125.6\" y2=\"105141.1\"\n",
              "    stroke=\"#663399\" stroke-width=\"2\" />\n",
              "<line x1=\"79125.6\" y1=\"105141.1\" x2=\"79132.4\" y2=\"105137.2\"\n",
              "    stroke=\"#663399\" stroke-width=\"2\" />\n",
              "<line x1=\"79132.4\" y1=\"105137.2\" x2=\"79125.6\" y2=\"105141.1\"\n",
              "    stroke=\"#663399\" stroke-width=\"2\" />\n",
              "<line x1=\"79125.6\" y1=\"105141.1\" x2=\"79128.3\" y2=\"105148.4\"\n",
              "    stroke=\"#663399\" stroke-width=\"2\" />\n",
              "<line x1=\"79128.3\" y1=\"105148.4\" x2=\"79125.6\" y2=\"105141.1\"\n",
              "    stroke=\"#663399\" stroke-width=\"2\" />\n",
              "<line x1=\"79125.6\" y1=\"105141.1\" x2=\"79113.4\" y2=\"105136.7\"\n",
              "    stroke=\"#663399\" stroke-width=\"2\" />\n",
              "<line x1=\"79113.4\" y1=\"105136.7\" x2=\"79094.7\" y2=\"105147.5\"\n",
              "    stroke=\"#663399\" stroke-width=\"2\" />\n",
              "<line x1=\"79094.7\" y1=\"105147.5\" x2=\"79102.1\" y2=\"105167.8\"\n",
              "    stroke=\"#663399\" stroke-width=\"2\" />\n",
              "<line x1=\"79102.1\" y1=\"105167.8\" x2=\"79114.3\" y2=\"105172.2\"\n",
              "    stroke=\"#663399\" stroke-width=\"2\" />\n",
              "<line x1=\"79114.3\" y1=\"105172.2\" x2=\"79121.0\" y2=\"105168.3\"\n",
              "    stroke=\"#663399\" stroke-width=\"2\" />\n",
              "<line x1=\"79121.0\" y1=\"105168.3\" x2=\"79114.3\" y2=\"105172.2\"\n",
              "    stroke=\"#663399\" stroke-width=\"2\" />\n",
              "<line x1=\"79114.3\" y1=\"105172.2\" x2=\"79117.0\" y2=\"105179.5\"\n",
              "    stroke=\"#663399\" stroke-width=\"2\" />\n",
              "<line x1=\"79117.0\" y1=\"105179.5\" x2=\"79114.3\" y2=\"105172.2\"\n",
              "    stroke=\"#663399\" stroke-width=\"2\" />\n",
              "<line x1=\"79114.3\" y1=\"105172.2\" x2=\"79102.1\" y2=\"105167.8\"\n",
              "    stroke=\"#663399\" stroke-width=\"2\" />\n",
              "<line x1=\"79102.1\" y1=\"105167.8\" x2=\"79095.6\" y2=\"105179.0\"\n",
              "    stroke=\"#663399\" stroke-width=\"2\" />\n",
              "<line x1=\"79095.6\" y1=\"105179.0\" x2=\"79098.3\" y2=\"105186.3\"\n",
              "    stroke=\"#663399\" stroke-width=\"2\" />\n",
              "<line x1=\"79098.3\" y1=\"105186.3\" x2=\"79095.6\" y2=\"105179.0\"\n",
              "    stroke=\"#663399\" stroke-width=\"2\" />\n",
              "<line x1=\"79095.6\" y1=\"105179.0\" x2=\"79088.0\" y2=\"105180.4\"\n",
              "    stroke=\"#663399\" stroke-width=\"2\" />\n",
              "<line x1=\"79088.0\" y1=\"105180.4\" x2=\"79095.6\" y2=\"105179.0\"\n",
              "    stroke=\"#663399\" stroke-width=\"2\" />\n",
              "<line x1=\"79095.6\" y1=\"105179.0\" x2=\"79102.1\" y2=\"105167.8\"\n",
              "    stroke=\"#663399\" stroke-width=\"2\" />\n",
              "<line x1=\"79102.1\" y1=\"105167.8\" x2=\"79094.7\" y2=\"105147.5\"\n",
              "    stroke=\"#663399\" stroke-width=\"2\" />\n",
              "<line x1=\"79094.7\" y1=\"105147.5\" x2=\"79060.9\" y2=\"105135.2\"\n",
              "    stroke=\"#663399\" stroke-width=\"2\" />\n",
              "<line x1=\"79060.9\" y1=\"105135.2\" x2=\"79008.9\" y2=\"105165.2\"\n",
              "    stroke=\"#663399\" stroke-width=\"2\" />\n",
              "<line x1=\"79008.9\" y1=\"105165.2\" x2=\"78991.6\" y2=\"105263.7\"\n",
              "    stroke=\"#663399\" stroke-width=\"2\" />\n",
              "\n",
              "<g transform=\"rotate(190.0,78991.6,105263.7) translate(78991.6, 105263.7)\">\n",
              "    <circle stroke=\"#63A375\" stroke-width=\"2\" fill=\"transparent\" r=\"5.5\" cx=\"0\" cy=\"0\"/>\n",
              "    <polygon points=\"0,12 2,9 -2,9\" style=\"fill:#63A375;stroke:#63A375;stroke-width:2\"/>\n",
              "</g>\n",
              "\n",
              "</svg>"
            ]
          },
          "metadata": {}
        }
      ],
      "source": [
        "draw(100)"
      ]
    },
    {
      "cell_type": "markdown",
      "id": "e525ba59",
      "metadata": {
        "id": "e525ba59"
      },
      "source": [
        "### Exercise\n",
        "\n",
        "Ask a virtual assistant \"What is the Koch curve?\"\n",
        "\n",
        "To draw a Koch curve with length `x`, all you\n",
        "have to do is\n",
        "\n",
        "1.  Draw a Koch curve with length `x/3`.\n",
        "\n",
        "2.  Turn left 60 degrees.\n",
        "\n",
        "3.  Draw a Koch curve with length `x/3`.\n",
        "\n",
        "4.  Turn right 120 degrees.\n",
        "\n",
        "5.  Draw a Koch curve with length `x/3`.\n",
        "\n",
        "6.  Turn left 60 degrees.\n",
        "\n",
        "7.  Draw a Koch curve with length `x/3`.\n",
        "\n",
        "The exception is if `x` is less than `5` -- in that case, you can just draw a straight line with length `x`.\n",
        "\n",
        "Write a function called `koch` that takes `x` as an argument and draws a Koch curve with the given length.\n"
      ]
    },
    {
      "cell_type": "code",
      "execution_count": 122,
      "id": "c1acc853",
      "metadata": {
        "id": "c1acc853"
      },
      "outputs": [],
      "source": [
        "from jupyturtle import left, right, forward, make_turtle\n",
        "\n",
        "def koch(x):\n",
        "  if x > 5:\n",
        "    forward(x/3)\n",
        "    left(60)\n",
        "    forward(x/3)\n",
        "    right(120)\n",
        "    forward(x/3)\n",
        "    left(60)\n",
        "    forward(x/3)\n",
        "  elif x < 5:\n",
        "    forward(x)\n",
        "  else:\n",
        "    pass\n",
        "\n",
        "\n",
        "\n"
      ]
    },
    {
      "cell_type": "markdown",
      "id": "2991143a",
      "metadata": {
        "id": "2991143a"
      },
      "source": [
        "The result should look like this:"
      ]
    },
    {
      "cell_type": "code",
      "execution_count": 123,
      "id": "55507716",
      "metadata": {
        "id": "55507716",
        "outputId": "f30d0892-10a6-455f-9c3b-8b1ba5c89ae9",
        "colab": {
          "base_uri": "https://localhost:8080/",
          "height": 172
        }
      },
      "outputs": [
        {
          "output_type": "display_data",
          "data": {
            "text/plain": [
              "<IPython.core.display.HTML object>"
            ],
            "text/html": [
              "<svg width=\"300\" height=\"150\">\n",
              "    <rect width=\"100%\" height=\"100%\" fill=\"#F3F3F7\" />\n",
              "\n",
              "<line x1=\"150\" y1=\"75\" x2=\"190.0\" y2=\"75.0\"\n",
              "    stroke=\"#663399\" stroke-width=\"2\" />\n",
              "<line x1=\"190.0\" y1=\"75.0\" x2=\"210.0\" y2=\"40.4\"\n",
              "    stroke=\"#663399\" stroke-width=\"2\" />\n",
              "<line x1=\"210.0\" y1=\"40.4\" x2=\"230.0\" y2=\"75.0\"\n",
              "    stroke=\"#663399\" stroke-width=\"2\" />\n",
              "<line x1=\"230.0\" y1=\"75.0\" x2=\"270.0\" y2=\"75.0\"\n",
              "    stroke=\"#663399\" stroke-width=\"2\" />\n",
              "\n",
              "<g transform=\"rotate(-90.0,270.0,75.0) translate(270.0, 75.0)\">\n",
              "    <circle stroke=\"#63A375\" stroke-width=\"2\" fill=\"transparent\" r=\"5.5\" cx=\"0\" cy=\"0\"/>\n",
              "    <polygon points=\"0,12 2,9 -2,9\" style=\"fill:#63A375;stroke:#63A375;stroke-width:2\"/>\n",
              "</g>\n",
              "\n",
              "</svg>"
            ]
          },
          "metadata": {}
        }
      ],
      "source": [
        "make_turtle(delay=0)\n",
        "koch(120)"
      ]
    },
    {
      "cell_type": "markdown",
      "id": "b1c58420",
      "metadata": {
        "tags": [],
        "id": "b1c58420"
      },
      "source": [
        "Once you have koch working, you can use this loop to draw three Koch curves in the shape of a snowflake."
      ]
    },
    {
      "cell_type": "code",
      "execution_count": 124,
      "id": "86d3123b",
      "metadata": {
        "tags": [],
        "id": "86d3123b",
        "outputId": "d0b33bed-f68f-4fae-f5ed-6ca7f3eb39c2",
        "colab": {
          "base_uri": "https://localhost:8080/",
          "height": 322
        }
      },
      "outputs": [
        {
          "output_type": "display_data",
          "data": {
            "text/plain": [
              "<IPython.core.display.HTML object>"
            ],
            "text/html": [
              "<svg width=\"300\" height=\"300\">\n",
              "    <rect width=\"100%\" height=\"100%\" fill=\"#F3F3F7\" />\n",
              "\n",
              "<line x1=\"150\" y1=\"150\" x2=\"190.0\" y2=\"150.0\"\n",
              "    stroke=\"#663399\" stroke-width=\"2\" />\n",
              "<line x1=\"190.0\" y1=\"150.0\" x2=\"210.0\" y2=\"115.4\"\n",
              "    stroke=\"#663399\" stroke-width=\"2\" />\n",
              "<line x1=\"210.0\" y1=\"115.4\" x2=\"230.0\" y2=\"150.0\"\n",
              "    stroke=\"#663399\" stroke-width=\"2\" />\n",
              "<line x1=\"230.0\" y1=\"150.0\" x2=\"270.0\" y2=\"150.0\"\n",
              "    stroke=\"#663399\" stroke-width=\"2\" />\n",
              "<line x1=\"270.0\" y1=\"150.0\" x2=\"250.0\" y2=\"184.6\"\n",
              "    stroke=\"#663399\" stroke-width=\"2\" />\n",
              "<line x1=\"250.0\" y1=\"184.6\" x2=\"270.0\" y2=\"219.3\"\n",
              "    stroke=\"#663399\" stroke-width=\"2\" />\n",
              "<line x1=\"270.0\" y1=\"219.3\" x2=\"230.0\" y2=\"219.3\"\n",
              "    stroke=\"#663399\" stroke-width=\"2\" />\n",
              "<line x1=\"230.0\" y1=\"219.3\" x2=\"210.0\" y2=\"253.9\"\n",
              "    stroke=\"#663399\" stroke-width=\"2\" />\n",
              "<line x1=\"210.0\" y1=\"253.9\" x2=\"190.0\" y2=\"219.3\"\n",
              "    stroke=\"#663399\" stroke-width=\"2\" />\n",
              "<line x1=\"190.0\" y1=\"219.3\" x2=\"150.0\" y2=\"219.3\"\n",
              "    stroke=\"#663399\" stroke-width=\"2\" />\n",
              "<line x1=\"150.0\" y1=\"219.3\" x2=\"170.0\" y2=\"184.6\"\n",
              "    stroke=\"#663399\" stroke-width=\"2\" />\n",
              "<line x1=\"170.0\" y1=\"184.6\" x2=\"150.0\" y2=\"150.0\"\n",
              "    stroke=\"#663399\" stroke-width=\"2\" />\n",
              "\n",
              "<g transform=\"rotate(-90.0,150.0,150.0) translate(150.0, 150.0)\">\n",
              "    <circle stroke=\"#63A375\" stroke-width=\"2\" fill=\"transparent\" r=\"5.5\" cx=\"0\" cy=\"0\"/>\n",
              "    <polygon points=\"0,12 2,9 -2,9\" style=\"fill:#63A375;stroke:#63A375;stroke-width:2\"/>\n",
              "</g>\n",
              "\n",
              "</svg>"
            ]
          },
          "metadata": {}
        }
      ],
      "source": [
        "make_turtle(delay=0, height=300)\n",
        "for i in range(3):\n",
        "    koch(120)\n",
        "    right(120)"
      ]
    },
    {
      "cell_type": "markdown",
      "id": "4c964239",
      "metadata": {
        "id": "4c964239"
      },
      "source": [
        "### Exercise\n",
        "\n",
        "Virtual assistants know about the functions in the `jupyturtle` module, but there are many versions of these functions, with different names, so a VA might not know which one you are talking about.\n",
        "\n",
        "To solve this problem, you can provide additional information before you ask a question.\n",
        "For example, you could start a prompt with \"Here's a program that uses the `jupyturtle` module,\" and then paste in one of the examples from this chapter.\n",
        "After that, the VA should be able to generate code that uses this module.\n",
        "\n",
        "As an example, ask a VA for a program that draws a Sierpiński triangle.\n",
        "The code you get should be a good starting place, but you might have to do some debugging.\n",
        "If the first attempt doesn't work, you can tell the VA what happened and ask for help -- or you can debug it yourself."
      ]
    },
    {
      "cell_type": "code",
      "execution_count": 129,
      "id": "68439acf",
      "metadata": {
        "id": "68439acf"
      },
      "outputs": [],
      "source": [
        "from jupyturtle import *\n",
        "\n",
        "def draw_sierpinski(length, level):\n",
        "    \"\"\"Draws a Sierpiński triangle fractal.\"\"\"\n",
        "    if level == 0:\n",
        "        # Draw one filled triangle\n",
        "        for i in range(3):\n",
        "            forward(length)\n",
        "            left(120)\n",
        "    else:\n",
        "        # Draw 3 smaller Sierpiński triangles\n",
        "        sierpinski(length / 2, level - 1)\n",
        "        forward(length / 2)\n",
        "        sierpinski(length / 2, level - 1)\n",
        "        back(length / 2)\n",
        "        left(60)\n",
        "        forward(length / 2)\n",
        "        right(60)\n",
        "        sierpinski(length / 2, level - 1)\n",
        "        left(60)\n",
        "        back(length / 2)\n",
        "        right(60)"
      ]
    },
    {
      "cell_type": "markdown",
      "id": "6a95097a",
      "metadata": {
        "id": "6a95097a"
      },
      "source": [
        "Here's what the result might look like, although the version you get might be different."
      ]
    },
    {
      "cell_type": "code",
      "execution_count": 130,
      "id": "43470b3d",
      "metadata": {
        "id": "43470b3d",
        "outputId": "72fb39be-3eef-4154-c2f9-2296dffb2db5",
        "colab": {
          "base_uri": "https://localhost:8080/",
          "height": 222
        }
      },
      "outputs": [
        {
          "output_type": "display_data",
          "data": {
            "text/plain": [
              "<IPython.core.display.HTML object>"
            ],
            "text/html": [
              "<svg width=\"300\" height=\"200\">\n",
              "    <rect width=\"100%\" height=\"100%\" fill=\"#F3F3F7\" />\n",
              "\n",
              "<line x1=\"150\" y1=\"100\" x2=\"162.5\" y2=\"100.0\"\n",
              "    stroke=\"#663399\" stroke-width=\"2\" />\n",
              "<line x1=\"162.5\" y1=\"100.0\" x2=\"156.2\" y2=\"89.2\"\n",
              "    stroke=\"#663399\" stroke-width=\"2\" />\n",
              "<line x1=\"156.2\" y1=\"89.2\" x2=\"150.0\" y2=\"100.0\"\n",
              "    stroke=\"#663399\" stroke-width=\"2\" />\n",
              "<line x1=\"150.0\" y1=\"100.0\" x2=\"162.5\" y2=\"100.0\"\n",
              "    stroke=\"#663399\" stroke-width=\"2\" />\n",
              "<line x1=\"162.5\" y1=\"100.0\" x2=\"175.0\" y2=\"100.0\"\n",
              "    stroke=\"#663399\" stroke-width=\"2\" />\n",
              "<line x1=\"175.0\" y1=\"100.0\" x2=\"168.8\" y2=\"89.2\"\n",
              "    stroke=\"#663399\" stroke-width=\"2\" />\n",
              "<line x1=\"168.8\" y1=\"89.2\" x2=\"162.5\" y2=\"100.0\"\n",
              "    stroke=\"#663399\" stroke-width=\"2\" />\n",
              "<line x1=\"162.5\" y1=\"100.0\" x2=\"150.0\" y2=\"100.0\"\n",
              "    stroke=\"#663399\" stroke-width=\"2\" />\n",
              "<line x1=\"150.0\" y1=\"100.0\" x2=\"156.2\" y2=\"89.2\"\n",
              "    stroke=\"#663399\" stroke-width=\"2\" />\n",
              "<line x1=\"156.2\" y1=\"89.2\" x2=\"168.8\" y2=\"89.2\"\n",
              "    stroke=\"#663399\" stroke-width=\"2\" />\n",
              "<line x1=\"168.8\" y1=\"89.2\" x2=\"162.5\" y2=\"78.3\"\n",
              "    stroke=\"#663399\" stroke-width=\"2\" />\n",
              "<line x1=\"162.5\" y1=\"78.3\" x2=\"156.2\" y2=\"89.2\"\n",
              "    stroke=\"#663399\" stroke-width=\"2\" />\n",
              "<line x1=\"156.2\" y1=\"89.2\" x2=\"150.0\" y2=\"100.0\"\n",
              "    stroke=\"#663399\" stroke-width=\"2\" />\n",
              "<line x1=\"150.0\" y1=\"100.0\" x2=\"175.0\" y2=\"100.0\"\n",
              "    stroke=\"#663399\" stroke-width=\"2\" />\n",
              "<line x1=\"175.0\" y1=\"100.0\" x2=\"187.5\" y2=\"100.0\"\n",
              "    stroke=\"#663399\" stroke-width=\"2\" />\n",
              "<line x1=\"187.5\" y1=\"100.0\" x2=\"181.2\" y2=\"89.2\"\n",
              "    stroke=\"#663399\" stroke-width=\"2\" />\n",
              "<line x1=\"181.2\" y1=\"89.2\" x2=\"175.0\" y2=\"100.0\"\n",
              "    stroke=\"#663399\" stroke-width=\"2\" />\n",
              "<line x1=\"175.0\" y1=\"100.0\" x2=\"187.5\" y2=\"100.0\"\n",
              "    stroke=\"#663399\" stroke-width=\"2\" />\n",
              "<line x1=\"187.5\" y1=\"100.0\" x2=\"200.0\" y2=\"100.0\"\n",
              "    stroke=\"#663399\" stroke-width=\"2\" />\n",
              "<line x1=\"200.0\" y1=\"100.0\" x2=\"193.8\" y2=\"89.2\"\n",
              "    stroke=\"#663399\" stroke-width=\"2\" />\n",
              "<line x1=\"193.8\" y1=\"89.2\" x2=\"187.5\" y2=\"100.0\"\n",
              "    stroke=\"#663399\" stroke-width=\"2\" />\n",
              "<line x1=\"187.5\" y1=\"100.0\" x2=\"175.0\" y2=\"100.0\"\n",
              "    stroke=\"#663399\" stroke-width=\"2\" />\n",
              "<line x1=\"175.0\" y1=\"100.0\" x2=\"181.2\" y2=\"89.2\"\n",
              "    stroke=\"#663399\" stroke-width=\"2\" />\n",
              "<line x1=\"181.2\" y1=\"89.2\" x2=\"193.8\" y2=\"89.2\"\n",
              "    stroke=\"#663399\" stroke-width=\"2\" />\n",
              "<line x1=\"193.8\" y1=\"89.2\" x2=\"187.5\" y2=\"78.3\"\n",
              "    stroke=\"#663399\" stroke-width=\"2\" />\n",
              "<line x1=\"187.5\" y1=\"78.3\" x2=\"181.2\" y2=\"89.2\"\n",
              "    stroke=\"#663399\" stroke-width=\"2\" />\n",
              "<line x1=\"181.2\" y1=\"89.2\" x2=\"175.0\" y2=\"100.0\"\n",
              "    stroke=\"#663399\" stroke-width=\"2\" />\n",
              "<line x1=\"175.0\" y1=\"100.0\" x2=\"150.0\" y2=\"100.0\"\n",
              "    stroke=\"#663399\" stroke-width=\"2\" />\n",
              "<line x1=\"150.0\" y1=\"100.0\" x2=\"162.5\" y2=\"78.3\"\n",
              "    stroke=\"#663399\" stroke-width=\"2\" />\n",
              "<line x1=\"162.5\" y1=\"78.3\" x2=\"175.0\" y2=\"78.3\"\n",
              "    stroke=\"#663399\" stroke-width=\"2\" />\n",
              "<line x1=\"175.0\" y1=\"78.3\" x2=\"168.8\" y2=\"67.5\"\n",
              "    stroke=\"#663399\" stroke-width=\"2\" />\n",
              "<line x1=\"168.8\" y1=\"67.5\" x2=\"162.5\" y2=\"78.3\"\n",
              "    stroke=\"#663399\" stroke-width=\"2\" />\n",
              "<line x1=\"162.5\" y1=\"78.3\" x2=\"175.0\" y2=\"78.3\"\n",
              "    stroke=\"#663399\" stroke-width=\"2\" />\n",
              "<line x1=\"175.0\" y1=\"78.3\" x2=\"187.5\" y2=\"78.3\"\n",
              "    stroke=\"#663399\" stroke-width=\"2\" />\n",
              "<line x1=\"187.5\" y1=\"78.3\" x2=\"181.2\" y2=\"67.5\"\n",
              "    stroke=\"#663399\" stroke-width=\"2\" />\n",
              "<line x1=\"181.2\" y1=\"67.5\" x2=\"175.0\" y2=\"78.3\"\n",
              "    stroke=\"#663399\" stroke-width=\"2\" />\n",
              "<line x1=\"175.0\" y1=\"78.3\" x2=\"162.5\" y2=\"78.3\"\n",
              "    stroke=\"#663399\" stroke-width=\"2\" />\n",
              "<line x1=\"162.5\" y1=\"78.3\" x2=\"168.8\" y2=\"67.5\"\n",
              "    stroke=\"#663399\" stroke-width=\"2\" />\n",
              "<line x1=\"168.8\" y1=\"67.5\" x2=\"181.2\" y2=\"67.5\"\n",
              "    stroke=\"#663399\" stroke-width=\"2\" />\n",
              "<line x1=\"181.2\" y1=\"67.5\" x2=\"175.0\" y2=\"56.7\"\n",
              "    stroke=\"#663399\" stroke-width=\"2\" />\n",
              "<line x1=\"175.0\" y1=\"56.7\" x2=\"168.8\" y2=\"67.5\"\n",
              "    stroke=\"#663399\" stroke-width=\"2\" />\n",
              "<line x1=\"168.8\" y1=\"67.5\" x2=\"162.5\" y2=\"78.3\"\n",
              "    stroke=\"#663399\" stroke-width=\"2\" />\n",
              "<line x1=\"162.5\" y1=\"78.3\" x2=\"150.0\" y2=\"100.0\"\n",
              "    stroke=\"#663399\" stroke-width=\"2\" />\n",
              "<line x1=\"150.0\" y1=\"100.0\" x2=\"200.0\" y2=\"100.0\"\n",
              "    stroke=\"#663399\" stroke-width=\"2\" />\n",
              "<line x1=\"200.0\" y1=\"100.0\" x2=\"212.5\" y2=\"100.0\"\n",
              "    stroke=\"#663399\" stroke-width=\"2\" />\n",
              "<line x1=\"212.5\" y1=\"100.0\" x2=\"206.2\" y2=\"89.2\"\n",
              "    stroke=\"#663399\" stroke-width=\"2\" />\n",
              "<line x1=\"206.2\" y1=\"89.2\" x2=\"200.0\" y2=\"100.0\"\n",
              "    stroke=\"#663399\" stroke-width=\"2\" />\n",
              "<line x1=\"200.0\" y1=\"100.0\" x2=\"212.5\" y2=\"100.0\"\n",
              "    stroke=\"#663399\" stroke-width=\"2\" />\n",
              "<line x1=\"212.5\" y1=\"100.0\" x2=\"225.0\" y2=\"100.0\"\n",
              "    stroke=\"#663399\" stroke-width=\"2\" />\n",
              "<line x1=\"225.0\" y1=\"100.0\" x2=\"218.8\" y2=\"89.2\"\n",
              "    stroke=\"#663399\" stroke-width=\"2\" />\n",
              "<line x1=\"218.8\" y1=\"89.2\" x2=\"212.5\" y2=\"100.0\"\n",
              "    stroke=\"#663399\" stroke-width=\"2\" />\n",
              "<line x1=\"212.5\" y1=\"100.0\" x2=\"200.0\" y2=\"100.0\"\n",
              "    stroke=\"#663399\" stroke-width=\"2\" />\n",
              "<line x1=\"200.0\" y1=\"100.0\" x2=\"206.2\" y2=\"89.2\"\n",
              "    stroke=\"#663399\" stroke-width=\"2\" />\n",
              "<line x1=\"206.2\" y1=\"89.2\" x2=\"218.8\" y2=\"89.2\"\n",
              "    stroke=\"#663399\" stroke-width=\"2\" />\n",
              "<line x1=\"218.8\" y1=\"89.2\" x2=\"212.5\" y2=\"78.3\"\n",
              "    stroke=\"#663399\" stroke-width=\"2\" />\n",
              "<line x1=\"212.5\" y1=\"78.3\" x2=\"206.2\" y2=\"89.2\"\n",
              "    stroke=\"#663399\" stroke-width=\"2\" />\n",
              "<line x1=\"206.2\" y1=\"89.2\" x2=\"200.0\" y2=\"100.0\"\n",
              "    stroke=\"#663399\" stroke-width=\"2\" />\n",
              "<line x1=\"200.0\" y1=\"100.0\" x2=\"225.0\" y2=\"100.0\"\n",
              "    stroke=\"#663399\" stroke-width=\"2\" />\n",
              "<line x1=\"225.0\" y1=\"100.0\" x2=\"237.5\" y2=\"100.0\"\n",
              "    stroke=\"#663399\" stroke-width=\"2\" />\n",
              "<line x1=\"237.5\" y1=\"100.0\" x2=\"231.2\" y2=\"89.2\"\n",
              "    stroke=\"#663399\" stroke-width=\"2\" />\n",
              "<line x1=\"231.2\" y1=\"89.2\" x2=\"225.0\" y2=\"100.0\"\n",
              "    stroke=\"#663399\" stroke-width=\"2\" />\n",
              "<line x1=\"225.0\" y1=\"100.0\" x2=\"237.5\" y2=\"100.0\"\n",
              "    stroke=\"#663399\" stroke-width=\"2\" />\n",
              "<line x1=\"237.5\" y1=\"100.0\" x2=\"250.0\" y2=\"100.0\"\n",
              "    stroke=\"#663399\" stroke-width=\"2\" />\n",
              "<line x1=\"250.0\" y1=\"100.0\" x2=\"243.8\" y2=\"89.2\"\n",
              "    stroke=\"#663399\" stroke-width=\"2\" />\n",
              "<line x1=\"243.8\" y1=\"89.2\" x2=\"237.5\" y2=\"100.0\"\n",
              "    stroke=\"#663399\" stroke-width=\"2\" />\n",
              "<line x1=\"237.5\" y1=\"100.0\" x2=\"225.0\" y2=\"100.0\"\n",
              "    stroke=\"#663399\" stroke-width=\"2\" />\n",
              "<line x1=\"225.0\" y1=\"100.0\" x2=\"231.2\" y2=\"89.2\"\n",
              "    stroke=\"#663399\" stroke-width=\"2\" />\n",
              "<line x1=\"231.2\" y1=\"89.2\" x2=\"243.8\" y2=\"89.2\"\n",
              "    stroke=\"#663399\" stroke-width=\"2\" />\n",
              "<line x1=\"243.8\" y1=\"89.2\" x2=\"237.5\" y2=\"78.3\"\n",
              "    stroke=\"#663399\" stroke-width=\"2\" />\n",
              "<line x1=\"237.5\" y1=\"78.3\" x2=\"231.2\" y2=\"89.2\"\n",
              "    stroke=\"#663399\" stroke-width=\"2\" />\n",
              "<line x1=\"231.2\" y1=\"89.2\" x2=\"225.0\" y2=\"100.0\"\n",
              "    stroke=\"#663399\" stroke-width=\"2\" />\n",
              "<line x1=\"225.0\" y1=\"100.0\" x2=\"200.0\" y2=\"100.0\"\n",
              "    stroke=\"#663399\" stroke-width=\"2\" />\n",
              "<line x1=\"200.0\" y1=\"100.0\" x2=\"212.5\" y2=\"78.3\"\n",
              "    stroke=\"#663399\" stroke-width=\"2\" />\n",
              "<line x1=\"212.5\" y1=\"78.3\" x2=\"225.0\" y2=\"78.3\"\n",
              "    stroke=\"#663399\" stroke-width=\"2\" />\n",
              "<line x1=\"225.0\" y1=\"78.3\" x2=\"218.8\" y2=\"67.5\"\n",
              "    stroke=\"#663399\" stroke-width=\"2\" />\n",
              "<line x1=\"218.8\" y1=\"67.5\" x2=\"212.5\" y2=\"78.3\"\n",
              "    stroke=\"#663399\" stroke-width=\"2\" />\n",
              "<line x1=\"212.5\" y1=\"78.3\" x2=\"225.0\" y2=\"78.3\"\n",
              "    stroke=\"#663399\" stroke-width=\"2\" />\n",
              "<line x1=\"225.0\" y1=\"78.3\" x2=\"237.5\" y2=\"78.3\"\n",
              "    stroke=\"#663399\" stroke-width=\"2\" />\n",
              "<line x1=\"237.5\" y1=\"78.3\" x2=\"231.2\" y2=\"67.5\"\n",
              "    stroke=\"#663399\" stroke-width=\"2\" />\n",
              "<line x1=\"231.2\" y1=\"67.5\" x2=\"225.0\" y2=\"78.3\"\n",
              "    stroke=\"#663399\" stroke-width=\"2\" />\n",
              "<line x1=\"225.0\" y1=\"78.3\" x2=\"212.5\" y2=\"78.3\"\n",
              "    stroke=\"#663399\" stroke-width=\"2\" />\n",
              "<line x1=\"212.5\" y1=\"78.3\" x2=\"218.8\" y2=\"67.5\"\n",
              "    stroke=\"#663399\" stroke-width=\"2\" />\n",
              "<line x1=\"218.8\" y1=\"67.5\" x2=\"231.2\" y2=\"67.5\"\n",
              "    stroke=\"#663399\" stroke-width=\"2\" />\n",
              "<line x1=\"231.2\" y1=\"67.5\" x2=\"225.0\" y2=\"56.7\"\n",
              "    stroke=\"#663399\" stroke-width=\"2\" />\n",
              "<line x1=\"225.0\" y1=\"56.7\" x2=\"218.8\" y2=\"67.5\"\n",
              "    stroke=\"#663399\" stroke-width=\"2\" />\n",
              "<line x1=\"218.8\" y1=\"67.5\" x2=\"212.5\" y2=\"78.3\"\n",
              "    stroke=\"#663399\" stroke-width=\"2\" />\n",
              "<line x1=\"212.5\" y1=\"78.3\" x2=\"200.0\" y2=\"100.0\"\n",
              "    stroke=\"#663399\" stroke-width=\"2\" />\n",
              "<line x1=\"200.0\" y1=\"100.0\" x2=\"150.0\" y2=\"100.0\"\n",
              "    stroke=\"#663399\" stroke-width=\"2\" />\n",
              "<line x1=\"150.0\" y1=\"100.0\" x2=\"175.0\" y2=\"56.7\"\n",
              "    stroke=\"#663399\" stroke-width=\"2\" />\n",
              "<line x1=\"175.0\" y1=\"56.7\" x2=\"187.5\" y2=\"56.7\"\n",
              "    stroke=\"#663399\" stroke-width=\"2\" />\n",
              "<line x1=\"187.5\" y1=\"56.7\" x2=\"181.2\" y2=\"45.9\"\n",
              "    stroke=\"#663399\" stroke-width=\"2\" />\n",
              "<line x1=\"181.2\" y1=\"45.9\" x2=\"175.0\" y2=\"56.7\"\n",
              "    stroke=\"#663399\" stroke-width=\"2\" />\n",
              "<line x1=\"175.0\" y1=\"56.7\" x2=\"187.5\" y2=\"56.7\"\n",
              "    stroke=\"#663399\" stroke-width=\"2\" />\n",
              "<line x1=\"187.5\" y1=\"56.7\" x2=\"200.0\" y2=\"56.7\"\n",
              "    stroke=\"#663399\" stroke-width=\"2\" />\n",
              "<line x1=\"200.0\" y1=\"56.7\" x2=\"193.8\" y2=\"45.9\"\n",
              "    stroke=\"#663399\" stroke-width=\"2\" />\n",
              "<line x1=\"193.8\" y1=\"45.9\" x2=\"187.5\" y2=\"56.7\"\n",
              "    stroke=\"#663399\" stroke-width=\"2\" />\n",
              "<line x1=\"187.5\" y1=\"56.7\" x2=\"175.0\" y2=\"56.7\"\n",
              "    stroke=\"#663399\" stroke-width=\"2\" />\n",
              "<line x1=\"175.0\" y1=\"56.7\" x2=\"181.2\" y2=\"45.9\"\n",
              "    stroke=\"#663399\" stroke-width=\"2\" />\n",
              "<line x1=\"181.2\" y1=\"45.9\" x2=\"193.8\" y2=\"45.9\"\n",
              "    stroke=\"#663399\" stroke-width=\"2\" />\n",
              "<line x1=\"193.8\" y1=\"45.9\" x2=\"187.5\" y2=\"35.0\"\n",
              "    stroke=\"#663399\" stroke-width=\"2\" />\n",
              "<line x1=\"187.5\" y1=\"35.0\" x2=\"181.2\" y2=\"45.9\"\n",
              "    stroke=\"#663399\" stroke-width=\"2\" />\n",
              "<line x1=\"181.2\" y1=\"45.9\" x2=\"175.0\" y2=\"56.7\"\n",
              "    stroke=\"#663399\" stroke-width=\"2\" />\n",
              "<line x1=\"175.0\" y1=\"56.7\" x2=\"200.0\" y2=\"56.7\"\n",
              "    stroke=\"#663399\" stroke-width=\"2\" />\n",
              "<line x1=\"200.0\" y1=\"56.7\" x2=\"212.5\" y2=\"56.7\"\n",
              "    stroke=\"#663399\" stroke-width=\"2\" />\n",
              "<line x1=\"212.5\" y1=\"56.7\" x2=\"206.2\" y2=\"45.9\"\n",
              "    stroke=\"#663399\" stroke-width=\"2\" />\n",
              "<line x1=\"206.2\" y1=\"45.9\" x2=\"200.0\" y2=\"56.7\"\n",
              "    stroke=\"#663399\" stroke-width=\"2\" />\n",
              "<line x1=\"200.0\" y1=\"56.7\" x2=\"212.5\" y2=\"56.7\"\n",
              "    stroke=\"#663399\" stroke-width=\"2\" />\n",
              "<line x1=\"212.5\" y1=\"56.7\" x2=\"225.0\" y2=\"56.7\"\n",
              "    stroke=\"#663399\" stroke-width=\"2\" />\n",
              "<line x1=\"225.0\" y1=\"56.7\" x2=\"218.8\" y2=\"45.9\"\n",
              "    stroke=\"#663399\" stroke-width=\"2\" />\n",
              "<line x1=\"218.8\" y1=\"45.9\" x2=\"212.5\" y2=\"56.7\"\n",
              "    stroke=\"#663399\" stroke-width=\"2\" />\n",
              "<line x1=\"212.5\" y1=\"56.7\" x2=\"200.0\" y2=\"56.7\"\n",
              "    stroke=\"#663399\" stroke-width=\"2\" />\n",
              "<line x1=\"200.0\" y1=\"56.7\" x2=\"206.2\" y2=\"45.9\"\n",
              "    stroke=\"#663399\" stroke-width=\"2\" />\n",
              "<line x1=\"206.2\" y1=\"45.9\" x2=\"218.8\" y2=\"45.9\"\n",
              "    stroke=\"#663399\" stroke-width=\"2\" />\n",
              "<line x1=\"218.8\" y1=\"45.9\" x2=\"212.5\" y2=\"35.0\"\n",
              "    stroke=\"#663399\" stroke-width=\"2\" />\n",
              "<line x1=\"212.5\" y1=\"35.0\" x2=\"206.2\" y2=\"45.9\"\n",
              "    stroke=\"#663399\" stroke-width=\"2\" />\n",
              "<line x1=\"206.2\" y1=\"45.9\" x2=\"200.0\" y2=\"56.7\"\n",
              "    stroke=\"#663399\" stroke-width=\"2\" />\n",
              "<line x1=\"200.0\" y1=\"56.7\" x2=\"175.0\" y2=\"56.7\"\n",
              "    stroke=\"#663399\" stroke-width=\"2\" />\n",
              "<line x1=\"175.0\" y1=\"56.7\" x2=\"187.5\" y2=\"35.0\"\n",
              "    stroke=\"#663399\" stroke-width=\"2\" />\n",
              "<line x1=\"187.5\" y1=\"35.0\" x2=\"200.0\" y2=\"35.0\"\n",
              "    stroke=\"#663399\" stroke-width=\"2\" />\n",
              "<line x1=\"200.0\" y1=\"35.0\" x2=\"193.8\" y2=\"24.2\"\n",
              "    stroke=\"#663399\" stroke-width=\"2\" />\n",
              "<line x1=\"193.8\" y1=\"24.2\" x2=\"187.5\" y2=\"35.0\"\n",
              "    stroke=\"#663399\" stroke-width=\"2\" />\n",
              "<line x1=\"187.5\" y1=\"35.0\" x2=\"200.0\" y2=\"35.0\"\n",
              "    stroke=\"#663399\" stroke-width=\"2\" />\n",
              "<line x1=\"200.0\" y1=\"35.0\" x2=\"212.5\" y2=\"35.0\"\n",
              "    stroke=\"#663399\" stroke-width=\"2\" />\n",
              "<line x1=\"212.5\" y1=\"35.0\" x2=\"206.2\" y2=\"24.2\"\n",
              "    stroke=\"#663399\" stroke-width=\"2\" />\n",
              "<line x1=\"206.2\" y1=\"24.2\" x2=\"200.0\" y2=\"35.0\"\n",
              "    stroke=\"#663399\" stroke-width=\"2\" />\n",
              "<line x1=\"200.0\" y1=\"35.0\" x2=\"187.5\" y2=\"35.0\"\n",
              "    stroke=\"#663399\" stroke-width=\"2\" />\n",
              "<line x1=\"187.5\" y1=\"35.0\" x2=\"193.8\" y2=\"24.2\"\n",
              "    stroke=\"#663399\" stroke-width=\"2\" />\n",
              "<line x1=\"193.8\" y1=\"24.2\" x2=\"206.2\" y2=\"24.2\"\n",
              "    stroke=\"#663399\" stroke-width=\"2\" />\n",
              "<line x1=\"206.2\" y1=\"24.2\" x2=\"200.0\" y2=\"13.4\"\n",
              "    stroke=\"#663399\" stroke-width=\"2\" />\n",
              "<line x1=\"200.0\" y1=\"13.4\" x2=\"193.8\" y2=\"24.2\"\n",
              "    stroke=\"#663399\" stroke-width=\"2\" />\n",
              "<line x1=\"193.8\" y1=\"24.2\" x2=\"187.5\" y2=\"35.0\"\n",
              "    stroke=\"#663399\" stroke-width=\"2\" />\n",
              "<line x1=\"187.5\" y1=\"35.0\" x2=\"175.0\" y2=\"56.7\"\n",
              "    stroke=\"#663399\" stroke-width=\"2\" />\n",
              "<line x1=\"175.0\" y1=\"56.7\" x2=\"150.0\" y2=\"100.0\"\n",
              "    stroke=\"#663399\" stroke-width=\"2\" />\n",
              "\n",
              "<g transform=\"rotate(-90.0,150.0,100.0) translate(150.0, 100.0)\">\n",
              "    <circle stroke=\"#63A375\" stroke-width=\"2\" fill=\"transparent\" r=\"5.5\" cx=\"0\" cy=\"0\"/>\n",
              "    <polygon points=\"0,12 2,9 -2,9\" style=\"fill:#63A375;stroke:#63A375;stroke-width:2\"/>\n",
              "</g>\n",
              "\n",
              "</svg>"
            ]
          },
          "metadata": {}
        }
      ],
      "source": [
        "make_turtle(delay=0, height=200)\n",
        "\n",
        "draw_sierpinski(100, 3)"
      ]
    },
    {
      "cell_type": "code",
      "execution_count": null,
      "id": "9d6969d4",
      "metadata": {
        "id": "9d6969d4"
      },
      "outputs": [],
      "source": []
    },
    {
      "cell_type": "markdown",
      "id": "a7f4edf8",
      "metadata": {
        "tags": [],
        "id": "a7f4edf8"
      },
      "source": [
        "[Think Python: 3rd Edition](https://allendowney.github.io/ThinkPython/index.html)\n",
        "\n",
        "Copyright 2024 [Allen B. Downey](https://allendowney.com)\n",
        "\n",
        "Code license: [MIT License](https://mit-license.org/)\n",
        "\n",
        "Text license: [Creative Commons Attribution-NonCommercial-ShareAlike 4.0 International](https://creativecommons.org/licenses/by-nc-sa/4.0/)"
      ]
    }
  ],
  "metadata": {
    "celltoolbar": "Tags",
    "kernelspec": {
      "display_name": "Python 3 (ipykernel)",
      "language": "python",
      "name": "python3"
    },
    "language_info": {
      "codemirror_mode": {
        "name": "ipython",
        "version": 3
      },
      "file_extension": ".py",
      "mimetype": "text/x-python",
      "name": "python",
      "nbconvert_exporter": "python",
      "pygments_lexer": "ipython3",
      "version": "3.10.11"
    },
    "colab": {
      "provenance": []
    }
  },
  "nbformat": 4,
  "nbformat_minor": 5
}