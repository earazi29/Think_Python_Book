{
  "cells": [
    {
      "cell_type": "markdown",
      "id": "1331faa1",
      "metadata": {
        "id": "1331faa1"
      },
      "source": [
        "You can order print and ebook versions of *Think Python 3e* from\n",
        "[Bookshop.org](https://bookshop.org/a/98697/9781098155438) and\n",
        "[Amazon](https://www.amazon.com/_/dp/1098155432?smid=ATVPDKIKX0DER&_encoding=UTF8&tag=oreilly20-20&_encoding=UTF8&tag=greenteapre01-20&linkCode=ur2&linkId=e2a529f94920295d27ec8a06e757dc7c&camp=1789&creative=9325)."
      ]
    },
    {
      "cell_type": "code",
      "execution_count": 1,
      "id": "361d390a",
      "metadata": {
        "tags": [],
        "id": "361d390a",
        "outputId": "cf1f6ca4-90db-4d86-9fca-a8923766b122",
        "colab": {
          "base_uri": "https://localhost:8080/"
        }
      },
      "outputs": [
        {
          "output_type": "stream",
          "name": "stdout",
          "text": [
            "Downloaded thinkpython.py\n",
            "Downloaded diagram.py\n"
          ]
        }
      ],
      "source": [
        "from os.path import basename, exists\n",
        "\n",
        "def download(url):\n",
        "    filename = basename(url)\n",
        "    if not exists(filename):\n",
        "        from urllib.request import urlretrieve\n",
        "\n",
        "        local, _ = urlretrieve(url, filename)\n",
        "        print(\"Downloaded \" + str(local))\n",
        "    return filename\n",
        "\n",
        "download('https://github.com/AllenDowney/ThinkPython/raw/v3/thinkpython.py');\n",
        "download('https://github.com/AllenDowney/ThinkPython/raw/v3/diagram.py');\n",
        "\n",
        "import thinkpython"
      ]
    },
    {
      "cell_type": "markdown",
      "id": "9d97603b",
      "metadata": {
        "id": "9d97603b"
      },
      "source": [
        "# Strings and Regular Expressions\n",
        "\n",
        "Strings are not like integers, floats, and booleans. A string is a **sequence**, which means it contains multiple values in a particular order.\n",
        "In this chapter we'll see how to access the values that make up a string, and we'll use functions that process strings.\n",
        "\n",
        "We'll also use regular expressions, which are a powerful tool for finding patterns in a string and performing operations like search and replace.\n",
        "\n",
        "As an exercise, you'll have a chance to apply these tools to a word game called Wordle."
      ]
    },
    {
      "cell_type": "markdown",
      "id": "1280dd83",
      "metadata": {
        "id": "1280dd83"
      },
      "source": [
        "## A string is a sequence\n",
        "\n",
        "A string is a sequence of characters. A **character** can be a letter (in almost any alphabet), a digit, a punctuation mark, or white space.\n",
        "\n",
        "You can select a character from a string with the bracket operator.\n",
        "This example statement selects character number 1 from `fruit` and\n",
        "assigns it to `letter`:"
      ]
    },
    {
      "cell_type": "code",
      "execution_count": 2,
      "id": "9b53c1fe",
      "metadata": {
        "id": "9b53c1fe"
      },
      "outputs": [],
      "source": [
        "fruit = 'banana'\n",
        "letter = fruit[1]"
      ]
    },
    {
      "cell_type": "markdown",
      "id": "a307e429",
      "metadata": {
        "id": "a307e429"
      },
      "source": [
        "The expression in brackets is an **index**, so called because it *indicates* which character in the sequence to select.\n",
        "But the result might not be what you expect."
      ]
    },
    {
      "cell_type": "code",
      "execution_count": 4,
      "id": "2cb1d58c",
      "metadata": {
        "id": "2cb1d58c",
        "outputId": "86c71c25-1004-4238-e6fd-8c03fb16b3e5",
        "colab": {
          "base_uri": "https://localhost:8080/",
          "height": 36
        }
      },
      "outputs": [
        {
          "output_type": "execute_result",
          "data": {
            "text/plain": [
              "'a'"
            ],
            "application/vnd.google.colaboratory.intrinsic+json": {
              "type": "string"
            }
          },
          "metadata": {},
          "execution_count": 4
        }
      ],
      "source": [
        "letter"
      ]
    },
    {
      "cell_type": "markdown",
      "id": "57c13319",
      "metadata": {
        "id": "57c13319"
      },
      "source": [
        "The letter with index `1` is actually the second letter of the string.\n",
        "An index is an offset from the beginning of the string, so the offset of the first letter is `0`."
      ]
    },
    {
      "cell_type": "code",
      "execution_count": 5,
      "id": "4ce1eb16",
      "metadata": {
        "id": "4ce1eb16",
        "outputId": "5fa60557-86bb-4701-c87f-e69c456fcfa1",
        "colab": {
          "base_uri": "https://localhost:8080/",
          "height": 36
        }
      },
      "outputs": [
        {
          "output_type": "execute_result",
          "data": {
            "text/plain": [
              "'b'"
            ],
            "application/vnd.google.colaboratory.intrinsic+json": {
              "type": "string"
            }
          },
          "metadata": {},
          "execution_count": 5
        }
      ],
      "source": [
        "fruit[0]"
      ]
    },
    {
      "cell_type": "markdown",
      "id": "57d8e54c",
      "metadata": {
        "id": "57d8e54c"
      },
      "source": [
        "You can think of `'b'` as the 0th letter of `'banana'` -- pronounced \"zero-eth\".\n",
        "\n",
        "The index in brackets can be a variable."
      ]
    },
    {
      "cell_type": "code",
      "execution_count": 6,
      "id": "11201ba9",
      "metadata": {
        "id": "11201ba9",
        "outputId": "6e02ec8a-f6a7-41c2-eea2-bcbce1570c7f",
        "colab": {
          "base_uri": "https://localhost:8080/",
          "height": 36
        }
      },
      "outputs": [
        {
          "output_type": "execute_result",
          "data": {
            "text/plain": [
              "'a'"
            ],
            "application/vnd.google.colaboratory.intrinsic+json": {
              "type": "string"
            }
          },
          "metadata": {},
          "execution_count": 6
        }
      ],
      "source": [
        "i = 1\n",
        "fruit[i]"
      ]
    },
    {
      "cell_type": "markdown",
      "id": "9630e2e7",
      "metadata": {
        "id": "9630e2e7"
      },
      "source": [
        "Or an expression that contains variables and operators."
      ]
    },
    {
      "cell_type": "code",
      "execution_count": 7,
      "id": "fc4383d0",
      "metadata": {
        "id": "fc4383d0",
        "outputId": "5a420aa3-874a-479e-f6af-3fcc574c019d",
        "colab": {
          "base_uri": "https://localhost:8080/",
          "height": 36
        }
      },
      "outputs": [
        {
          "output_type": "execute_result",
          "data": {
            "text/plain": [
              "'n'"
            ],
            "application/vnd.google.colaboratory.intrinsic+json": {
              "type": "string"
            }
          },
          "metadata": {},
          "execution_count": 7
        }
      ],
      "source": [
        "fruit[i+1]"
      ]
    },
    {
      "cell_type": "markdown",
      "id": "939b602d",
      "metadata": {
        "id": "939b602d"
      },
      "source": [
        "But the value of the index has to be an integer -- otherwise you get a `TypeError`."
      ]
    },
    {
      "cell_type": "code",
      "execution_count": 8,
      "id": "aec20975",
      "metadata": {
        "tags": [],
        "id": "aec20975",
        "outputId": "aa45b314-88d0-4c27-8f36-520af8b3423c",
        "colab": {
          "base_uri": "https://localhost:8080/",
          "height": 54
        }
      },
      "outputs": [
        {
          "output_type": "error",
          "ename": "TypeError",
          "evalue": "string indices must be integers, not 'float'",
          "traceback": [
            "\u001b[0;31mTypeError\u001b[0m\u001b[0;31m:\u001b[0m string indices must be integers, not 'float'\n"
          ]
        }
      ],
      "source": [
        "%%expect TypeError\n",
        "\n",
        "fruit[1.5]"
      ]
    },
    {
      "cell_type": "markdown",
      "id": "3f0f7e3a",
      "metadata": {
        "id": "3f0f7e3a"
      },
      "source": [
        "As we saw in Chapter 1, we can use the built-in function `len` to get the length of a string."
      ]
    },
    {
      "cell_type": "code",
      "execution_count": 9,
      "id": "796ce317",
      "metadata": {
        "id": "796ce317",
        "outputId": "ac28d70c-dd89-43e0-ecad-7ee0b25e5c70",
        "colab": {
          "base_uri": "https://localhost:8080/"
        }
      },
      "outputs": [
        {
          "output_type": "execute_result",
          "data": {
            "text/plain": [
              "6"
            ]
          },
          "metadata": {},
          "execution_count": 9
        }
      ],
      "source": [
        "n = len(fruit)\n",
        "n"
      ]
    },
    {
      "cell_type": "markdown",
      "id": "29013c47",
      "metadata": {
        "id": "29013c47"
      },
      "source": [
        "To get the last letter of a string, you might be tempted to write this:"
      ]
    },
    {
      "cell_type": "code",
      "execution_count": 10,
      "id": "3ccb4a64",
      "metadata": {
        "tags": [],
        "id": "3ccb4a64",
        "outputId": "a6e59786-e1e6-486a-b392-0f489ba9fafd",
        "colab": {
          "base_uri": "https://localhost:8080/",
          "height": 54
        }
      },
      "outputs": [
        {
          "output_type": "error",
          "ename": "IndexError",
          "evalue": "string index out of range",
          "traceback": [
            "\u001b[0;31mIndexError\u001b[0m\u001b[0;31m:\u001b[0m string index out of range\n"
          ]
        }
      ],
      "source": [
        "%%expect IndexError\n",
        "\n",
        "fruit[n]"
      ]
    },
    {
      "cell_type": "markdown",
      "id": "b87e09bd",
      "metadata": {
        "id": "b87e09bd"
      },
      "source": [
        "But that causes an `IndexError` because there is no letter in `'banana'` with the index 6. Because we started counting at `0`, the six letters are numbered `0` to `5`. To get the last character, you have to subtract `1` from `n`:"
      ]
    },
    {
      "cell_type": "code",
      "execution_count": 11,
      "id": "2cf99de6",
      "metadata": {
        "id": "2cf99de6",
        "outputId": "87638e6a-4bec-4813-82f4-9a12e4a786fd",
        "colab": {
          "base_uri": "https://localhost:8080/",
          "height": 36
        }
      },
      "outputs": [
        {
          "output_type": "execute_result",
          "data": {
            "text/plain": [
              "'a'"
            ],
            "application/vnd.google.colaboratory.intrinsic+json": {
              "type": "string"
            }
          },
          "metadata": {},
          "execution_count": 11
        }
      ],
      "source": [
        "fruit[n-1]"
      ]
    },
    {
      "cell_type": "markdown",
      "id": "3c79dcec",
      "metadata": {
        "id": "3c79dcec"
      },
      "source": [
        "But there's an easier way.\n",
        "To get the last letter in a string, you can use a negative index, which counts backward from the end."
      ]
    },
    {
      "cell_type": "code",
      "execution_count": 14,
      "id": "3dedf6fa",
      "metadata": {
        "id": "3dedf6fa",
        "outputId": "fa8da3fe-3091-4afc-cef0-10faafedf310",
        "colab": {
          "base_uri": "https://localhost:8080/",
          "height": 36
        }
      },
      "outputs": [
        {
          "output_type": "execute_result",
          "data": {
            "text/plain": [
              "'n'"
            ],
            "application/vnd.google.colaboratory.intrinsic+json": {
              "type": "string"
            }
          },
          "metadata": {},
          "execution_count": 14
        }
      ],
      "source": [
        "fruit[-2]"
      ]
    },
    {
      "cell_type": "markdown",
      "id": "5677b727",
      "metadata": {
        "id": "5677b727"
      },
      "source": [
        "The index `-1` selects the last letter, `-2` selects the second to last, and so on."
      ]
    },
    {
      "cell_type": "markdown",
      "id": "8392a12a",
      "metadata": {
        "id": "8392a12a"
      },
      "source": [
        "## String slices\n",
        "\n",
        "A segment of a string is called a **slice**.\n",
        "Selecting a slice is similar to selecting a character."
      ]
    },
    {
      "cell_type": "code",
      "execution_count": 15,
      "id": "386b9df2",
      "metadata": {
        "id": "386b9df2",
        "outputId": "28d1eb31-b18a-46f3-a673-b513d7f55614",
        "colab": {
          "base_uri": "https://localhost:8080/",
          "height": 36
        }
      },
      "outputs": [
        {
          "output_type": "execute_result",
          "data": {
            "text/plain": [
              "'ban'"
            ],
            "application/vnd.google.colaboratory.intrinsic+json": {
              "type": "string"
            }
          },
          "metadata": {},
          "execution_count": 15
        }
      ],
      "source": [
        "fruit = 'banana'\n",
        "fruit[0:3]"
      ]
    },
    {
      "cell_type": "markdown",
      "id": "5cc12531",
      "metadata": {
        "id": "5cc12531"
      },
      "source": [
        "The operator `[n:m]` returns the part of the string from the `n`th\n",
        "character to the `m`th character, including the first but excluding the second.\n",
        "This behavior is counterintuitive, but it might help to imagine the indices pointing *between* the characters, as in this figure:"
      ]
    },
    {
      "cell_type": "code",
      "execution_count": 16,
      "id": "05f9743d",
      "metadata": {
        "tags": [],
        "id": "05f9743d"
      },
      "outputs": [],
      "source": [
        "from diagram import make_binding, Element, Value\n",
        "\n",
        "binding = make_binding(\"fruit\", ' b a n a n a ')\n",
        "elements = [Element(Value(i), None) for i in range(7)]"
      ]
    },
    {
      "cell_type": "code",
      "execution_count": 17,
      "id": "b09d8356",
      "metadata": {
        "tags": [],
        "id": "b09d8356",
        "outputId": "a1f75a4c-fb3c-4310-9516-6afa4d21dfff",
        "colab": {
          "base_uri": "https://localhost:8080/",
          "height": 91
        }
      },
      "outputs": [
        {
          "output_type": "display_data",
          "data": {
            "text/plain": [
              "<Figure size 135x54 with 1 Axes>"
            ],
            "image/png": "[encoded data removed]"
          },
          "metadata": {}
        }
      ],
      "source": [
        "import matplotlib.pyplot as plt\n",
        "from diagram import diagram, adjust\n",
        "from matplotlib.transforms import Bbox\n",
        "\n",
        "width, height, x, y = [1.35, 0.54, 0.23, 0.39]\n",
        "\n",
        "ax = diagram(width, height)\n",
        "bbox = binding.draw(ax, x, y)\n",
        "bboxes = [bbox]\n",
        "\n",
        "def draw_elts(x, y, elements):\n",
        "    for elt in elements:\n",
        "        bbox = elt.draw(ax, x, y, draw_value=False)\n",
        "        bboxes.append(bbox)\n",
        "\n",
        "        x1 = (bbox.xmin + bbox.xmax) / 2\n",
        "        y1 = bbox.ymax + 0.02\n",
        "        y2 = y1 + 0.14\n",
        "        handle = plt.plot([x1, x1], [y1, y2], ':', lw=0.5, color='gray')\n",
        "        x += 0.105\n",
        "\n",
        "draw_elts(x + 0.48, y - 0.25, elements)\n",
        "bbox = Bbox.union(bboxes)\n",
        "# adjust(x, y, bbox)"
      ]
    },
    {
      "cell_type": "markdown",
      "id": "c391abbf",
      "metadata": {
        "id": "c391abbf"
      },
      "source": [
        "For example, the slice `[3:6]` selects the letters `ana`, which means that `6` is legal as part of a slice, but not legal as an index.\n",
        "\n",
        "\n",
        "If you omit the first index, the slice starts at the beginning of the string."
      ]
    },
    {
      "cell_type": "code",
      "execution_count": 18,
      "id": "00592313",
      "metadata": {
        "id": "00592313",
        "outputId": "3e8429a7-759b-44f2-e7be-901265bf1b00",
        "colab": {
          "base_uri": "https://localhost:8080/",
          "height": 36
        }
      },
      "outputs": [
        {
          "output_type": "execute_result",
          "data": {
            "text/plain": [
              "'ban'"
            ],
            "application/vnd.google.colaboratory.intrinsic+json": {
              "type": "string"
            }
          },
          "metadata": {},
          "execution_count": 18
        }
      ],
      "source": [
        "fruit[:3]"
      ]
    },
    {
      "cell_type": "markdown",
      "id": "1bd7dcb1",
      "metadata": {
        "id": "1bd7dcb1"
      },
      "source": [
        "If you omit the second index, the slice goes to the end of the string:"
      ]
    },
    {
      "cell_type": "code",
      "execution_count": 19,
      "id": "01684797",
      "metadata": {
        "id": "01684797",
        "outputId": "d44ccf58-1e50-4214-a0c4-0c3717d5b55f",
        "colab": {
          "base_uri": "https://localhost:8080/",
          "height": 36
        }
      },
      "outputs": [
        {
          "output_type": "execute_result",
          "data": {
            "text/plain": [
              "'ana'"
            ],
            "application/vnd.google.colaboratory.intrinsic+json": {
              "type": "string"
            }
          },
          "metadata": {},
          "execution_count": 19
        }
      ],
      "source": [
        "fruit[3:]"
      ]
    },
    {
      "cell_type": "markdown",
      "id": "4701123b",
      "metadata": {
        "id": "4701123b"
      },
      "source": [
        "If the first index is greater than or equal to the second, the result is an **empty string**, represented by two quotation marks:"
      ]
    },
    {
      "cell_type": "code",
      "execution_count": 20,
      "id": "c7551ded",
      "metadata": {
        "id": "c7551ded",
        "outputId": "1aab8335-27a2-4c12-9813-10a3c933485e",
        "colab": {
          "base_uri": "https://localhost:8080/",
          "height": 36
        }
      },
      "outputs": [
        {
          "output_type": "execute_result",
          "data": {
            "text/plain": [
              "''"
            ],
            "application/vnd.google.colaboratory.intrinsic+json": {
              "type": "string"
            }
          },
          "metadata": {},
          "execution_count": 20
        }
      ],
      "source": [
        "fruit[3:3]"
      ]
    },
    {
      "cell_type": "markdown",
      "id": "d12735ab",
      "metadata": {
        "id": "d12735ab"
      },
      "source": [
        "An empty string contains no characters and has length 0.\n",
        "\n",
        "Continuing this example, what do you think `fruit[:]` means? Try it and\n",
        "see."
      ]
    },
    {
      "cell_type": "code",
      "execution_count": 21,
      "id": "b5c5ce3e",
      "metadata": {
        "tags": [],
        "id": "b5c5ce3e",
        "outputId": "2e141079-c214-4433-b07d-e9f82ea04f05",
        "colab": {
          "base_uri": "https://localhost:8080/",
          "height": 36
        }
      },
      "outputs": [
        {
          "output_type": "execute_result",
          "data": {
            "text/plain": [
              "'banana'"
            ],
            "application/vnd.google.colaboratory.intrinsic+json": {
              "type": "string"
            }
          },
          "metadata": {},
          "execution_count": 21
        }
      ],
      "source": [
        "fruit[:]"
      ]
    },
    {
      "cell_type": "markdown",
      "id": "918d3dd0",
      "metadata": {
        "id": "918d3dd0"
      },
      "source": [
        "## Strings are immutable\n",
        "\n",
        "It is tempting to use the `[]` operator on the left side of an\n",
        "assignment, with the intention of changing a character in a string, like this:"
      ]
    },
    {
      "cell_type": "code",
      "execution_count": 22,
      "id": "69ccd380",
      "metadata": {
        "tags": [],
        "id": "69ccd380",
        "outputId": "db13f9ad-8fae-4fca-dc22-a6a202e9644d",
        "colab": {
          "base_uri": "https://localhost:8080/",
          "height": 54
        }
      },
      "outputs": [
        {
          "output_type": "error",
          "ename": "TypeError",
          "evalue": "'str' object does not support item assignment",
          "traceback": [
            "\u001b[0;31mTypeError\u001b[0m\u001b[0;31m:\u001b[0m 'str' object does not support item assignment\n"
          ]
        }
      ],
      "source": [
        "%%expect TypeError\n",
        "\n",
        "greeting = 'Hello, world!'\n",
        "greeting[0] = 'J'"
      ]
    },
    {
      "cell_type": "markdown",
      "id": "df3dd7d1",
      "metadata": {
        "id": "df3dd7d1"
      },
      "source": [
        "The result is a `TypeError`.\n",
        "In the error message, the \"object\" is the string and the \"item\" is the character\n",
        "we tried to assign.\n",
        "For now, an **object** is the same thing as a value, but we will refine that definition later.\n",
        "\n",
        "The reason for this error is that strings are **immutable**, which means you can't change an existing string.\n",
        "The best you can do is create a new string that is a variation of the original."
      ]
    },
    {
      "cell_type": "code",
      "execution_count": 23,
      "id": "280d27a1",
      "metadata": {
        "id": "280d27a1",
        "outputId": "f2385595-d8bf-4bdb-a4cb-35bfa6e4e14f",
        "colab": {
          "base_uri": "https://localhost:8080/",
          "height": 36
        }
      },
      "outputs": [
        {
          "output_type": "execute_result",
          "data": {
            "text/plain": [
              "'Jello, world!'"
            ],
            "application/vnd.google.colaboratory.intrinsic+json": {
              "type": "string"
            }
          },
          "metadata": {},
          "execution_count": 23
        }
      ],
      "source": [
        "new_greeting = 'J' + greeting[1:]\n",
        "new_greeting"
      ]
    },
    {
      "cell_type": "markdown",
      "id": "2848546f",
      "metadata": {
        "id": "2848546f"
      },
      "source": [
        "This example concatenates a new first letter onto a slice of `greeting`.\n",
        "It has no effect on the original string."
      ]
    },
    {
      "cell_type": "code",
      "execution_count": 24,
      "id": "8fa4a4cf",
      "metadata": {
        "id": "8fa4a4cf",
        "outputId": "9b791908-700a-4dda-f4b4-1d488b053951",
        "colab": {
          "base_uri": "https://localhost:8080/",
          "height": 36
        }
      },
      "outputs": [
        {
          "output_type": "execute_result",
          "data": {
            "text/plain": [
              "'Hello, world!'"
            ],
            "application/vnd.google.colaboratory.intrinsic+json": {
              "type": "string"
            }
          },
          "metadata": {},
          "execution_count": 24
        }
      ],
      "source": [
        "greeting"
      ]
    },
    {
      "cell_type": "markdown",
      "id": "49e4da57",
      "metadata": {
        "id": "49e4da57"
      },
      "source": [
        "## String comparison\n",
        "\n",
        "The relational operators work on strings. To see if two strings are\n",
        "equal, we can use the `==` operator."
      ]
    },
    {
      "cell_type": "code",
      "execution_count": 25,
      "id": "b754d462",
      "metadata": {
        "id": "b754d462",
        "outputId": "1c01ff83-03ce-4ba8-967c-37f6607bf03f",
        "colab": {
          "base_uri": "https://localhost:8080/"
        }
      },
      "outputs": [
        {
          "output_type": "stream",
          "name": "stdout",
          "text": [
            "All right, banana.\n"
          ]
        }
      ],
      "source": [
        "word = 'banana'\n",
        "\n",
        "if word == 'banana':\n",
        "    print('All right, banana.')"
      ]
    },
    {
      "cell_type": "markdown",
      "id": "e9be6097",
      "metadata": {
        "id": "e9be6097"
      },
      "source": [
        "Other relational operations are useful for putting words in alphabetical\n",
        "order:"
      ]
    },
    {
      "cell_type": "code",
      "execution_count": 27,
      "id": "44374eb8",
      "metadata": {
        "id": "44374eb8"
      },
      "outputs": [],
      "source": [
        "def compare_word(word):\n",
        "    if word < 'banana':\n",
        "        print(word, 'comes before banana.')\n",
        "    elif word > 'banana':\n",
        "        print(word, 'comes after banana.')\n",
        "    else:\n",
        "        print('All right, banana.')"
      ]
    },
    {
      "cell_type": "code",
      "execution_count": 28,
      "id": "a46f7035",
      "metadata": {
        "id": "a46f7035",
        "outputId": "a716767c-572f-4254-f098-39d17c808178",
        "colab": {
          "base_uri": "https://localhost:8080/"
        }
      },
      "outputs": [
        {
          "output_type": "stream",
          "name": "stdout",
          "text": [
            "apple comes before banana.\n"
          ]
        }
      ],
      "source": [
        "compare_word('apple')"
      ]
    },
    {
      "cell_type": "markdown",
      "id": "b66f449a",
      "metadata": {
        "id": "b66f449a"
      },
      "source": [
        "Python does not handle uppercase and lowercase letters the same way\n",
        "people do. All the uppercase letters come before all the lowercase\n",
        "letters, so:"
      ]
    },
    {
      "cell_type": "code",
      "execution_count": 29,
      "id": "a691f9e2",
      "metadata": {
        "id": "a691f9e2",
        "outputId": "319090d6-a0ad-4545-f6f4-846b369c3c89",
        "colab": {
          "base_uri": "https://localhost:8080/"
        }
      },
      "outputs": [
        {
          "output_type": "stream",
          "name": "stdout",
          "text": [
            "Pineapple comes before banana.\n"
          ]
        }
      ],
      "source": [
        "compare_word('Pineapple')"
      ]
    },
    {
      "cell_type": "markdown",
      "id": "f9b916c9",
      "metadata": {
        "id": "f9b916c9"
      },
      "source": [
        "To solve this problem, we can convert strings to a standard format, such as all lowercase, before performing the comparison.\n",
        "Keep that in mind if you have to defend yourself against a man armed with a Pineapple."
      ]
    },
    {
      "cell_type": "markdown",
      "id": "531069f1",
      "metadata": {
        "id": "531069f1"
      },
      "source": [
        "## String methods\n",
        "\n",
        "Strings provide methods that perform a variety of useful operations.\n",
        "A method is similar to a function -- it takes arguments and returns a value -- but the syntax is different.\n",
        "For example, the method `upper` takes a string and returns a new string with all uppercase letters.\n",
        "\n",
        "Instead of the function syntax `upper(word)`, it uses the method syntax `word.upper()`."
      ]
    },
    {
      "cell_type": "code",
      "execution_count": 30,
      "id": "fa6140a6",
      "metadata": {
        "id": "fa6140a6",
        "outputId": "11d7c532-a0d0-46e7-a970-0a991e3b09d5",
        "colab": {
          "base_uri": "https://localhost:8080/",
          "height": 36
        }
      },
      "outputs": [
        {
          "output_type": "execute_result",
          "data": {
            "text/plain": [
              "'BANANA'"
            ],
            "application/vnd.google.colaboratory.intrinsic+json": {
              "type": "string"
            }
          },
          "metadata": {},
          "execution_count": 30
        }
      ],
      "source": [
        "word = 'banana'\n",
        "new_word = word.upper()\n",
        "new_word"
      ]
    },
    {
      "cell_type": "markdown",
      "id": "1ac41744",
      "metadata": {
        "id": "1ac41744"
      },
      "source": [
        "This use of the dot operator specifies the name of the method, `upper`, and the name of the string to apply the method to, `word`.\n",
        "The empty parentheses indicate that this method takes no arguments.\n",
        "\n",
        "A method call is called an **invocation**; in this case, we would say that we are invoking `upper` on `word`."
      ]
    },
    {
      "cell_type": "markdown",
      "id": "2a13d4ef",
      "metadata": {
        "tags": [],
        "id": "2a13d4ef"
      },
      "source": [
        "## Writing files\n",
        "\n",
        "String operators and methods are useful for reading and writing text files.\n",
        "As an example, we'll work with the text of *Dracula*, a novel by Bram Stoker that is available from Project Gutenberg (<https://www.gutenberg.org/ebooks/345>)."
      ]
    },
    {
      "cell_type": "code",
      "execution_count": 31,
      "id": "e3f1dc18",
      "metadata": {
        "tags": [],
        "id": "e3f1dc18",
        "outputId": "d48290fe-3309-4d3a-bf5c-09be05463762",
        "colab": {
          "base_uri": "https://localhost:8080/"
        }
      },
      "outputs": [
        {
          "output_type": "stream",
          "name": "stdout",
          "text": [
            "--2025-10-28 06:08:39--  https://www.gutenberg.org/cache/epub/345/pg345.txt\n",
            "Resolving www.gutenberg.org (www.gutenberg.org)... 152.19.134.47, 2610:28:3090:3000:0:bad:cafe:47\n",
            "Connecting to www.gutenberg.org (www.gutenberg.org)|152.19.134.47|:443... connected.\n",
            "HTTP request sent, awaiting response... 200 OK\n",
            "Length: 890391 (870K) [text/plain]\n",
            "Saving to: ‘pg345.txt’\n",
            "\n",
            "pg345.txt           100%[===================>] 869.52K  --.-KB/s    in 0.1s    \n",
            "\n",
            "2025-10-28 06:08:40 (5.97 MB/s) - ‘pg345.txt’ saved [890391/890391]\n",
            "\n"
          ]
        }
      ],
      "source": [
        "import os\n",
        "\n",
        "if not os.path.exists('pg345.txt'):\n",
        "    !wget https://www.gutenberg.org/cache/epub/345/pg345.txt"
      ]
    },
    {
      "cell_type": "markdown",
      "id": "963dda79",
      "metadata": {
        "id": "963dda79"
      },
      "source": [
        "I've downloaded the book in a plain text file called `pg345.txt`, which we can open for reading like this:"
      ]
    },
    {
      "cell_type": "code",
      "execution_count": 32,
      "id": "bd2d5175",
      "metadata": {
        "id": "bd2d5175"
      },
      "outputs": [],
      "source": [
        "reader = open('pg345.txt')"
      ]
    },
    {
      "cell_type": "markdown",
      "id": "b5d99e8c",
      "metadata": {
        "id": "b5d99e8c"
      },
      "source": [
        "In addition to the text of the book, this file contains a section at the beginning with information about the book and a section at the end with information about the license.\n",
        "Before we process the text, we can remove this extra material by finding the special lines at the beginning and end that begin with `'***'`.\n",
        "\n",
        "The following function takes a line and checks whether it is one of the special lines.\n",
        "It uses the `startswith` method, which checks whether a string starts with a given sequence of characters."
      ]
    },
    {
      "cell_type": "code",
      "execution_count": 33,
      "id": "b9c9318c",
      "metadata": {
        "id": "b9c9318c"
      },
      "outputs": [],
      "source": [
        "def is_special_line(line):\n",
        "    return line.startswith('*** ')"
      ]
    },
    {
      "cell_type": "markdown",
      "id": "2efdfe35",
      "metadata": {
        "id": "2efdfe35"
      },
      "source": [
        "We can use this function to loop through the lines in the file and print only the special lines."
      ]
    },
    {
      "cell_type": "code",
      "execution_count": 34,
      "id": "a9417d4c",
      "metadata": {
        "id": "a9417d4c",
        "outputId": "e422ca07-8710-48be-aea8-102944585342",
        "colab": {
          "base_uri": "https://localhost:8080/"
        }
      },
      "outputs": [
        {
          "output_type": "stream",
          "name": "stdout",
          "text": [
            "*** START OF THE PROJECT GUTENBERG EBOOK DRACULA ***\n",
            "*** END OF THE PROJECT GUTENBERG EBOOK DRACULA ***\n"
          ]
        }
      ],
      "source": [
        "for line in reader:\n",
        "    if is_special_line(line):\n",
        "        print(line.strip())"
      ]
    },
    {
      "cell_type": "markdown",
      "id": "07fb5992",
      "metadata": {
        "id": "07fb5992"
      },
      "source": [
        "Now let's create a new file, called `pg345_cleaned.txt`, that contains only the text of the book.\n",
        "In order to loop through the book again, we have to open it again for reading.\n",
        "And, to write a new file, we can open it for writing."
      ]
    },
    {
      "cell_type": "code",
      "execution_count": 35,
      "id": "f2336825",
      "metadata": {
        "id": "f2336825"
      },
      "outputs": [],
      "source": [
        "reader = open('pg345.txt')\n",
        "writer = open('pg345_cleaned.txt', 'w')"
      ]
    },
    {
      "cell_type": "markdown",
      "id": "96d881aa",
      "metadata": {
        "id": "96d881aa"
      },
      "source": [
        "`open` takes an optional parameters that specifies the \"mode\" -- in this example, `'w'` indicates that we're opening the file for writing.\n",
        "If the file doesn't exist, it will be created; if it already exists, the contents will be replaced.\n",
        "\n",
        "As a first step, we'll loop through the file until we find the first special line."
      ]
    },
    {
      "cell_type": "code",
      "execution_count": 38,
      "id": "d1b286ee",
      "metadata": {
        "id": "d1b286ee"
      },
      "outputs": [],
      "source": [
        "for line in reader:\n",
        "    if is_special_line(line):\n",
        "        break"
      ]
    },
    {
      "cell_type": "markdown",
      "id": "1989d5a1",
      "metadata": {
        "id": "1989d5a1"
      },
      "source": [
        "The `break` statement \"breaks\" out of the loop -- that is, it causes the loop to end immediately, before we get to the end of the file.\n",
        "\n",
        "When the loop exits, `line` contains the special line that made the conditional true."
      ]
    },
    {
      "cell_type": "code",
      "execution_count": 39,
      "id": "b4ecf365",
      "metadata": {
        "id": "b4ecf365",
        "outputId": "d5711331-ab60-482f-939e-50340e84c3fb",
        "colab": {
          "base_uri": "https://localhost:8080/",
          "height": 36
        }
      },
      "outputs": [
        {
          "output_type": "execute_result",
          "data": {
            "text/plain": [
              "'*** END OF THE PROJECT GUTENBERG EBOOK DRACULA ***\\n'"
            ],
            "application/vnd.google.colaboratory.intrinsic+json": {
              "type": "string"
            }
          },
          "metadata": {},
          "execution_count": 39
        }
      ],
      "source": [
        "line"
      ]
    },
    {
      "cell_type": "markdown",
      "id": "9f28c3b4",
      "metadata": {
        "id": "9f28c3b4"
      },
      "source": [
        "Because `reader` keeps track of where it is in the file, we can use a second loop to pick up where we left off.\n",
        "\n",
        "The following loop reads the rest of the file, one line at a time.\n",
        "When it finds the special line that indicates the end of the text, it breaks out of the loop.\n",
        "Otherwise, it writes the line to the output file."
      ]
    },
    {
      "cell_type": "code",
      "execution_count": 41,
      "id": "a99dc11c",
      "metadata": {
        "id": "a99dc11c"
      },
      "outputs": [],
      "source": [
        "for line in reader:\n",
        "    if is_special_line(line):\n",
        "        break\n",
        "    writer.write(line)"
      ]
    },
    {
      "cell_type": "markdown",
      "id": "c07032a4",
      "metadata": {
        "id": "c07032a4"
      },
      "source": [
        "When this loop exits, `line` contains the second special line."
      ]
    },
    {
      "cell_type": "code",
      "execution_count": 42,
      "id": "dfd6b264",
      "metadata": {
        "id": "dfd6b264",
        "outputId": "035c7a50-c4d4-41a7-aee0-4a2d28652b36",
        "colab": {
          "base_uri": "https://localhost:8080/",
          "height": 36
        }
      },
      "outputs": [
        {
          "output_type": "execute_result",
          "data": {
            "text/plain": [
              "'\\n'"
            ],
            "application/vnd.google.colaboratory.intrinsic+json": {
              "type": "string"
            }
          },
          "metadata": {},
          "execution_count": 42
        }
      ],
      "source": [
        "line"
      ]
    },
    {
      "cell_type": "markdown",
      "id": "0c30b41c",
      "metadata": {
        "id": "0c30b41c"
      },
      "source": [
        "At this point `reader` and `writer` are still open, which means we could keep reading lines from `reader` or writing lines to `writer`.\n",
        "To indicate that we're done, we can close both files by invoking the `close` method."
      ]
    },
    {
      "cell_type": "code",
      "execution_count": 43,
      "id": "4eda555c",
      "metadata": {
        "id": "4eda555c"
      },
      "outputs": [],
      "source": [
        "reader.close()\n",
        "writer.close()"
      ]
    },
    {
      "cell_type": "markdown",
      "id": "d5084cdc",
      "metadata": {
        "id": "d5084cdc"
      },
      "source": [
        "To check whether this process was successful, we can read the first few lines from the new file we just created."
      ]
    },
    {
      "cell_type": "code",
      "execution_count": 44,
      "id": "5e1e8c74",
      "metadata": {
        "id": "5e1e8c74",
        "outputId": "842ea698-c1ea-4778-9d5a-bb2125a51d77",
        "colab": {
          "base_uri": "https://localhost:8080/"
        }
      },
      "outputs": [
        {
          "output_type": "stream",
          "name": "stdout",
          "text": [
            "Updated editions will replace the previous one—the old editions will\n",
            "be renamed.\n",
            "Creating the works from print editions not protected by U.S. copyright\n",
            "law means that no one owns a United States copyright in these works,\n",
            "so the Foundation (and you!) can copy and distribute it in the United\n",
            "States without permission and without paying copyright\n",
            "royalties. Special rules, set forth in the General Terms of Use part\n",
            "of this license, apply to copying and distributing Project\n",
            "Gutenberg™ electronic works to protect the PROJECT GUTENBERG™\n",
            "concept and trademark. Project Gutenberg is a registered trademark,\n",
            "and may not be used if you charge for an eBook, except by following\n",
            "the terms of the trademark license, including paying royalties for use\n",
            "of the Project Gutenberg trademark. If you do not charge anything for\n",
            "copies of this eBook, complying with the trademark license is very\n",
            "easy. You may use this eBook for nearly any purpose such as creation\n",
            "of derivative works, reports, performances and research. Project\n",
            "Gutenberg eBooks may be modified and printed and given away—you may\n",
            "do practically ANYTHING in the United States with eBooks not protected\n",
            "by U.S. copyright law. Redistribution is subject to the trademark\n",
            "license, especially commercial redistribution.\n",
            "START: FULL LICENSE\n",
            "THE FULL PROJECT GUTENBERG LICENSE\n",
            "PLEASE READ THIS BEFORE YOU DISTRIBUTE OR USE THIS WORK\n",
            "To protect the Project Gutenberg™ mission of promoting the free\n",
            "distribution of electronic works, by using or distributing this work\n",
            "(or any other work associated in any way with the phrase “Project\n",
            "Gutenberg”), you agree to comply with all the terms of the Full\n",
            "Project Gutenberg™ License available with this file or online at\n",
            "www.gutenberg.org/license.\n",
            "Section 1. General Terms of Use and Redistributing Project Gutenberg™\n",
            "electronic works\n",
            "1.A. By reading or using any part of this Project Gutenberg™\n",
            "electronic work, you indicate that you have read, understand, agree to\n",
            "and accept all the terms of this license and intellectual property\n",
            "(trademark/copyright) agreement. If you do not agree to abide by all\n",
            "the terms of this agreement, you must cease using and return or\n",
            "destroy all copies of Project Gutenberg™ electronic works in your\n",
            "possession. If you paid a fee for obtaining a copy of or access to a\n",
            "Project Gutenberg™ electronic work and you do not agree to be bound\n",
            "by the terms of this agreement, you may obtain a refund from the person\n",
            "or entity to whom you paid the fee as set forth in paragraph 1.E.8.\n",
            "1.B. “Project Gutenberg” is a registered trademark. It may only be\n",
            "used on or associated in any way with an electronic work by people who\n",
            "agree to be bound by the terms of this agreement. There are a few\n",
            "things that you can do with most Project Gutenberg™ electronic works\n",
            "even without complying with the full terms of this agreement. See\n",
            "paragraph 1.C below. There are a lot of things you can do with Project\n",
            "Gutenberg™ electronic works if you follow the terms of this\n",
            "agreement and help preserve free future access to Project Gutenberg™\n",
            "electronic works. See paragraph 1.E below.\n",
            "1.C. The Project Gutenberg Literary Archive Foundation (“the\n",
            "Foundation” or PGLAF), owns a compilation copyright in the collection\n",
            "of Project Gutenberg™ electronic works. Nearly all the individual\n",
            "works in the collection are in the public domain in the United\n",
            "States. If an individual work is unprotected by copyright law in the\n",
            "United States and you are located in the United States, we do not\n",
            "claim a right to prevent you from copying, distributing, performing,\n",
            "displaying or creating derivative works based on the work as long as\n",
            "all references to Project Gutenberg are removed. Of course, we hope\n",
            "that you will support the Project Gutenberg™ mission of promoting\n",
            "free access to electronic works by freely sharing Project Gutenberg™\n",
            "works in compliance with the terms of this agreement for keeping the\n",
            "Project Gutenberg™ name associated with the work. You can easily\n",
            "comply with the terms of this agreement by keeping this work in the\n",
            "same format with its attached full Project Gutenberg™ License when\n",
            "you share it without charge with others.\n",
            "1.D. The copyright laws of the place where you are located also govern\n",
            "what you can do with this work. Copyright laws in most countries are\n",
            "in a constant state of change. If you are outside the United States,\n",
            "check the laws of your country in addition to the terms of this\n",
            "agreement before downloading, copying, displaying, performing,\n",
            "distributing or creating derivative works based on this work or any\n",
            "other Project Gutenberg™ work. The Foundation makes no\n",
            "representations concerning the copyright status of any work in any\n",
            "country other than the United States.\n",
            "1.E. Unless you have removed all references to Project Gutenberg:\n",
            "1.E.1. The following sentence, with active links to, or other\n",
            "immediate access to, the full Project Gutenberg™ License must appear\n",
            "prominently whenever any copy of a Project Gutenberg™ work (any work\n",
            "on which the phrase “Project Gutenberg” appears, or with which the\n",
            "phrase “Project Gutenberg” is associated) is accessed, displayed,\n",
            "performed, viewed, copied or distributed:\n",
            "This eBook is for the use of anyone anywhere in the United States and most\n",
            "other parts of the world at no cost and with almost no restrictions\n",
            "whatsoever. You may copy it, give it away or re-use it under the terms\n",
            "of the Project Gutenberg License included with this eBook or online\n",
            "at www.gutenberg.org. If you\n",
            "are not located in the United States, you will have to check the laws\n",
            "of the country where you are located before using this eBook.\n",
            "1.E.2. If an individual Project Gutenberg™ electronic work is\n",
            "derived from texts not protected by U.S. copyright law (does not\n",
            "contain a notice indicating that it is posted with permission of the\n",
            "copyright holder), the work can be copied and distributed to anyone in\n",
            "the United States without paying any fees or charges. If you are\n",
            "redistributing or providing access to a work with the phrase “Project\n",
            "Gutenberg” associated with or appearing on the work, you must comply\n",
            "either with the requirements of paragraphs 1.E.1 through 1.E.7 or\n",
            "obtain permission for the use of the work and the Project Gutenberg™\n",
            "trademark as set forth in paragraphs 1.E.8 or 1.E.9.\n",
            "1.E.3. If an individual Project Gutenberg™ electronic work is posted\n",
            "with the permission of the copyright holder, your use and distribution\n",
            "must comply with both paragraphs 1.E.1 through 1.E.7 and any\n",
            "additional terms imposed by the copyright holder. Additional terms\n",
            "will be linked to the Project Gutenberg™ License for all works\n",
            "posted with the permission of the copyright holder found at the\n",
            "beginning of this work.\n",
            "1.E.4. Do not unlink or detach or remove the full Project Gutenberg™\n",
            "License terms from this work, or any files containing a part of this\n",
            "work or any other work associated with Project Gutenberg™.\n",
            "1.E.5. Do not copy, display, perform, distribute or redistribute this\n",
            "electronic work, or any part of this electronic work, without\n",
            "prominently displaying the sentence set forth in paragraph 1.E.1 with\n",
            "active links or immediate access to the full terms of the Project\n",
            "Gutenberg™ License.\n",
            "1.E.6. You may convert to and distribute this work in any binary,\n",
            "compressed, marked up, nonproprietary or proprietary form, including\n",
            "any word processing or hypertext form. However, if you provide access\n",
            "to or distribute copies of a Project Gutenberg™ work in a format\n",
            "other than “Plain Vanilla ASCII” or other format used in the official\n",
            "version posted on the official Project Gutenberg™ website\n",
            "(www.gutenberg.org), you must, at no additional cost, fee or expense\n",
            "to the user, provide a copy, a means of exporting a copy, or a means\n",
            "of obtaining a copy upon request, of the work in its original “Plain\n",
            "Vanilla ASCII” or other form. Any alternate format must include the\n",
            "full Project Gutenberg™ License as specified in paragraph 1.E.1.\n",
            "1.E.7. Do not charge a fee for access to, viewing, displaying,\n",
            "performing, copying or distributing any Project Gutenberg™ works\n",
            "unless you comply with paragraph 1.E.8 or 1.E.9.\n",
            "1.E.8. You may charge a reasonable fee for copies of or providing\n",
            "access to or distributing Project Gutenberg™ electronic works\n",
            "provided that:\n",
            "• You pay a royalty fee of 20% of the gross profits you derive from\n",
            "the use of Project Gutenberg™ works calculated using the method\n",
            "you already use to calculate your applicable taxes. The fee is owed\n",
            "to the owner of the Project Gutenberg™ trademark, but he has\n",
            "agreed to donate royalties under this paragraph to the Project\n",
            "Gutenberg Literary Archive Foundation. Royalty payments must be paid\n",
            "within 60 days following each date on which you prepare (or are\n",
            "legally required to prepare) your periodic tax returns. Royalty\n",
            "payments should be clearly marked as such and sent to the Project\n",
            "Gutenberg Literary Archive Foundation at the address specified in\n",
            "Section 4, “Information about donations to the Project Gutenberg\n",
            "Literary Archive Foundation.”\n",
            "• You provide a full refund of any money paid by a user who notifies\n",
            "you in writing (or by e-mail) within 30 days of receipt that s/he\n",
            "does not agree to the terms of the full Project Gutenberg™\n",
            "License. You must require such a user to return or destroy all\n",
            "copies of the works possessed in a physical medium and discontinue\n",
            "all use of and all access to other copies of Project Gutenberg™\n",
            "works.\n",
            "• You provide, in accordance with paragraph 1.F.3, a full refund of\n",
            "any money paid for a work or a replacement copy, if a defect in the\n",
            "electronic work is discovered and reported to you within 90 days of\n",
            "receipt of the work.\n",
            "• You comply with all other terms of this agreement for free\n",
            "distribution of Project Gutenberg™ works.\n",
            "1.E.9. If you wish to charge a fee or distribute a Project\n",
            "Gutenberg™ electronic work or group of works on different terms than\n",
            "are set forth in this agreement, you must obtain permission in writing\n",
            "from the Project Gutenberg Literary Archive Foundation, the manager of\n",
            "the Project Gutenberg™ trademark. Contact the Foundation as set\n",
            "forth in Section 3 below.\n",
            "1.F.\n",
            "1.F.1. Project Gutenberg volunteers and employees expend considerable\n",
            "effort to identify, do copyright research on, transcribe and proofread\n",
            "works not protected by U.S. copyright law in creating the Project\n",
            "Gutenberg™ collection. Despite these efforts, Project Gutenberg™\n",
            "electronic works, and the medium on which they may be stored, may\n",
            "contain “Defects,” such as, but not limited to, incomplete, inaccurate\n",
            "or corrupt data, transcription errors, a copyright or other\n",
            "intellectual property infringement, a defective or damaged disk or\n",
            "other medium, a computer virus, or computer codes that damage or\n",
            "cannot be read by your equipment.\n",
            "1.F.2. LIMITED WARRANTY, DISCLAIMER OF DAMAGES - Except for the “Right\n",
            "of Replacement or Refund” described in paragraph 1.F.3, the Project\n",
            "Gutenberg Literary Archive Foundation, the owner of the Project\n",
            "Gutenberg™ trademark, and any other party distributing a Project\n",
            "Gutenberg™ electronic work under this agreement, disclaim all\n",
            "liability to you for damages, costs and expenses, including legal\n",
            "fees. YOU AGREE THAT YOU HAVE NO REMEDIES FOR NEGLIGENCE, STRICT\n",
            "LIABILITY, BREACH OF WARRANTY OR BREACH OF CONTRACT EXCEPT THOSE\n",
            "PROVIDED IN PARAGRAPH 1.F.3. YOU AGREE THAT THE FOUNDATION, THE\n",
            "TRADEMARK OWNER, AND ANY DISTRIBUTOR UNDER THIS AGREEMENT WILL NOT BE\n",
            "LIABLE TO YOU FOR ACTUAL, DIRECT, INDIRECT, CONSEQUENTIAL, PUNITIVE OR\n",
            "INCIDENTAL DAMAGES EVEN IF YOU GIVE NOTICE OF THE POSSIBILITY OF SUCH\n",
            "DAMAGE.\n",
            "1.F.3. LIMITED RIGHT OF REPLACEMENT OR REFUND - If you discover a\n",
            "defect in this electronic work within 90 days of receiving it, you can\n",
            "receive a refund of the money (if any) you paid for it by sending a\n",
            "written explanation to the person you received the work from. If you\n",
            "received the work on a physical medium, you must return the medium\n",
            "with your written explanation. The person or entity that provided you\n",
            "with the defective work may elect to provide a replacement copy in\n",
            "lieu of a refund. If you received the work electronically, the person\n",
            "or entity providing it to you may choose to give you a second\n",
            "opportunity to receive the work electronically in lieu of a refund. If\n",
            "the second copy is also defective, you may demand a refund in writing\n",
            "without further opportunities to fix the problem.\n",
            "1.F.4. Except for the limited right of replacement or refund set forth\n",
            "in paragraph 1.F.3, this work is provided to you ‘AS-IS’, WITH NO\n",
            "OTHER WARRANTIES OF ANY KIND, EXPRESS OR IMPLIED, INCLUDING BUT NOT\n",
            "LIMITED TO WARRANTIES OF MERCHANTABILITY OR FITNESS FOR ANY PURPOSE.\n",
            "1.F.5. Some states do not allow disclaimers of certain implied\n",
            "warranties or the exclusion or limitation of certain types of\n",
            "damages. If any disclaimer or limitation set forth in this agreement\n",
            "violates the law of the state applicable to this agreement, the\n",
            "agreement shall be interpreted to make the maximum disclaimer or\n",
            "limitation permitted by the applicable state law. The invalidity or\n",
            "unenforceability of any provision of this agreement shall not void the\n",
            "remaining provisions.\n",
            "1.F.6. INDEMNITY - You agree to indemnify and hold the Foundation, the\n",
            "trademark owner, any agent or employee of the Foundation, anyone\n",
            "providing copies of Project Gutenberg™ electronic works in\n",
            "accordance with this agreement, and any volunteers associated with the\n",
            "production, promotion and distribution of Project Gutenberg™\n",
            "electronic works, harmless from all liability, costs and expenses,\n",
            "including legal fees, that arise directly or indirectly from any of\n",
            "the following which you do or cause to occur: (a) distribution of this\n",
            "or any Project Gutenberg™ work, (b) alteration, modification, or\n",
            "additions or deletions to any Project Gutenberg™ work, and (c) any\n",
            "Defect you cause.\n",
            "Section 2. Information about the Mission of Project Gutenberg™\n",
            "Project Gutenberg™ is synonymous with the free distribution of\n",
            "electronic works in formats readable by the widest variety of\n",
            "computers including obsolete, old, middle-aged and new computers. It\n",
            "exists because of the efforts of hundreds of volunteers and donations\n",
            "from people in all walks of life.\n",
            "Volunteers and financial support to provide volunteers with the\n",
            "assistance they need are critical to reaching Project Gutenberg™’s\n",
            "goals and ensuring that the Project Gutenberg™ collection will\n",
            "remain freely available for generations to come. In 2001, the Project\n",
            "Gutenberg Literary Archive Foundation was created to provide a secure\n",
            "and permanent future for Project Gutenberg™ and future\n",
            "generations. To learn more about the Project Gutenberg Literary\n",
            "Archive Foundation and how your efforts and donations can help, see\n",
            "Sections 3 and 4 and the Foundation information page at www.gutenberg.org.\n",
            "Section 3. Information about the Project Gutenberg Literary Archive Foundation\n",
            "The Project Gutenberg Literary Archive Foundation is a non-profit\n",
            "501(c)(3) educational corporation organized under the laws of the\n",
            "state of Mississippi and granted tax exempt status by the Internal\n",
            "Revenue Service. The Foundation’s EIN or federal tax identification\n",
            "number is 64-6221541. Contributions to the Project Gutenberg Literary\n",
            "Archive Foundation are tax deductible to the full extent permitted by\n",
            "U.S. federal laws and your state’s laws.\n",
            "The Foundation’s business office is located at 809 North 1500 West,\n",
            "Salt Lake City, UT 84116, (801) 596-1887. Email contact links and up\n",
            "to date contact information can be found at the Foundation’s website\n",
            "and official page at www.gutenberg.org/contact\n",
            "Section 4. Information about Donations to the Project Gutenberg\n",
            "Literary Archive Foundation\n",
            "Project Gutenberg™ depends upon and cannot survive without widespread\n",
            "public support and donations to carry out its mission of\n",
            "increasing the number of public domain and licensed works that can be\n",
            "freely distributed in machine-readable form accessible by the widest\n",
            "array of equipment including outdated equipment. Many small donations\n",
            "($1 to $5,000) are particularly important to maintaining tax exempt\n",
            "status with the IRS.\n",
            "The Foundation is committed to complying with the laws regulating\n",
            "charities and charitable donations in all 50 states of the United\n",
            "States. Compliance requirements are not uniform and it takes a\n",
            "considerable effort, much paperwork and many fees to meet and keep up\n",
            "with these requirements. We do not solicit donations in locations\n",
            "where we have not received written confirmation of compliance. To SEND\n",
            "DONATIONS or determine the status of compliance for any particular state\n",
            "visit www.gutenberg.org/donate.\n",
            "While we cannot and do not solicit contributions from states where we\n",
            "have not met the solicitation requirements, we know of no prohibition\n",
            "against accepting unsolicited donations from donors in such states who\n",
            "approach us with offers to donate.\n",
            "International donations are gratefully accepted, but we cannot make\n",
            "any statements concerning tax treatment of donations received from\n",
            "outside the United States. U.S. laws alone swamp our small staff.\n",
            "Please check the Project Gutenberg web pages for current donation\n",
            "methods and addresses. Donations are accepted in a number of other\n",
            "ways including checks, online payments and credit card donations. To\n",
            "donate, please visit: www.gutenberg.org/donate.\n",
            "Section 5. General Information About Project Gutenberg™ electronic works\n",
            "Professor Michael S. Hart was the originator of the Project\n",
            "Gutenberg™ concept of a library of electronic works that could be\n",
            "freely shared with anyone. For forty years, he produced and\n",
            "distributed Project Gutenberg™ eBooks with only a loose network of\n",
            "volunteer support.\n",
            "Project Gutenberg™ eBooks are often created from several printed\n",
            "editions, all of which are confirmed as not protected by copyright in\n",
            "the U.S. unless a copyright notice is included. Thus, we do not\n",
            "necessarily keep eBooks in compliance with any particular paper\n",
            "edition.\n",
            "Most people start at our website which has the main PG search\n",
            "facility: www.gutenberg.org.\n",
            "This website includes information about Project Gutenberg™,\n",
            "including how to make donations to the Project Gutenberg Literary\n",
            "Archive Foundation, how to help produce our new eBooks, and how to\n",
            "subscribe to our email newsletter to hear about new eBooks.\n"
          ]
        }
      ],
      "source": [
        "for line in open('pg345_cleaned.txt'):\n",
        "    line = line.strip()\n",
        "    if len(line) > 0:\n",
        "        print(line)\n",
        "    if line.endswith('Stoker'):\n",
        "        break"
      ]
    },
    {
      "cell_type": "markdown",
      "id": "34c93df3",
      "metadata": {
        "id": "34c93df3"
      },
      "source": [
        "The `endswith` method checks whether a string ends with a given sequence of characters."
      ]
    },
    {
      "cell_type": "markdown",
      "id": "fcdb4bbf",
      "metadata": {
        "id": "fcdb4bbf"
      },
      "source": [
        "## Find and replace\n",
        "\n",
        "In the Icelandic translation of *Dracula* from 1901, the name of one of the characters was changed from \"Jonathan\" to \"Thomas\".\n",
        "To make this change in the English version, we can loop through the book, use the `replace` method to replace one name with another, and write the result to a new file.\n",
        "\n",
        "We'll start by counting the lines in the cleaned version of the file."
      ]
    },
    {
      "cell_type": "code",
      "execution_count": 45,
      "id": "63ebaafb",
      "metadata": {
        "id": "63ebaafb",
        "outputId": "ac567dd2-40ec-4222-9358-3be758aaabd6",
        "colab": {
          "base_uri": "https://localhost:8080/"
        }
      },
      "outputs": [
        {
          "output_type": "execute_result",
          "data": {
            "text/plain": [
              "350"
            ]
          },
          "metadata": {},
          "execution_count": 45
        }
      ],
      "source": [
        "total = 0\n",
        "for line in open('pg345_cleaned.txt'):\n",
        "    total += 1\n",
        "\n",
        "total"
      ]
    },
    {
      "cell_type": "markdown",
      "id": "8ba9b9ca",
      "metadata": {
        "id": "8ba9b9ca"
      },
      "source": [
        "To see whether a line contains \"Jonathan\", we can use the `in` operator, which checks whether this sequence of characters appears anywhere in the line."
      ]
    },
    {
      "cell_type": "code",
      "execution_count": null,
      "id": "9973e6e8",
      "metadata": {
        "id": "9973e6e8"
      },
      "outputs": [],
      "source": [
        "total = 0\n",
        "for line in open('pg345_cleaned.txt'):\n",
        "    if 'Jonathan' in line:\n",
        "        total += 1\n",
        "\n",
        "total"
      ]
    },
    {
      "cell_type": "markdown",
      "id": "27805245",
      "metadata": {
        "id": "27805245"
      },
      "source": [
        "There are 199 lines that contain the name, but that's not quite the total number of times it appears, because it can appear more than once in a line.\n",
        "To get the total, we can use the `count` method, which returns the number of times a sequence appears in a string."
      ]
    },
    {
      "cell_type": "code",
      "execution_count": 46,
      "id": "02e06ff1",
      "metadata": {
        "id": "02e06ff1",
        "outputId": "a3c1a8ae-b53d-4659-c873-3b8419c13238",
        "colab": {
          "base_uri": "https://localhost:8080/"
        }
      },
      "outputs": [
        {
          "output_type": "execute_result",
          "data": {
            "text/plain": [
              "0"
            ]
          },
          "metadata": {},
          "execution_count": 46
        }
      ],
      "source": [
        "total = 0\n",
        "for line in open('pg345_cleaned.txt'):\n",
        "    total += line.count('Jonathan')\n",
        "\n",
        "total"
      ]
    },
    {
      "cell_type": "markdown",
      "id": "68026797",
      "metadata": {
        "id": "68026797"
      },
      "source": [
        "Now we can replace `'Jonathan'` with `'Thomas'` like this:"
      ]
    },
    {
      "cell_type": "code",
      "execution_count": 47,
      "id": "1450e82c",
      "metadata": {
        "id": "1450e82c"
      },
      "outputs": [],
      "source": [
        "writer = open('pg345_replaced.txt', 'w')\n",
        "\n",
        "for line in open('pg345_cleaned.txt'):\n",
        "    line = line.replace('Jonathan', 'Thomas')\n",
        "    writer.write(line)"
      ]
    },
    {
      "cell_type": "markdown",
      "id": "57ba56f3",
      "metadata": {
        "id": "57ba56f3"
      },
      "source": [
        "The result is a new file called `pg345_replaced.txt` that contains a version of *Dracula* where Jonathan Harker is called Thomas."
      ]
    },
    {
      "cell_type": "code",
      "execution_count": 48,
      "id": "a57b64c6",
      "metadata": {
        "tags": [],
        "id": "a57b64c6",
        "outputId": "46c07c79-1726-425f-de12-09d5e76fe2e4",
        "colab": {
          "base_uri": "https://localhost:8080/"
        }
      },
      "outputs": [
        {
          "output_type": "execute_result",
          "data": {
            "text/plain": [
              "0"
            ]
          },
          "metadata": {},
          "execution_count": 48
        }
      ],
      "source": [
        "total = 0\n",
        "for line in open('pg345_replaced.txt'):\n",
        "    total += line.count('Thomas')\n",
        "\n",
        "total"
      ]
    },
    {
      "cell_type": "markdown",
      "id": "cc9af187",
      "metadata": {
        "id": "cc9af187"
      },
      "source": [
        "## Regular expressions\n",
        "\n",
        "If we know exactly what sequence of characters we're looking for, we can use the `in` operator to find it and the `replace` method to replace it.\n",
        "But there is another tool, called a **regular expression** that can also perform these operations -- and a lot more.\n",
        "\n",
        "To demonstrate, I'll start with a simple example and we'll work our way up.\n",
        "Suppose, again, that we want to find all lines that contain a particular word.\n",
        "For a change, let's look for references to the titular character of the book, Count Dracula.\n",
        "Here's a line that mentions him."
      ]
    },
    {
      "cell_type": "code",
      "execution_count": 65,
      "id": "a6069027",
      "metadata": {
        "id": "a6069027"
      },
      "outputs": [],
      "source": [
        "text = \"I am Dracula; and I bid you welcome, Mr. Harker, to my house.\""
      ]
    },
    {
      "cell_type": "markdown",
      "id": "d4fd6d11",
      "metadata": {
        "id": "d4fd6d11"
      },
      "source": [
        "And here's the **pattern** we'll use to search."
      ]
    },
    {
      "cell_type": "code",
      "execution_count": 66,
      "id": "e3c19abe",
      "metadata": {
        "id": "e3c19abe"
      },
      "outputs": [],
      "source": [
        "pattern = 'Dracula'"
      ]
    },
    {
      "cell_type": "markdown",
      "id": "268f647c",
      "metadata": {
        "id": "268f647c"
      },
      "source": [
        "A module called `re` provides functions related to regular expressions.\n",
        "We can import it like this and use the `search` function to check whether the pattern appears in the text."
      ]
    },
    {
      "cell_type": "code",
      "execution_count": 67,
      "id": "db588abb",
      "metadata": {
        "id": "db588abb",
        "outputId": "58e50ead-3987-4303-851c-8cd6e1167db7",
        "colab": {
          "base_uri": "https://localhost:8080/"
        }
      },
      "outputs": [
        {
          "output_type": "execute_result",
          "data": {
            "text/plain": [
              "<re.Match object; span=(5, 12), match='Dracula'>"
            ]
          },
          "metadata": {},
          "execution_count": 67
        }
      ],
      "source": [
        "import re\n",
        "\n",
        "result = re.search(pattern, text)\n",
        "result"
      ]
    },
    {
      "cell_type": "markdown",
      "id": "e17f6731",
      "metadata": {
        "id": "e17f6731"
      },
      "source": [
        "If the pattern appears in the text, `search` returns a `Match` object that contains the results of the search.\n",
        "Among other information, it has a variable named `string` that contains the text that was searched."
      ]
    },
    {
      "cell_type": "code",
      "execution_count": 68,
      "id": "924524a6",
      "metadata": {
        "id": "924524a6",
        "outputId": "03248c16-0f91-4f76-d9ac-889c5b0adb15",
        "colab": {
          "base_uri": "https://localhost:8080/",
          "height": 36
        }
      },
      "outputs": [
        {
          "output_type": "execute_result",
          "data": {
            "text/plain": [
              "'I am Dracula; and I bid you welcome, Mr. Harker, to my house.'"
            ],
            "application/vnd.google.colaboratory.intrinsic+json": {
              "type": "string"
            }
          },
          "metadata": {},
          "execution_count": 68
        }
      ],
      "source": [
        "result.string"
      ]
    },
    {
      "cell_type": "markdown",
      "id": "a8eab0f6",
      "metadata": {
        "id": "a8eab0f6"
      },
      "source": [
        "It also provides a method called `group` that returns the part of the text that matched the pattern."
      ]
    },
    {
      "cell_type": "code",
      "execution_count": 69,
      "id": "c72b860c",
      "metadata": {
        "id": "c72b860c",
        "outputId": "9022d228-e930-4f4d-c863-c5aed8d9ce24",
        "colab": {
          "base_uri": "https://localhost:8080/",
          "height": 36
        }
      },
      "outputs": [
        {
          "output_type": "execute_result",
          "data": {
            "text/plain": [
              "'Dracula'"
            ],
            "application/vnd.google.colaboratory.intrinsic+json": {
              "type": "string"
            }
          },
          "metadata": {},
          "execution_count": 69
        }
      ],
      "source": [
        "result.group()"
      ]
    },
    {
      "cell_type": "markdown",
      "id": "b6962a7d",
      "metadata": {
        "id": "b6962a7d"
      },
      "source": [
        "And it provides a method called `span` that returns the index in the text where the pattern starts and ends."
      ]
    },
    {
      "cell_type": "code",
      "execution_count": 70,
      "id": "7c2f556c",
      "metadata": {
        "id": "7c2f556c",
        "outputId": "22d816b9-2406-47f7-f35e-3a28b0a8bf35",
        "colab": {
          "base_uri": "https://localhost:8080/"
        }
      },
      "outputs": [
        {
          "output_type": "execute_result",
          "data": {
            "text/plain": [
              "(5, 12)"
            ]
          },
          "metadata": {},
          "execution_count": 70
        }
      ],
      "source": [
        "result.span()"
      ]
    },
    {
      "cell_type": "markdown",
      "id": "8f1e5261",
      "metadata": {
        "id": "8f1e5261"
      },
      "source": [
        "If the pattern doesn't appear in the text, the return value from `search` is `None`."
      ]
    },
    {
      "cell_type": "code",
      "execution_count": 71,
      "id": "d5242ef6",
      "metadata": {
        "id": "d5242ef6",
        "outputId": "285666af-2c92-451b-f5f9-ecfd9bcd2925",
        "colab": {
          "base_uri": "https://localhost:8080/"
        }
      },
      "outputs": [
        {
          "output_type": "stream",
          "name": "stdout",
          "text": [
            "None\n"
          ]
        }
      ],
      "source": [
        "result = re.search('Count', text)\n",
        "print(result)"
      ]
    },
    {
      "cell_type": "markdown",
      "id": "d5ed33ff",
      "metadata": {
        "id": "d5ed33ff"
      },
      "source": [
        "So we can check whether the search was successful by checking whether the result is `None`."
      ]
    },
    {
      "cell_type": "code",
      "execution_count": 72,
      "id": "18c09b63",
      "metadata": {
        "id": "18c09b63",
        "outputId": "0366d189-258b-483e-caf1-cb14f102a24d",
        "colab": {
          "base_uri": "https://localhost:8080/"
        }
      },
      "outputs": [
        {
          "output_type": "execute_result",
          "data": {
            "text/plain": [
              "True"
            ]
          },
          "metadata": {},
          "execution_count": 72
        }
      ],
      "source": [
        "result == None"
      ]
    },
    {
      "cell_type": "markdown",
      "id": "a08e38f6",
      "metadata": {
        "id": "a08e38f6"
      },
      "source": [
        "Putting all that together, here's a function that loops through the lines in the book until it finds one that matches the given pattern, and returns the `Match` object."
      ]
    },
    {
      "cell_type": "code",
      "execution_count": 73,
      "id": "fedb7d95",
      "metadata": {
        "id": "fedb7d95"
      },
      "outputs": [],
      "source": [
        "def find_first(pattern):\n",
        "    for line in open('pg345_cleaned.txt'):\n",
        "        result = re.search(pattern, line)\n",
        "        if result != None:\n",
        "            return result"
      ]
    },
    {
      "cell_type": "markdown",
      "id": "96570515",
      "metadata": {
        "id": "96570515"
      },
      "source": [
        "We can use it to find the first mention of a character."
      ]
    },
    {
      "cell_type": "code",
      "execution_count": 81,
      "id": "d7cbe2c2",
      "metadata": {
        "id": "d7cbe2c2"
      },
      "outputs": [],
      "source": [
        "result = find_first('Harker')\n",
        "result.string"
      ]
    },
    {
      "cell_type": "markdown",
      "id": "3f687fdc",
      "metadata": {
        "id": "3f687fdc"
      },
      "source": [
        "For this example, we didn't have to use regular expressions -- we could have done the same thing more easily with the `in` operator.\n",
        "But regular expressions can do things the `in` operator cannot.\n",
        "\n",
        "For example, if the pattern includes the vertical bar character, `'|'`, it can match either the sequence on the left or the sequence on the right.\n",
        "Suppose we want to find the first mention of Mina Murray in the book, but we are not sure whether she is referred to by first name or last.\n",
        "We can use the following pattern, which matches either name."
      ]
    },
    {
      "cell_type": "code",
      "execution_count": null,
      "id": "96c64f83",
      "metadata": {
        "id": "96c64f83"
      },
      "outputs": [],
      "source": [
        "pattern = 'Mina|Murray'\n",
        "result = find_first(pattern)\n",
        "result.string"
      ]
    },
    {
      "cell_type": "markdown",
      "id": "8bea66a6",
      "metadata": {
        "id": "8bea66a6"
      },
      "source": [
        "We can use a pattern like this to see how many times a character is mentioned by either name.\n",
        "Here's a function that loops through the book and counts the number of lines that match the given pattern."
      ]
    },
    {
      "cell_type": "code",
      "execution_count": null,
      "id": "d0d2e926",
      "metadata": {
        "id": "d0d2e926"
      },
      "outputs": [],
      "source": [
        "def count_matches(pattern):\n",
        "    count = 0\n",
        "    for line in open('pg345_cleaned.txt'):\n",
        "        result = re.search(pattern, line)\n",
        "        if result != None:\n",
        "            count += 1\n",
        "    return count"
      ]
    },
    {
      "cell_type": "markdown",
      "id": "0e753a5b",
      "metadata": {
        "id": "0e753a5b"
      },
      "source": [
        "Now let's see how many times Mina is mentioned."
      ]
    },
    {
      "cell_type": "code",
      "execution_count": null,
      "id": "d7e8c5b4",
      "metadata": {
        "id": "d7e8c5b4"
      },
      "outputs": [],
      "source": [
        "count_matches('Mina|Murray')"
      ]
    },
    {
      "cell_type": "markdown",
      "id": "780c9fab",
      "metadata": {
        "id": "780c9fab"
      },
      "source": [
        "The special character `'^'` matches the beginning of a string, so we can find a line that starts with a given pattern."
      ]
    },
    {
      "cell_type": "code",
      "execution_count": null,
      "id": "be63c5b0",
      "metadata": {
        "id": "be63c5b0"
      },
      "outputs": [],
      "source": [
        "result = find_first('^Dracula')\n",
        "result.string"
      ]
    },
    {
      "cell_type": "markdown",
      "id": "332bad2e",
      "metadata": {
        "id": "332bad2e"
      },
      "source": [
        "And the special character `'$'` matches the end of a string, so we can find a line that ends with a given pattern (ignoring the newline at the end)."
      ]
    },
    {
      "cell_type": "code",
      "execution_count": null,
      "id": "37595ac5",
      "metadata": {
        "id": "37595ac5"
      },
      "outputs": [],
      "source": [
        "result = find_first('Harker$')\n",
        "result.string"
      ]
    },
    {
      "cell_type": "markdown",
      "id": "d4b22b6e",
      "metadata": {
        "id": "d4b22b6e"
      },
      "source": [
        "## String substitution\n",
        "\n",
        "Bram Stoker was born in Ireland, and when *Dracula* was published in 1897, he was living in England.\n",
        "So we would expect him to use the British spelling of words like \"centre\" and \"colour\".\n",
        "To check, we can use the following pattern, which matches either \"centre\" or the American spelling \"center\"."
      ]
    },
    {
      "cell_type": "code",
      "execution_count": null,
      "id": "18237bea",
      "metadata": {
        "id": "18237bea"
      },
      "outputs": [],
      "source": [
        "pattern = 'cent(er|re)'"
      ]
    },
    {
      "cell_type": "markdown",
      "id": "35abfd7d",
      "metadata": {
        "id": "35abfd7d"
      },
      "source": [
        "In this pattern, the parentheses enclose the part of the pattern the vertical bar applies to.\n",
        "So this pattern matches a sequence that starts with `'cent'` and ends with either `'er'` or `'re'`."
      ]
    },
    {
      "cell_type": "code",
      "execution_count": null,
      "id": "ce65805f",
      "metadata": {
        "id": "ce65805f"
      },
      "outputs": [],
      "source": [
        "result = find_first(pattern)\n",
        "result.string"
      ]
    },
    {
      "cell_type": "markdown",
      "id": "e5703c18",
      "metadata": {
        "id": "e5703c18"
      },
      "source": [
        "As expected, he used the British spelling.\n",
        "\n",
        "We can also check whether he used the British spelling of \"colour\".\n",
        "The following pattern uses the special character `'?'`, which means that the previous character is optional."
      ]
    },
    {
      "cell_type": "code",
      "execution_count": null,
      "id": "af770664",
      "metadata": {
        "id": "af770664"
      },
      "outputs": [],
      "source": [
        "pattern = 'colou?r'"
      ]
    },
    {
      "cell_type": "markdown",
      "id": "beed9a7b",
      "metadata": {
        "id": "beed9a7b"
      },
      "source": [
        "This pattern matches either \"colour\" with the `'u'` or \"color\" without it."
      ]
    },
    {
      "cell_type": "code",
      "execution_count": null,
      "id": "ed67bde7",
      "metadata": {
        "id": "ed67bde7"
      },
      "outputs": [],
      "source": [
        "result = find_first(pattern)\n",
        "line = result.string\n",
        "line"
      ]
    },
    {
      "cell_type": "markdown",
      "id": "1a31f179",
      "metadata": {
        "id": "1a31f179"
      },
      "source": [
        "Again, as expected, he used the British spelling.\n",
        "\n",
        "Now suppose we want to produce an edition of the book with American spellings.\n",
        "We can use the `sub` function in the `re` module, which does **string substitution**."
      ]
    },
    {
      "cell_type": "code",
      "execution_count": null,
      "id": "52dd938c",
      "metadata": {
        "id": "52dd938c"
      },
      "outputs": [],
      "source": [
        "re.sub(pattern, 'color', line)"
      ]
    },
    {
      "cell_type": "markdown",
      "id": "04a80fc6",
      "metadata": {
        "id": "04a80fc6"
      },
      "source": [
        "The first argument is the pattern we want to find and replace, the second is what we want to replace it with, and the third is the string we want to search.\n",
        "In the result, you can see that \"colour\" has been replaced with \"color\"."
      ]
    },
    {
      "cell_type": "code",
      "execution_count": null,
      "id": "d2e309a2",
      "metadata": {
        "tags": [],
        "id": "d2e309a2"
      },
      "outputs": [],
      "source": [
        "# I used this function to search for lines to use as examples\n",
        "\n",
        "def all_matches(pattern):\n",
        "    for line in open('pg345_cleaned.txt'):\n",
        "        result = re.search(pattern, line)\n",
        "        if result:\n",
        "            print(line.strip())"
      ]
    },
    {
      "cell_type": "code",
      "execution_count": null,
      "id": "3d8b2a9f",
      "metadata": {
        "tags": [],
        "id": "3d8b2a9f"
      },
      "outputs": [],
      "source": [
        "# Here's the pattern I used (which uses some features we haven't seen)\n",
        "\n",
        "names = r'(?<!\\.\\s)[A-Z][a-zA-Z]+'\n",
        "\n",
        "all_matches(names)"
      ]
    },
    {
      "cell_type": "markdown",
      "id": "0318507d",
      "metadata": {
        "id": "0318507d"
      },
      "source": [
        "## Debugging\n",
        "\n",
        "When you are reading and writing files, debugging can be tricky.\n",
        "If you are working in a Jupyter notebook, you can use **shell commands** to help.\n",
        "For example, to display the first few lines of a file, you can use the command `!head`, like this:"
      ]
    },
    {
      "cell_type": "code",
      "execution_count": null,
      "id": "cc39942c",
      "metadata": {
        "tags": [],
        "id": "cc39942c"
      },
      "outputs": [],
      "source": [
        "!head pg345_cleaned.txt"
      ]
    },
    {
      "cell_type": "markdown",
      "id": "1d480c02",
      "metadata": {
        "id": "1d480c02"
      },
      "source": [
        "The initial exclamation point, `!`, indicates that this is a shell command, which is not part of Python.\n",
        "To display the last few lines, you can use `!tail`."
      ]
    },
    {
      "cell_type": "code",
      "execution_count": null,
      "id": "bc3741e1",
      "metadata": {
        "tags": [],
        "id": "bc3741e1"
      },
      "outputs": [],
      "source": [
        "!tail pg345_cleaned.txt"
      ]
    },
    {
      "cell_type": "markdown",
      "id": "6874023a",
      "metadata": {
        "id": "6874023a"
      },
      "source": [
        "When you are working with large files, debugging can be difficult because there might be too much output to check by hand.\n",
        "A good debugging strategy is to start with just part of the file, get the program working, and then run it with the whole file.\n",
        "\n",
        "To make a small file that contains part of a larger file, we can use `!head` again with the redirect operator, `>`, which indicates that the results should be written to a file rather than displayed."
      ]
    },
    {
      "cell_type": "code",
      "execution_count": null,
      "id": "d4c92501",
      "metadata": {
        "id": "d4c92501"
      },
      "outputs": [],
      "source": [
        "!head pg345_cleaned.txt > pg345_cleaned_10_lines.txt"
      ]
    },
    {
      "cell_type": "markdown",
      "id": "3fc851f8",
      "metadata": {
        "id": "3fc851f8"
      },
      "source": [
        "By default, `!head` reads the first 10 lines, but it takes an optional argument that indicates the number of lines to read."
      ]
    },
    {
      "cell_type": "code",
      "execution_count": null,
      "id": "8f6606dd",
      "metadata": {
        "id": "8f6606dd"
      },
      "outputs": [],
      "source": [
        "!head -100 pg345_cleaned.txt > pg345_cleaned_100_lines.txt"
      ]
    },
    {
      "cell_type": "markdown",
      "id": "24871c78",
      "metadata": {
        "id": "24871c78"
      },
      "source": [
        "This shell command reads the first 100 lines from `pg345_cleaned.txt` and writes them to a file called `pg345_cleaned_100_lines.txt`.\n",
        "\n",
        "Note: The shell commands `!head` and `!tail` are not available on all operating systems.\n",
        "If they don't work for you, we can write similar functions in Python.\n",
        "See the first exercise at the end of this chapter for suggestions."
      ]
    },
    {
      "cell_type": "markdown",
      "id": "c842524d",
      "metadata": {
        "id": "c842524d"
      },
      "source": [
        "## Glossary\n",
        "\n",
        "**sequence:**\n",
        " An ordered collection of values where each value is identified by an integer index.\n",
        "\n",
        "**character:**\n",
        "An element of a string, including letters, numbers, and symbols.\n",
        "\n",
        "**index:**\n",
        " An integer value used to select an item in a sequence, such as a character in a string. In Python indices start from `0`.\n",
        "\n",
        "**slice:**\n",
        " A part of a string specified by a range of indices.\n",
        "\n",
        "**empty string:**\n",
        "A string that contains no characters and has length `0`.\n",
        "\n",
        "**object:**\n",
        " Something a variable can refer to. An object has a type and a value.\n",
        "\n",
        "**immutable:**\n",
        "If the elements of an object cannot be changed, the object is immutable.\n",
        "\n",
        "**invocation:**\n",
        " An expression -- or part of an expression -- that calls a method.\n",
        "\n",
        "**regular expression:**\n",
        "A sequence of characters that defines a search pattern.\n",
        "\n",
        "**pattern:**\n",
        "A rule that specifies the requirements a string has to meet to constitute a match.\n",
        "\n",
        "**string substitution:**\n",
        "Replacement of a string, or part of a string, with another string.\n",
        "\n",
        "**shell command:**\n",
        "A statement in a shell language, which is a language used to interact with an operating system."
      ]
    },
    {
      "cell_type": "markdown",
      "id": "4306e765",
      "metadata": {
        "id": "4306e765"
      },
      "source": [
        "## Exercises"
      ]
    },
    {
      "cell_type": "code",
      "execution_count": 83,
      "id": "18bced21",
      "metadata": {
        "tags": [],
        "id": "18bced21",
        "outputId": "d4d45599-2d69-494a-d26d-f73c509eabe1",
        "colab": {
          "base_uri": "https://localhost:8080/"
        }
      },
      "outputs": [
        {
          "output_type": "stream",
          "name": "stdout",
          "text": [
            "Exception reporting mode: Verbose\n"
          ]
        }
      ],
      "source": [
        "# This cell tells Jupyter to provide detailed debugging information\n",
        "# when a runtime error occurs. Run it before working on the exercises.\n",
        "\n",
        "%xmode Verbose"
      ]
    },
    {
      "cell_type": "code",
      "execution_count": 84,
      "id": "772f5c14",
      "metadata": {
        "tags": [],
        "id": "772f5c14",
        "outputId": "77dcb843-5784-478a-bbc3-0dee6708fa4f",
        "colab": {
          "base_uri": "https://localhost:8080/"
        }
      },
      "outputs": [
        {
          "output_type": "stream",
          "name": "stdout",
          "text": [
            "Downloaded words.txt\n"
          ]
        }
      ],
      "source": [
        "download('https://raw.githubusercontent.com/AllenDowney/ThinkPython/v3/words.txt');"
      ]
    },
    {
      "cell_type": "markdown",
      "id": "5be97ddc",
      "metadata": {
        "id": "5be97ddc"
      },
      "source": [
        "### Ask a virtual assistant\n",
        "\n",
        "In this chapter, we only scratched the surface of what regular expressions can do.\n",
        "To get an idea of what's possible, ask a virtual assistant, \"What are the most common special characters used in Python regular expressions?\"\n",
        "\n",
        "You can also ask for a pattern that matches particular kinds of strings.\n",
        "For example, try asking:\n",
        "\n",
        "* Write a Python regular expression that matches a 10-digit phone number with hyphens.\n",
        "\n",
        "* Write a Python regular expression that matches a street address with a number and a street name, followed by `ST` or `AVE`.\n",
        "\n",
        "* Write a Python regular expression that matches a full name with any common title like `Mr` or `Mrs` followed by any number of names beginning with capital letters, possibly with hyphens between some names.\n",
        "\n",
        "And if you want to see something more complicated, try asking for a regular expression that matches any legal URL.\n",
        "\n",
        "A regular expression often has the letter `r` before the quotation mark, which indicates that it is a \"raw string\".\n",
        "For more information, ask a virtual assistant, \"What is a raw string in Python?\""
      ]
    },
    {
      "cell_type": "code",
      "execution_count": 82,
      "id": "8650dec2",
      "metadata": {
        "tags": [],
        "id": "8650dec2"
      },
      "outputs": [],
      "source": [
        "from doctest import run_docstring_examples\n",
        "\n",
        "def run_doctests(func):\n",
        "    run_docstring_examples(func, globals(), name=func.__name__)"
      ]
    },
    {
      "cell_type": "markdown",
      "id": "20dcbbb3",
      "metadata": {
        "id": "20dcbbb3"
      },
      "source": [
        "### Exercise\n",
        "\n",
        "See if you can write a function that does the same thing as the shell command `!head`.\n",
        "It should take as arguments the name of a file to read, the number of lines to read, and the name of the file to write the lines into.\n",
        "If the third parameter is `None`, it should display the lines rather than write them to a file.\n",
        "\n",
        "Consider asking a virtual assistant for help, but if you do, tell it not to use a `with` statement or a `try` statement."
      ]
    },
    {
      "cell_type": "code",
      "execution_count": null,
      "id": "75b12538",
      "metadata": {
        "id": "75b12538"
      },
      "outputs": [],
      "source": [
        "# Solution goes here"
      ]
    },
    {
      "cell_type": "markdown",
      "id": "24f6aac3",
      "metadata": {
        "tags": [],
        "id": "24f6aac3"
      },
      "source": [
        "You can use the following examples to test your function."
      ]
    },
    {
      "cell_type": "code",
      "execution_count": null,
      "id": "9cbc19cd",
      "metadata": {
        "tags": [],
        "id": "9cbc19cd"
      },
      "outputs": [],
      "source": [
        "head('pg345_cleaned.txt', 10)"
      ]
    },
    {
      "cell_type": "code",
      "execution_count": null,
      "id": "19de7df0",
      "metadata": {
        "tags": [],
        "id": "19de7df0"
      },
      "outputs": [],
      "source": [
        "head('pg345_cleaned.txt', 100, 'pg345_cleaned_100_lines.txt')"
      ]
    },
    {
      "cell_type": "code",
      "execution_count": null,
      "id": "242f7ba6",
      "metadata": {
        "tags": [],
        "id": "242f7ba6"
      },
      "outputs": [],
      "source": [
        "!tail pg345_cleaned_100_lines.txt"
      ]
    },
    {
      "cell_type": "markdown",
      "id": "adb78357",
      "metadata": {
        "id": "adb78357"
      },
      "source": [
        "### Exercise\n",
        "\n",
        "\"Wordle\" is an online word game where the objective is to guess a five-letter word in six or fewer attempts.\n",
        "Each attempt has to be recognized as a word, not including proper nouns.\n",
        "After each attempt, you get information about which of the letters you guessed appear in the target word, and which ones are in the correct position.\n",
        "\n",
        "For example, suppose the target word is `MOWER` and you guess `TRIED`.\n",
        "You would learn that `E` is in the word and in the correct position, `R` is in the word but not in the correct position, and `T`, `I`, and `D` are not in the word.\n",
        "\n",
        "As a different example, suppose you have guessed the words `SPADE` and `CLERK`, and you've learned that `E` is in the word, but not in either of those positions, and none of the other letters appear in the word.\n",
        "Of the words in the word list, how many could be the target word?\n",
        "Write a function called `check_word` that takes a five-letter word and checks whether it could be the target word, given these guesses."
      ]
    },
    {
      "cell_type": "code",
      "execution_count": null,
      "id": "2a37092e",
      "metadata": {
        "id": "2a37092e"
      },
      "outputs": [],
      "source": [
        "# Solution goes here"
      ]
    },
    {
      "cell_type": "markdown",
      "id": "87fdf676",
      "metadata": {
        "id": "87fdf676"
      },
      "source": [
        "You can use any of the functions from the previous chapter, like `uses_any`."
      ]
    },
    {
      "cell_type": "code",
      "execution_count": null,
      "id": "8d19b6ce",
      "metadata": {
        "tags": [],
        "id": "8d19b6ce"
      },
      "outputs": [],
      "source": [
        "def uses_any(word, letters):\n",
        "    for letter in word.lower():\n",
        "        if letter in letters.lower():\n",
        "            return True\n",
        "    return False"
      ]
    },
    {
      "cell_type": "markdown",
      "id": "63593f1b",
      "metadata": {
        "tags": [],
        "id": "63593f1b"
      },
      "source": [
        "You can use the following loop to test your function."
      ]
    },
    {
      "cell_type": "code",
      "execution_count": null,
      "id": "9bbf0b1c",
      "metadata": {
        "tags": [],
        "id": "9bbf0b1c"
      },
      "outputs": [],
      "source": [
        "for line in open('words.txt'):\n",
        "    word = line.strip()\n",
        "    if len(word) == 5 and check_word(word):\n",
        "        print(word)"
      ]
    },
    {
      "cell_type": "markdown",
      "id": "d009cb52",
      "metadata": {
        "id": "d009cb52"
      },
      "source": [
        "### Exercise\n",
        "\n",
        "Continuing the previous exercise, suppose you guess the work `TOTEM` and learn that the `E` is *still* not in the right place, but the `M` is. How many words are left?"
      ]
    },
    {
      "cell_type": "code",
      "execution_count": null,
      "id": "925c7aa9",
      "metadata": {
        "id": "925c7aa9"
      },
      "outputs": [],
      "source": [
        "# Solution goes here"
      ]
    },
    {
      "cell_type": "code",
      "execution_count": null,
      "id": "3f658f3a",
      "metadata": {
        "id": "3f658f3a"
      },
      "outputs": [],
      "source": [
        "# Solution goes here"
      ]
    },
    {
      "cell_type": "markdown",
      "id": "c1d0f892",
      "metadata": {
        "id": "c1d0f892"
      },
      "source": [
        "### Exercise\n",
        "\n",
        "*The Count of Monte Cristo* is a novel by Alexandre Dumas that is considered a classic.\n",
        "Nevertheless, in the introduction of an English translation of the book, the writer Umberto Eco confesses that he found the book to be \"one of the most badly written novels of all time\".\n",
        "\n",
        "In particular, he says it is \"shameless in its repetition of the same adjective,\" and mentions in particular the number of times \"its characters either shudder or turn pale.\"\n",
        "\n",
        "To see whether his objection is valid, let's count the number number of lines that contain the word `pale` in any form, including `pale`, `pales`, `paled`, and `paleness`, as well as the related word `pallor`.\n",
        "Use a single regular expression that matches any of these words.\n",
        "As an additional challenge, make sure that it doesn't match any other words, like `impale` -- you might want to ask a virtual assistant for help."
      ]
    },
    {
      "cell_type": "markdown",
      "id": "742efd98",
      "metadata": {
        "tags": [],
        "id": "742efd98"
      },
      "source": [
        "The following cell downloads the book from Project Gutenberg <https://www.gutenberg.org/ebooks/1184>."
      ]
    },
    {
      "cell_type": "code",
      "execution_count": null,
      "id": "9a74be13",
      "metadata": {
        "tags": [],
        "id": "9a74be13"
      },
      "outputs": [],
      "source": [
        "import os\n",
        "\n",
        "if not os.path.exists('pg1184.txt'):\n",
        "    !wget https://www.gutenberg.org/cache/epub/1184/pg1184.txt"
      ]
    },
    {
      "cell_type": "markdown",
      "id": "881c2f99",
      "metadata": {
        "tags": [],
        "id": "881c2f99"
      },
      "source": [
        "The following cell runs a function that reads the file from Project Gutenberg and writes a file that contains only the text of the book, not the added information about the book."
      ]
    },
    {
      "cell_type": "code",
      "execution_count": null,
      "id": "946c63d2",
      "metadata": {
        "tags": [],
        "id": "946c63d2"
      },
      "outputs": [],
      "source": [
        "def clean_file(input_file, output_file):\n",
        "    reader = open(input_file)\n",
        "    writer = open(output_file, 'w')\n",
        "\n",
        "    for line in reader:\n",
        "        if is_special_line(line):\n",
        "            break\n",
        "\n",
        "    for line in reader:\n",
        "        if is_special_line(line):\n",
        "            break\n",
        "        writer.write(line)\n",
        "\n",
        "    reader.close()\n",
        "    writer.close()\n",
        "\n",
        "clean_file('pg1184.txt', 'pg1184_cleaned.txt')"
      ]
    },
    {
      "cell_type": "code",
      "execution_count": null,
      "id": "08294921",
      "metadata": {
        "id": "08294921"
      },
      "outputs": [],
      "source": [
        "# Solution goes here"
      ]
    },
    {
      "cell_type": "code",
      "execution_count": null,
      "id": "3eb8f83f",
      "metadata": {
        "id": "3eb8f83f"
      },
      "outputs": [],
      "source": [
        "# Solution goes here"
      ]
    },
    {
      "cell_type": "code",
      "execution_count": null,
      "id": "b6bffe8a",
      "metadata": {
        "id": "b6bffe8a"
      },
      "outputs": [],
      "source": [
        "# Solution goes here"
      ]
    },
    {
      "cell_type": "markdown",
      "id": "7db56337",
      "metadata": {
        "tags": [],
        "id": "7db56337"
      },
      "source": [
        "By this count, these words appear on `223` lines of the book, so Mr. Eco might have a point."
      ]
    },
    {
      "cell_type": "markdown",
      "id": "a7f4edf8",
      "metadata": {
        "tags": [],
        "id": "a7f4edf8"
      },
      "source": [
        "[Think Python: 3rd Edition](https://allendowney.github.io/ThinkPython/index.html)\n",
        "\n",
        "Copyright 2024 [Allen B. Downey](https://allendowney.com)\n",
        "\n",
        "Code license: [MIT License](https://mit-license.org/)\n",
        "\n",
        "Text license: [Creative Commons Attribution-NonCommercial-ShareAlike 4.0 International](https://creativecommons.org/licenses/by-nc-sa/4.0/)"
      ]
    }
  ],
  "metadata": {
    "celltoolbar": "Tags",
    "kernelspec": {
      "display_name": "Python 3 (ipykernel)",
      "language": "python",
      "name": "python3"
    },
    "language_info": {
      "codemirror_mode": {
        "name": "ipython",
        "version": 3
      },
      "file_extension": ".py",
      "mimetype": "text/x-python",
      "name": "python",
      "nbconvert_exporter": "python",
      "pygments_lexer": "ipython3",
      "version": "3.10.11"
    },
    "colab": {
      "provenance": []
    }
  },
  "nbformat": 4,
  "nbformat_minor": 5
}